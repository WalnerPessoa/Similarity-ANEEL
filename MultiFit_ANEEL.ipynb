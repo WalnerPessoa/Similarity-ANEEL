{
  "nbformat": 4,
  "nbformat_minor": 0,
  "metadata": {
    "colab": {
      "name": "MultiFit_ANEEL.ipynb",
      "provenance": [],
      "collapsed_sections": []
    },
    "kernelspec": {
      "name": "python3",
      "display_name": "Python 3"
    },
    "accelerator": "GPU"
  },
  "cells": [
    {
      "cell_type": "markdown",
      "metadata": {
        "id": "TfMUNBcAS1Hl",
        "colab_type": "text"
      },
      "source": [
        "# Text Representation of norms from ANEEL (National Electric Power Agency of Brazil).\n",
        "\n",
        "The models, encoders, strategies and code snippets were obtained in [Pierre Guillou Language Models](https://github.com/piegu/language-models). \n",
        "\n",
        "The ideia is to use a Portuguese Language Model with MultiFit and SentencePiece Tokenization to represent texts from ANEEL e relate the most similar.\n",
        "\n",
        "Developed by IEEE Computational Intelligence Society Student Chapter of University of Brasilia, Brazil.\n"
      ]
    },
    {
      "cell_type": "markdown",
      "metadata": {
        "id": "wvGB2yNnf7KB",
        "colab_type": "text"
      },
      "source": [
        "### Import and manage the modules and libraries."
      ]
    },
    {
      "cell_type": "code",
      "metadata": {
        "id": "VMtxdKU3An6U",
        "colab_type": "code",
        "colab": {}
      },
      "source": [
        "import gdown\n",
        "  # Allows to download files from its URL\n",
        "\n",
        "from fastai import *\n",
        "from fastai.text import *\n",
        "from fastai.callbacks import *\n",
        "\n",
        "! pip install sentencepiece\n",
        "  # Intall module to make the SP tokenization\n",
        "\n",
        "! pip install Ninja\n",
        "! pip install -U fastai\n",
        "  # Ninja is required to use QRNN architecture.\n",
        "\n",
        "%reload_ext autoreload\n",
        "%autoreload 2\n",
        "%matplotlib inline\n"
      ],
      "execution_count": 0,
      "outputs": []
    },
    {
      "cell_type": "markdown",
      "metadata": {
        "id": "vkrMXKx9nBlP",
        "colab_type": "text"
      },
      "source": [
        "### Importing and extracting of the model.\n",
        "\n",
        "The '.tgz' file was downloaded from the link above and uploaded into the Google Colab plataform."
      ]
    },
    {
      "cell_type": "code",
      "metadata": {
        "id": "G4Ifw5_QnikG",
        "colab_type": "code",
        "colab": {}
      },
      "source": [
        "def download(id):\n",
        "  url = 'https://drive.google.com/uc?id=' + str(id)\n",
        "  gdown.download(url, output = None, quiet = False)"
      ],
      "execution_count": 0,
      "outputs": []
    },
    {
      "cell_type": "code",
      "metadata": {
        "id": "IALRFs7hAxeK",
        "colab_type": "code",
        "colab": {
          "base_uri": "https://localhost:8080/",
          "height": 85
        },
        "outputId": "f34e92da-8254-4a58-c4c8-4c1fd776a054"
      },
      "source": [
        "download(\"1NmH1Ug1YeontgAlgbvZxNZ115WNoZNjq\")"
      ],
      "execution_count": 4,
      "outputs": [
        {
          "output_type": "stream",
          "text": [
            "Downloading...\n",
            "From: https://drive.google.com/uc?id=1NmH1Ug1YeontgAlgbvZxNZ115WNoZNjq\n",
            "To: /content/pt_lm_sp15_multifit.tgz\n",
            "194MB [00:03, 62.5MB/s]\n"
          ],
          "name": "stderr"
        }
      ]
    },
    {
      "cell_type": "code",
      "metadata": {
        "id": "aGs5s5h2A16_",
        "colab_type": "code",
        "colab": {
          "base_uri": "https://localhost:8080/",
          "height": 34
        },
        "outputId": "1632f381-94ae-4796-f19c-fe5ceff0f070"
      },
      "source": [
        "! ls"
      ],
      "execution_count": 5,
      "outputs": [
        {
          "output_type": "stream",
          "text": [
            "pt_lm_sp15_multifit.tgz  sample_data\n"
          ],
          "name": "stdout"
        }
      ]
    },
    {
      "cell_type": "code",
      "metadata": {
        "id": "w2g71PMynsJV",
        "colab_type": "code",
        "colab": {
          "base_uri": "https://localhost:8080/",
          "height": 136
        },
        "outputId": "becc5d26-2197-4f23-8985-e539321bd3f3"
      },
      "source": [
        "! tar zxvf pt_lm_sp15_multifit.tgz"
      ],
      "execution_count": 6,
      "outputs": [
        {
          "output_type": "stream",
          "text": [
            "pt_lm_sp15_multifit/\n",
            "pt_lm_sp15_multifit/pt_wt_sp15_multifit.pth\n",
            "pt_lm_sp15_multifit/pt_wt_sp15_multifit_bwd.pth\n",
            "pt_lm_sp15_multifit/pt_wt_vocab_sp15_multifit.pkl\n",
            "pt_lm_sp15_multifit/pt_wt_vocab_sp15_multifit_bwd.pkl\n",
            "pt_lm_sp15_multifit/spm.model\n",
            "pt_lm_sp15_multifit/spm.vocab\n"
          ],
          "name": "stdout"
        }
      ]
    },
    {
      "cell_type": "markdown",
      "metadata": {
        "id": "PgNxXKc3ojZ9",
        "colab_type": "text"
      },
      "source": [
        "### Obtaining ANEEL norms DataSet.\n",
        "\n",
        "The target texts have been allocated in a CSV file with additional relevant information.\n",
        "\n",
        "The file (DataSet) is available in a GitHub repository."
      ]
    },
    {
      "cell_type": "code",
      "metadata": {
        "id": "mK7R0BWJpUQe",
        "colab_type": "code",
        "colab": {
          "base_uri": "https://localhost:8080/",
          "height": 119
        },
        "outputId": "9fb1a9c7-b0d3-4978-c847-e4ea7a763234"
      },
      "source": [
        "! git clone https://github.com/thiagodma/Similarity-ANEEL\n",
        "! mv Similarity-ANEEL/LanguageModelFile.csv ./"
      ],
      "execution_count": 7,
      "outputs": [
        {
          "output_type": "stream",
          "text": [
            "Cloning into 'Similarity-ANEEL'...\n",
            "remote: Enumerating objects: 23, done.\u001b[K\n",
            "remote: Counting objects: 100% (23/23), done.\u001b[K\n",
            "remote: Compressing objects: 100% (17/17), done.\u001b[K\n",
            "remote: Total 78 (delta 9), reused 18 (delta 6), pack-reused 55\u001b[K\n",
            "Unpacking objects: 100% (78/78), done.\n"
          ],
          "name": "stdout"
        }
      ]
    },
    {
      "cell_type": "code",
      "metadata": {
        "id": "K8IJ2OhXzDlW",
        "colab_type": "code",
        "colab": {}
      },
      "source": [
        "! mkdir pt_lm_sp15_multifit/tmp"
      ],
      "execution_count": 0,
      "outputs": []
    },
    {
      "cell_type": "code",
      "metadata": {
        "id": "EE9Y02sqzSl3",
        "colab_type": "code",
        "colab": {
          "base_uri": "https://localhost:8080/",
          "height": 34
        },
        "outputId": "6d7be1d8-0849-4255-a7f3-825d73b74090"
      },
      "source": [
        "! cd pt_lm_sp15_multifit/ ; mv spm.model spm.vocab tmp/\n",
        "! ls pt_lm_sp15_multifit/tmp"
      ],
      "execution_count": 9,
      "outputs": [
        {
          "output_type": "stream",
          "text": [
            "spm.model  spm.vocab\n"
          ],
          "name": "stdout"
        }
      ]
    },
    {
      "cell_type": "code",
      "metadata": {
        "id": "3Z4DQ3aP5K61",
        "colab_type": "code",
        "colab": {}
      },
      "source": [
        "! mkdir models\n",
        "! mv pt_lm_sp15_multifit/* models/"
      ],
      "execution_count": 0,
      "outputs": []
    },
    {
      "cell_type": "code",
      "metadata": {
        "id": "Cyrcf32kEAJc",
        "colab_type": "code",
        "colab": {
          "base_uri": "https://localhost:8080/",
          "height": 51
        },
        "outputId": "c3fed064-5bb1-43d4-d165-3105b818b0d8"
      },
      "source": [
        "! ls models/"
      ],
      "execution_count": 24,
      "outputs": [
        {
          "output_type": "stream",
          "text": [
            "pt_wt_sp15_multifit_bwd.pth  pt_wt_vocab_sp15_multifit_bwd.pkl\ttmp\n",
            "pt_wt_sp15_multifit.pth      pt_wt_vocab_sp15_multifit.pkl\n"
          ],
          "name": "stdout"
        }
      ]
    },
    {
      "cell_type": "markdown",
      "metadata": {
        "id": "n8QYy_Fyq7rf",
        "colab_type": "text"
      },
      "source": [
        "## Initialisation"
      ]
    },
    {
      "cell_type": "code",
      "metadata": {
        "id": "Ofv59e6j3e2Y",
        "colab_type": "code",
        "colab": {}
      },
      "source": [
        "bs = 48\n",
        "\n",
        "torch.cuda.set_device(0)"
      ],
      "execution_count": 0,
      "outputs": []
    },
    {
      "cell_type": "code",
      "metadata": {
        "id": "lyGOna_P5B6M",
        "colab_type": "code",
        "colab": {}
      },
      "source": [
        "lm_fns3 = ['pt_wt_sp15_multifit', 'pt_wt_vocab_sp15_multifit']"
      ],
      "execution_count": 0,
      "outputs": []
    },
    {
      "cell_type": "code",
      "metadata": {
        "id": "FcmlDL0z17cc",
        "colab_type": "code",
        "colab": {}
      },
      "source": [
        "from sklearn.metrics import f1_score\n",
        "\n",
        "@np_func\n",
        "def f1(inp,targ): return f1_score(targ, np.argmax(inp, axis=-1), average='weighted')"
      ],
      "execution_count": 0,
      "outputs": []
    },
    {
      "cell_type": "code",
      "metadata": {
        "id": "MPt_3s2t2AmX",
        "colab_type": "code",
        "colab": {}
      },
      "source": [
        "# source: https://github.com/fastai/fastai/blob/master//fastai/layers.py#L300:7\n",
        "# blog: https://bfarzin.github.io/Label-Smoothing/\n",
        "class WeightedLabelSmoothingCrossEntropy(nn.Module):\n",
        "    def __init__(self, weight, eps:float=0.1, reduction='mean'):\n",
        "        super().__init__()\n",
        "        self.weight,self.eps,self.reduction = weight,eps,reduction\n",
        "        \n",
        "    def forward(self, output, target):\n",
        "        c = output.size()[-1]\n",
        "        log_preds = F.log_softmax(output, dim=-1)\n",
        "        if self.reduction=='sum': loss = -log_preds.sum()\n",
        "        else:\n",
        "            loss = -log_preds.sum(dim=-1)\n",
        "            if self.reduction=='mean':  loss = loss.mean()\n",
        "        return loss*self.eps/c + (1-self.eps) * F.nll_loss(log_preds, target, weight=self.weight, reduction=self.reduction)"
      ],
      "execution_count": 0,
      "outputs": []
    },
    {
      "cell_type": "code",
      "metadata": {
        "id": "lvV1eMHY2EVH",
        "colab_type": "code",
        "colab": {}
      },
      "source": [
        "import warnings\n",
        "warnings.filterwarnings('ignore')  # \"error\", \"ignore\", \"always\", \"default\", \"module\" or \"on\""
      ],
      "execution_count": 0,
      "outputs": []
    },
    {
      "cell_type": "markdown",
      "metadata": {
        "id": "AyEuZ19CtX8s",
        "colab_type": "text"
      },
      "source": [
        "### Data"
      ]
    },
    {
      "cell_type": "code",
      "metadata": {
        "id": "kjx1ZRcjrE-9",
        "colab_type": "code",
        "colab": {
          "base_uri": "https://localhost:8080/",
          "height": 666
        },
        "outputId": "e7f37913-146d-42c1-fa77-3e0c77a7a29b"
      },
      "source": [
        "df = pd.read_csv('LanguageModelFile.csv', delimiter='|')\n",
        "df.head()"
      ],
      "execution_count": 30,
      "outputs": [
        {
          "output_type": "execute_result",
          "data": {
            "text/html": [
              "<div>\n",
              "<style scoped>\n",
              "    .dataframe tbody tr th:only-of-type {\n",
              "        vertical-align: middle;\n",
              "    }\n",
              "\n",
              "    .dataframe tbody tr th {\n",
              "        vertical-align: top;\n",
              "    }\n",
              "\n",
              "    .dataframe thead th {\n",
              "        text-align: right;\n",
              "    }\n",
              "</style>\n",
              "<table border=\"1\" class=\"dataframe\">\n",
              "  <thead>\n",
              "    <tr style=\"text-align: right;\">\n",
              "      <th></th>\n",
              "      <th>Unnamed: 0</th>\n",
              "      <th>Norma</th>\n",
              "      <th>Data de publicação</th>\n",
              "      <th>Ementa</th>\n",
              "      <th>Órgão de origem</th>\n",
              "      <th>Assuntos</th>\n",
              "      <th>Texto Integral</th>\n",
              "      <th>Tipo</th>\n",
              "      <th>Filename</th>\n",
              "      <th>Texto Extraído</th>\n",
              "    </tr>\n",
              "  </thead>\n",
              "  <tbody>\n",
              "    <tr>\n",
              "      <th>0</th>\n",
              "      <td>0</td>\n",
              "      <td>INA - INSTRUÇÃO ADMINISTRATIVA 001/2019</td>\n",
              "      <td>05/04/2019</td>\n",
              "      <td>Dispõe sobre procedimentos para atualização, m...</td>\n",
              "      <td>SGI/ANEEL</td>\n",
              "      <td>Procedimento \\n</td>\n",
              "      <td>http://www2.aneel.gov.br/cedoc/ina2019001sgi.pdf</td>\n",
              "      <td>INA</td>\n",
              "      <td>ina2019001sgi.pdf</td>\n",
              "      <td>AGÊNCIA NACIONAL DE ENERGIA ELÉTRICA - ANEEL  ...</td>\n",
              "    </tr>\n",
              "    <tr>\n",
              "      <th>1</th>\n",
              "      <td>1</td>\n",
              "      <td>INA - INSTRUÇÃO ADMINISTRATIVA 001/2018</td>\n",
              "      <td>25/05/2018</td>\n",
              "      <td>Dispõe sobre procedimentos para a manutenção d...</td>\n",
              "      <td>SGI/ANEEL</td>\n",
              "      <td>Procedimento \\n</td>\n",
              "      <td>http://www2.aneel.gov.br/cedoc/ina2018001sgi.pdf</td>\n",
              "      <td>INA</td>\n",
              "      <td>ina2018001sgi.pdf</td>\n",
              "      <td>AGÊNCIA NACIONAL DE ENERGIA ELÉTRICA - ANEEL  ...</td>\n",
              "    </tr>\n",
              "    <tr>\n",
              "      <th>2</th>\n",
              "      <td>2</td>\n",
              "      <td>INA - INSTRUÇÃO ADMINISTRATIVA 001/2018</td>\n",
              "      <td>04/05/2018</td>\n",
              "      <td>Altera o limite do valor de reembolso relativo...</td>\n",
              "      <td>SRH/ANEEL</td>\n",
              "      <td>Alteração \\n</td>\n",
              "      <td>http://www2.aneel.gov.br/cedoc/ina2018001srh.pdf</td>\n",
              "      <td>INA</td>\n",
              "      <td>ina2018001srh.pdf</td>\n",
              "      <td>AGÊNCIA NACIONAL DE ENERGIA ELÉTRICA - ANEEL  ...</td>\n",
              "    </tr>\n",
              "    <tr>\n",
              "      <th>3</th>\n",
              "      <td>3</td>\n",
              "      <td>INA - INSTRUÇÃO ADMINISTRATIVA 002/2019</td>\n",
              "      <td>20/05/2019</td>\n",
              "      <td>Dispõe sobre a composição e o funcionamento do...</td>\n",
              "      <td>SGI/ANEEL</td>\n",
              "      <td>Fixação \\n</td>\n",
              "      <td>http://www2.aneel.gov.br/cedoc/ina2019002sgi.pdf</td>\n",
              "      <td>INA</td>\n",
              "      <td>ina2019002sgi.pdf</td>\n",
              "      <td>AGÊNCIA NACIONAL DE ENERGIA ELÉTRICA  ANEEL   ...</td>\n",
              "    </tr>\n",
              "    <tr>\n",
              "      <th>4</th>\n",
              "      <td>4</td>\n",
              "      <td>INA - INSTRUÇÃO ADMINISTRATIVA 003/2019</td>\n",
              "      <td>13/09/2019</td>\n",
              "      <td>Dispõe sobre a definição de acrônimos das coor...</td>\n",
              "      <td>SGI/ANEEL</td>\n",
              "      <td>Fixação \\n</td>\n",
              "      <td>http://www2.aneel.gov.br/cedoc/ina2019003sgi.pdf</td>\n",
              "      <td>INA</td>\n",
              "      <td>ina2019003sgi.pdf</td>\n",
              "      <td>AGÊNCIA NACIONAL DE ENERGIA ELÉTRICA - ANEEL  ...</td>\n",
              "    </tr>\n",
              "  </tbody>\n",
              "</table>\n",
              "</div>"
            ],
            "text/plain": [
              "   Unnamed: 0  ...                                     Texto Extraído\n",
              "0           0  ...  AGÊNCIA NACIONAL DE ENERGIA ELÉTRICA - ANEEL  ...\n",
              "1           1  ...  AGÊNCIA NACIONAL DE ENERGIA ELÉTRICA - ANEEL  ...\n",
              "2           2  ...  AGÊNCIA NACIONAL DE ENERGIA ELÉTRICA - ANEEL  ...\n",
              "3           3  ...  AGÊNCIA NACIONAL DE ENERGIA ELÉTRICA  ANEEL   ...\n",
              "4           4  ...  AGÊNCIA NACIONAL DE ENERGIA ELÉTRICA - ANEEL  ...\n",
              "\n",
              "[5 rows x 10 columns]"
            ]
          },
          "metadata": {
            "tags": []
          },
          "execution_count": 30
        }
      ]
    },
    {
      "cell_type": "code",
      "metadata": {
        "id": "zUea_v07rX1p",
        "colab_type": "code",
        "colab": {
          "base_uri": "https://localhost:8080/",
          "height": 204
        },
        "outputId": "4278ba2e-c60d-49d3-bc11-189548cfdbfe"
      },
      "source": [
        "df.isnull().sum()"
      ],
      "execution_count": 31,
      "outputs": [
        {
          "output_type": "execute_result",
          "data": {
            "text/plain": [
              "Unnamed: 0             0\n",
              "Norma                  0\n",
              "Data de publicação     0\n",
              "Ementa                 0\n",
              "Órgão de origem        0\n",
              "Assuntos               0\n",
              "Texto Integral         0\n",
              "Tipo                   0\n",
              "Filename               0\n",
              "Texto Extraído        12\n",
              "dtype: int64"
            ]
          },
          "metadata": {
            "tags": []
          },
          "execution_count": 31
        }
      ]
    },
    {
      "cell_type": "markdown",
      "metadata": {
        "id": "N9O15irtrdyT",
        "colab_type": "text"
      },
      "source": [
        "\n",
        "Here it was identified that exist NaN cells in the DataFrame, whose colunms should be stripped."
      ]
    },
    {
      "cell_type": "code",
      "metadata": {
        "id": "suGIbaCarciy",
        "colab_type": "code",
        "colab": {
          "base_uri": "https://localhost:8080/",
          "height": 204
        },
        "outputId": "a9463a64-cdad-4146-d8cf-909dd5b513d7"
      },
      "source": [
        "df_tv = df.dropna()\n",
        "df_tv.isnull().sum()"
      ],
      "execution_count": 32,
      "outputs": [
        {
          "output_type": "execute_result",
          "data": {
            "text/plain": [
              "Unnamed: 0            0\n",
              "Norma                 0\n",
              "Data de publicação    0\n",
              "Ementa                0\n",
              "Órgão de origem       0\n",
              "Assuntos              0\n",
              "Texto Integral        0\n",
              "Tipo                  0\n",
              "Filename              0\n",
              "Texto Extraído        0\n",
              "dtype: int64"
            ]
          },
          "metadata": {
            "tags": []
          },
          "execution_count": 32
        }
      ]
    },
    {
      "cell_type": "code",
      "metadata": {
        "id": "ss-hI4SMrnw0",
        "colab_type": "code",
        "colab": {}
      },
      "source": [
        "df_tv.to_csv('LanguageModelFile_cleaned.csv', sep='|')"
      ],
      "execution_count": 0,
      "outputs": []
    },
    {
      "cell_type": "markdown",
      "metadata": {
        "id": "T9nsiG3Zu51k",
        "colab_type": "text"
      },
      "source": [
        "## Fine-tuning \"forward LM\""
      ]
    },
    {
      "cell_type": "code",
      "metadata": {
        "id": "JGC-KJn5ySWq",
        "colab_type": "code",
        "colab": {}
      },
      "source": [
        "reviews = \"Texto Extraído\"\n",
        "label = \"Assuntos\""
      ],
      "execution_count": 0,
      "outputs": []
    },
    {
      "cell_type": "code",
      "metadata": {
        "id": "StiMYSnMwOk3",
        "colab_type": "code",
        "colab": {}
      },
      "source": [
        "data_lm = (TextList.from_df(df_tv, '.', cols=reviews, processor=SPProcessor.load('models/'))\n",
        "            .split_by_rand_pct(0.1, seed=42)\n",
        "            .label_for_lm()           \n",
        "            .databunch(bs=bs, num_workers=1))\n",
        "\n",
        "# Why fastai.text doesn't come with SentencePiece module?"
      ],
      "execution_count": 0,
      "outputs": []
    },
    {
      "cell_type": "code",
      "metadata": {
        "id": "ambUqTMsyOav",
        "colab_type": "code",
        "colab": {
          "base_uri": "https://localhost:8080/",
          "height": 442
        },
        "outputId": "82e9ccfc-6ad6-4396-d8fd-8acf4695e2a0"
      },
      "source": [
        "data_lm.show_batch()"
      ],
      "execution_count": 59,
      "outputs": [
        {
          "output_type": "display_data",
          "data": {
            "text/html": [
              "<table border=\"1\" class=\"dataframe\">\n",
              "  <thead>\n",
              "    <tr style=\"text-align: right;\">\n",
              "      <th>idx</th>\n",
              "      <th>text</th>\n",
              "    </tr>\n",
              "  </thead>\n",
              "  <tbody>\n",
              "    <tr>\n",
              "      <td>0</td>\n",
              "      <td>▁re posição , ▁bem ▁como ▁mantendo ▁pessoal ▁técnico ▁e ▁administrativo , ▁próprio ▁ou ▁de ▁terceiro s , ▁legal mente ▁habilita do ▁e ▁treinado ▁e ▁em ▁número ▁suficiente ▁para ▁assegurar ▁a ▁continuidade , ▁a ▁regular idade , ▁a ▁eficiência ▁e ▁a ▁segurança ▁da ▁exploração ▁da ▁xxup ▁p ch ; ▁xxup ▁xi ▁ - ▁sub me ter - se ▁à ▁fiscalização , ▁permitindo ▁aos ▁técnicos ▁da ▁xxup ▁a ne el , ▁em</td>\n",
              "    </tr>\n",
              "    <tr>\n",
              "      <td>1</td>\n",
              "      <td>▁xxup ▁ lt ▁1 38 ▁k v ▁xxup ▁santa ▁xxup ▁cruz ▁/ ▁xxup ▁palma res ▁xxup ▁ rj ▁xxup ▁ ld ▁xxmaj ▁em ▁operação ▁ light - d ▁xxup ▁fur nas ▁xxup ▁ lt ▁1 38 ▁k v ▁xxup ▁santa ▁xxup ▁cruz ▁/ ▁xxup ▁zona ▁xxup ▁indu s tr . ▁xxup ▁ rj ▁xxup ▁ ld ▁xxmaj ▁em ▁operação ▁ light - d ▁xxup ▁fur nas ▁xxup ▁ lt ▁1</td>\n",
              "    </tr>\n",
              "    <tr>\n",
              "      <td>2</td>\n",
              "      <td>▁época s ▁próprias ▁definida s , ▁da ▁xxmaj ▁taxa ▁de ▁xxmaj ▁fiscalização ▁de ▁xxmaj ▁serviços ▁de ▁xxmaj ▁energia ▁xxmaj ▁elétrica , ▁nos ▁termos ▁da ▁legislação ▁específica ; ▁xxup ▁iv ▁ - ▁celebra r ▁os ▁contrato s ▁de ▁uso ▁e ▁de ▁conexão ▁dos ▁sistemas ▁de ▁transmissão ▁e ▁distribuição ▁para ▁atendimento ▁eventual ▁da ▁carga ▁quando ▁de ▁ indi s pon ibilidade ▁da ▁geração , ▁nos ▁termos ▁da ▁legislação ▁e ▁normas ▁específicas ;</td>\n",
              "    </tr>\n",
              "    <tr>\n",
              "      <td>3</td>\n",
              "      <td>hí d rico s , ▁providencia ndo ▁as ▁licença s ▁correspondente s ; ▁x ▁ - ▁sub me ter - se ▁a ▁toda ▁e ▁qualquer ▁regulamenta ção ▁de ▁caráter ▁geral ▁ou ▁que ▁ ve nha ▁a ▁ser ▁estabelecida ▁pela ▁xxup ▁a ne el , ▁especialmente ▁aquela s ▁relativa s ▁à ▁produção ▁independente ▁de ▁energia ▁elétrica ; ▁xxup ▁xi ▁ - ▁presta r ▁todas ▁as ▁informações ▁relativa s ▁ao ▁andamento ▁do</td>\n",
              "    </tr>\n",
              "    <tr>\n",
              "      <td>4</td>\n",
              "      <td>, ▁de ▁acordo ▁com ▁de libera ção ▁da ▁xxmaj ▁diretoria , ▁tendo ▁em ▁vista ▁o ▁disposto ▁no ▁art . ▁29 , ▁ inci so ▁xxup ▁i , ▁da ▁xxmaj ▁lei ▁no ▁8 . 98 7 , ▁de ▁13 ▁de ▁fevereiro ▁de ▁1995, ▁no ▁art . ▁2 o ▁da ▁xxmaj ▁lei ▁no ▁9 . 4 27 , ▁de ▁26 ▁de ▁dezembro ▁de ▁1996, ▁no ▁xxmaj ▁anexo ▁xxup ▁i , ▁art .</td>\n",
              "    </tr>\n",
              "  </tbody>\n",
              "</table>"
            ],
            "text/plain": [
              "<IPython.core.display.HTML object>"
            ]
          },
          "metadata": {
            "tags": []
          }
        }
      ]
    },
    {
      "cell_type": "code",
      "metadata": {
        "id": "hx8u0AtG3zCk",
        "colab_type": "code",
        "colab": {}
      },
      "source": [
        "data_lm.save('aneel_norms_sp15_multifit_v1')"
      ],
      "execution_count": 0,
      "outputs": []
    },
    {
      "cell_type": "markdown",
      "metadata": {
        "id": "R94ctzoh4MMI",
        "colab_type": "text"
      },
      "source": [
        "#### Training"
      ]
    },
    {
      "cell_type": "code",
      "metadata": {
        "id": "1QnRnWac4OVZ",
        "colab_type": "code",
        "colab": {}
      },
      "source": [
        "config = awd_lstm_lm_config.copy()\n",
        "config['qrnn'] = True\n",
        "config['n_hid'] = 1550 #default 1152\n",
        "config['n_layers'] = 4 #default 3"
      ],
      "execution_count": 0,
      "outputs": []
    },
    {
      "cell_type": "markdown",
      "metadata": {
        "id": "sTtEaX4Chtak",
        "colab_type": "text"
      },
      "source": [
        "#### At first, the loss function won't be changed."
      ]
    },
    {
      "cell_type": "code",
      "metadata": {
        "id": "VVKvW6EI4jTv",
        "colab_type": "code",
        "colab": {}
      },
      "source": [
        "perplexity = Perplexity()\n",
        "\n",
        "learn_lm = language_model_learner(data_lm, AWD_LSTM, config=config, \n",
        "                                  pretrained_fnames=lm_fns3, drop_mult=1.,\n",
        "                                  metrics=[error_rate, accuracy, perplexity]).to_fp16()"
      ],
      "execution_count": 0,
      "outputs": []
    },
    {
      "cell_type": "code",
      "metadata": {
        "id": "mgGupz25iBan",
        "colab_type": "code",
        "colab": {
          "base_uri": "https://localhost:8080/",
          "height": 34
        },
        "outputId": "20f9a2ab-2b17-4032-f0d2-c127497a87e2"
      },
      "source": [
        "learn_lm.loss_func"
      ],
      "execution_count": 40,
      "outputs": [
        {
          "output_type": "execute_result",
          "data": {
            "text/plain": [
              "FlattenedLoss of CrossEntropyLoss()"
            ]
          },
          "metadata": {
            "tags": []
          },
          "execution_count": 40
        }
      ]
    },
    {
      "cell_type": "code",
      "metadata": {
        "id": "_PwXPTAcEuGK",
        "colab_type": "code",
        "colab": {
          "base_uri": "https://localhost:8080/",
          "height": 34
        },
        "outputId": "f6f982d0-b7ac-44af-fb71-e2be7c845c78"
      },
      "source": [
        "learn_lm.lr_find()"
      ],
      "execution_count": 39,
      "outputs": [
        {
          "output_type": "display_data",
          "data": {
            "text/html": [
              ""
            ],
            "text/plain": [
              "<IPython.core.display.HTML object>"
            ]
          },
          "metadata": {
            "tags": []
          }
        },
        {
          "output_type": "stream",
          "text": [
            "LR Finder is complete, type {learner_name}.recorder.plot() to see the graph.\n"
          ],
          "name": "stdout"
        }
      ]
    },
    {
      "cell_type": "code",
      "metadata": {
        "id": "kqPwMBxOiEH5",
        "colab_type": "code",
        "colab": {
          "base_uri": "https://localhost:8080/",
          "height": 313
        },
        "outputId": "01a1ce73-512f-47af-8367-b6d97e275568"
      },
      "source": [
        "learn_lm.recorder.plot(suggestion=True)"
      ],
      "execution_count": 41,
      "outputs": [
        {
          "output_type": "stream",
          "text": [
            "Min numerical gradient: 6.92E-02\n",
            "Min loss divided by 10: 4.37E-02\n"
          ],
          "name": "stdout"
        },
        {
          "output_type": "display_data",
          "data": {
            "image/png": "[encoded data removed]",
            "text/plain": [
              "<Figure size 432x288 with 1 Axes>"
            ]
          },
          "metadata": {
            "tags": []
          }
        }
      ]
    },
    {
      "cell_type": "code",
      "metadata": {
        "id": "7_HxQC8ljmps",
        "colab_type": "code",
        "colab": {}
      },
      "source": [
        "# First adjustment:\n",
        "#lr = 6.92e-2\n",
        "#wd = 0.1\n",
        "\n",
        "# Second adjustment:\n",
        "lr = 2e-2\n",
        "wd = 0.1"
      ],
      "execution_count": 0,
      "outputs": []
    },
    {
      "cell_type": "code",
      "metadata": {
        "id": "eeu1goHSkwbI",
        "colab_type": "code",
        "colab": {
          "base_uri": "https://localhost:8080/",
          "height": 111
        },
        "outputId": "9253b483-a43f-4959-a682-6fe8a8e1bbe3"
      },
      "source": [
        "learn_lm.fit_one_cycle(2, lr*10, wd=wd, moms=(0.8,0.7))\n",
        "#learn_lm.fit_one_cycle(2, lr, wd=wd, moms=(0.8,0.7))"
      ],
      "execution_count": 49,
      "outputs": [
        {
          "output_type": "display_data",
          "data": {
            "text/html": [
              "<table border=\"1\" class=\"dataframe\">\n",
              "  <thead>\n",
              "    <tr style=\"text-align: left;\">\n",
              "      <th>epoch</th>\n",
              "      <th>train_loss</th>\n",
              "      <th>valid_loss</th>\n",
              "      <th>error_rate</th>\n",
              "      <th>accuracy</th>\n",
              "      <th>perplexity</th>\n",
              "      <th>time</th>\n",
              "    </tr>\n",
              "  </thead>\n",
              "  <tbody>\n",
              "    <tr>\n",
              "      <td>0</td>\n",
              "      <td>40.612171</td>\n",
              "      <td>18.516800</td>\n",
              "      <td>0.985198</td>\n",
              "      <td>0.014802</td>\n",
              "      <td>110089232.000000</td>\n",
              "      <td>01:22</td>\n",
              "    </tr>\n",
              "    <tr>\n",
              "      <td>1</td>\n",
              "      <td>4.869772</td>\n",
              "      <td>4.334821</td>\n",
              "      <td>0.740024</td>\n",
              "      <td>0.259976</td>\n",
              "      <td>76.311317</td>\n",
              "      <td>01:22</td>\n",
              "    </tr>\n",
              "  </tbody>\n",
              "</table>"
            ],
            "text/plain": [
              "<IPython.core.display.HTML object>"
            ]
          },
          "metadata": {
            "tags": []
          }
        }
      ]
    },
    {
      "cell_type": "code",
      "metadata": {
        "id": "MUZfjiTDlpxH",
        "colab_type": "code",
        "colab": {
          "base_uri": "https://localhost:8080/",
          "height": 1000
        },
        "outputId": "1140d7c4-f012-48a2-936d-62cca0988317"
      },
      "source": [
        "learn_lm.unfreeze()\n",
        "learn_lm.fit_one_cycle(5, lr, wd=wd, moms=(0.8,0.7), callbacks=[ShowGraph(learn_lm)])"
      ],
      "execution_count": 50,
      "outputs": [
        {
          "output_type": "display_data",
          "data": {
            "text/html": [
              "\n",
              "    <div>\n",
              "        <style>\n",
              "            /* Turns off some styling */\n",
              "            progress {\n",
              "                /* gets rid of default border in Firefox and Opera. */\n",
              "                border: none;\n",
              "                /* Needs to be in here for Safari polyfill so background images work as expected. */\n",
              "                background-size: auto;\n",
              "            }\n",
              "            .progress-bar-interrupted, .progress-bar-interrupted::-webkit-progress-bar {\n",
              "                background: #F44336;\n",
              "            }\n",
              "        </style>\n",
              "      <progress value='3' class='' max='18', style='width:300px; height:20px; vertical-align: middle;'></progress>\n",
              "      16.67% [3/18 05:34<27:54]\n",
              "    </div>\n",
              "    \n",
              "<table border=\"1\" class=\"dataframe\">\n",
              "  <thead>\n",
              "    <tr style=\"text-align: left;\">\n",
              "      <th>epoch</th>\n",
              "      <th>train_loss</th>\n",
              "      <th>valid_loss</th>\n",
              "      <th>error_rate</th>\n",
              "      <th>accuracy</th>\n",
              "      <th>perplexity</th>\n",
              "      <th>time</th>\n",
              "    </tr>\n",
              "  </thead>\n",
              "  <tbody>\n",
              "    <tr>\n",
              "      <td>0</td>\n",
              "      <td>2.523909</td>\n",
              "      <td>2.358563</td>\n",
              "      <td>0.462573</td>\n",
              "      <td>0.537427</td>\n",
              "      <td>10.575747</td>\n",
              "      <td>01:51</td>\n",
              "    </tr>\n",
              "    <tr>\n",
              "      <td>1</td>\n",
              "      <td>2.639926</td>\n",
              "      <td>2.564749</td>\n",
              "      <td>0.486158</td>\n",
              "      <td>0.513842</td>\n",
              "      <td>12.997386</td>\n",
              "      <td>01:50</td>\n",
              "    </tr>\n",
              "    <tr>\n",
              "      <td>2</td>\n",
              "      <td>3.195114</td>\n",
              "      <td>3.191933</td>\n",
              "      <td>0.568339</td>\n",
              "      <td>0.431661</td>\n",
              "      <td>24.335426</td>\n",
              "      <td>01:51</td>\n",
              "    </tr>\n",
              "  </tbody>\n",
              "</table><p>\n",
              "\n",
              "    <div>\n",
              "        <style>\n",
              "            /* Turns off some styling */\n",
              "            progress {\n",
              "                /* gets rid of default border in Firefox and Opera. */\n",
              "                border: none;\n",
              "                /* Needs to be in here for Safari polyfill so background images work as expected. */\n",
              "                background-size: auto;\n",
              "            }\n",
              "            .progress-bar-interrupted, .progress-bar-interrupted::-webkit-progress-bar {\n",
              "                background: #F44336;\n",
              "            }\n",
              "        </style>\n",
              "      <progress value='0' class='progress-bar-interrupted' max='1090', style='width:300px; height:20px; vertical-align: middle;'></progress>\n",
              "      Interrupted\n",
              "    </div>\n",
              "    "
            ],
            "text/plain": [
              "<IPython.core.display.HTML object>"
            ]
          },
          "metadata": {
            "tags": []
          }
        },
        {
          "output_type": "display_data",
          "data": {
            "image/png": "[encoded data removed]",
            "text/plain": [
              "<Figure size 432x288 with 1 Axes>"
            ]
          },
          "metadata": {
            "tags": []
          }
        },
        {
          "output_type": "error",
          "ename": "KeyboardInterrupt",
          "evalue": "ignored",
          "traceback": [
            "\u001b[0;31m---------------------------------------------------------------------------\u001b[0m",
            "\u001b[0;31mKeyboardInterrupt\u001b[0m                         Traceback (most recent call last)",
            "\u001b[0;32m<ipython-input-50-42cba3212251>\u001b[0m in \u001b[0;36m<module>\u001b[0;34m()\u001b[0m\n\u001b[1;32m      1\u001b[0m \u001b[0mlearn_lm\u001b[0m\u001b[0;34m.\u001b[0m\u001b[0munfreeze\u001b[0m\u001b[0;34m(\u001b[0m\u001b[0;34m)\u001b[0m\u001b[0;34m\u001b[0m\u001b[0;34m\u001b[0m\u001b[0m\n\u001b[0;32m----> 2\u001b[0;31m \u001b[0mlearn_lm\u001b[0m\u001b[0;34m.\u001b[0m\u001b[0mfit_one_cycle\u001b[0m\u001b[0;34m(\u001b[0m\u001b[0;36m18\u001b[0m\u001b[0;34m,\u001b[0m \u001b[0mlr\u001b[0m\u001b[0;34m,\u001b[0m \u001b[0mwd\u001b[0m\u001b[0;34m=\u001b[0m\u001b[0mwd\u001b[0m\u001b[0;34m,\u001b[0m \u001b[0mmoms\u001b[0m\u001b[0;34m=\u001b[0m\u001b[0;34m(\u001b[0m\u001b[0;36m0.8\u001b[0m\u001b[0;34m,\u001b[0m\u001b[0;36m0.7\u001b[0m\u001b[0;34m)\u001b[0m\u001b[0;34m,\u001b[0m \u001b[0mcallbacks\u001b[0m\u001b[0;34m=\u001b[0m\u001b[0;34m[\u001b[0m\u001b[0mShowGraph\u001b[0m\u001b[0;34m(\u001b[0m\u001b[0mlearn_lm\u001b[0m\u001b[0;34m)\u001b[0m\u001b[0;34m]\u001b[0m\u001b[0;34m)\u001b[0m\u001b[0;34m\u001b[0m\u001b[0;34m\u001b[0m\u001b[0m\n\u001b[0m",
            "\u001b[0;32m/usr/local/lib/python3.6/dist-packages/fastai/train.py\u001b[0m in \u001b[0;36mfit_one_cycle\u001b[0;34m(learn, cyc_len, max_lr, moms, div_factor, pct_start, final_div, wd, callbacks, tot_epochs, start_epoch)\u001b[0m\n\u001b[1;32m     21\u001b[0m     callbacks.append(OneCycleScheduler(learn, max_lr, moms=moms, div_factor=div_factor, pct_start=pct_start,\n\u001b[1;32m     22\u001b[0m                                        final_div=final_div, tot_epochs=tot_epochs, start_epoch=start_epoch))\n\u001b[0;32m---> 23\u001b[0;31m     \u001b[0mlearn\u001b[0m\u001b[0;34m.\u001b[0m\u001b[0mfit\u001b[0m\u001b[0;34m(\u001b[0m\u001b[0mcyc_len\u001b[0m\u001b[0;34m,\u001b[0m \u001b[0mmax_lr\u001b[0m\u001b[0;34m,\u001b[0m \u001b[0mwd\u001b[0m\u001b[0;34m=\u001b[0m\u001b[0mwd\u001b[0m\u001b[0;34m,\u001b[0m \u001b[0mcallbacks\u001b[0m\u001b[0;34m=\u001b[0m\u001b[0mcallbacks\u001b[0m\u001b[0;34m)\u001b[0m\u001b[0;34m\u001b[0m\u001b[0;34m\u001b[0m\u001b[0m\n\u001b[0m\u001b[1;32m     24\u001b[0m \u001b[0;34m\u001b[0m\u001b[0m\n\u001b[1;32m     25\u001b[0m def fit_fc(learn:Learner, tot_epochs:int=1, lr:float=defaults.lr,  moms:Tuple[float,float]=(0.95,0.85), start_pct:float=0.72,\n",
            "\u001b[0;32m/usr/local/lib/python3.6/dist-packages/fastai/basic_train.py\u001b[0m in \u001b[0;36mfit\u001b[0;34m(self, epochs, lr, wd, callbacks)\u001b[0m\n\u001b[1;32m    198\u001b[0m         \u001b[0;32melse\u001b[0m\u001b[0;34m:\u001b[0m \u001b[0mself\u001b[0m\u001b[0;34m.\u001b[0m\u001b[0mopt\u001b[0m\u001b[0;34m.\u001b[0m\u001b[0mlr\u001b[0m\u001b[0;34m,\u001b[0m\u001b[0mself\u001b[0m\u001b[0;34m.\u001b[0m\u001b[0mopt\u001b[0m\u001b[0;34m.\u001b[0m\u001b[0mwd\u001b[0m \u001b[0;34m=\u001b[0m \u001b[0mlr\u001b[0m\u001b[0;34m,\u001b[0m\u001b[0mwd\u001b[0m\u001b[0;34m\u001b[0m\u001b[0;34m\u001b[0m\u001b[0m\n\u001b[1;32m    199\u001b[0m         \u001b[0mcallbacks\u001b[0m \u001b[0;34m=\u001b[0m \u001b[0;34m[\u001b[0m\u001b[0mcb\u001b[0m\u001b[0;34m(\u001b[0m\u001b[0mself\u001b[0m\u001b[0;34m)\u001b[0m \u001b[0;32mfor\u001b[0m \u001b[0mcb\u001b[0m \u001b[0;32min\u001b[0m \u001b[0mself\u001b[0m\u001b[0;34m.\u001b[0m\u001b[0mcallback_fns\u001b[0m \u001b[0;34m+\u001b[0m \u001b[0mlistify\u001b[0m\u001b[0;34m(\u001b[0m\u001b[0mdefaults\u001b[0m\u001b[0;34m.\u001b[0m\u001b[0mextra_callback_fns\u001b[0m\u001b[0;34m)\u001b[0m\u001b[0;34m]\u001b[0m \u001b[0;34m+\u001b[0m \u001b[0mlistify\u001b[0m\u001b[0;34m(\u001b[0m\u001b[0mcallbacks\u001b[0m\u001b[0;34m)\u001b[0m\u001b[0;34m\u001b[0m\u001b[0;34m\u001b[0m\u001b[0m\n\u001b[0;32m--> 200\u001b[0;31m         \u001b[0mfit\u001b[0m\u001b[0;34m(\u001b[0m\u001b[0mepochs\u001b[0m\u001b[0;34m,\u001b[0m \u001b[0mself\u001b[0m\u001b[0;34m,\u001b[0m \u001b[0mmetrics\u001b[0m\u001b[0;34m=\u001b[0m\u001b[0mself\u001b[0m\u001b[0;34m.\u001b[0m\u001b[0mmetrics\u001b[0m\u001b[0;34m,\u001b[0m \u001b[0mcallbacks\u001b[0m\u001b[0;34m=\u001b[0m\u001b[0mself\u001b[0m\u001b[0;34m.\u001b[0m\u001b[0mcallbacks\u001b[0m\u001b[0;34m+\u001b[0m\u001b[0mcallbacks\u001b[0m\u001b[0;34m)\u001b[0m\u001b[0;34m\u001b[0m\u001b[0;34m\u001b[0m\u001b[0m\n\u001b[0m\u001b[1;32m    201\u001b[0m \u001b[0;34m\u001b[0m\u001b[0m\n\u001b[1;32m    202\u001b[0m     \u001b[0;32mdef\u001b[0m \u001b[0mcreate_opt\u001b[0m\u001b[0;34m(\u001b[0m\u001b[0mself\u001b[0m\u001b[0;34m,\u001b[0m \u001b[0mlr\u001b[0m\u001b[0;34m:\u001b[0m\u001b[0mFloats\u001b[0m\u001b[0;34m,\u001b[0m \u001b[0mwd\u001b[0m\u001b[0;34m:\u001b[0m\u001b[0mFloats\u001b[0m\u001b[0;34m=\u001b[0m\u001b[0;36m0.\u001b[0m\u001b[0;34m)\u001b[0m\u001b[0;34m->\u001b[0m\u001b[0;32mNone\u001b[0m\u001b[0;34m:\u001b[0m\u001b[0;34m\u001b[0m\u001b[0;34m\u001b[0m\u001b[0m\n",
            "\u001b[0;32m/usr/local/lib/python3.6/dist-packages/fastai/basic_train.py\u001b[0m in \u001b[0;36mfit\u001b[0;34m(epochs, learn, callbacks, metrics)\u001b[0m\n\u001b[1;32m     97\u001b[0m             \u001b[0mcb_handler\u001b[0m\u001b[0;34m.\u001b[0m\u001b[0mset_dl\u001b[0m\u001b[0;34m(\u001b[0m\u001b[0mlearn\u001b[0m\u001b[0;34m.\u001b[0m\u001b[0mdata\u001b[0m\u001b[0;34m.\u001b[0m\u001b[0mtrain_dl\u001b[0m\u001b[0;34m)\u001b[0m\u001b[0;34m\u001b[0m\u001b[0;34m\u001b[0m\u001b[0m\n\u001b[1;32m     98\u001b[0m             \u001b[0mcb_handler\u001b[0m\u001b[0;34m.\u001b[0m\u001b[0mon_epoch_begin\u001b[0m\u001b[0;34m(\u001b[0m\u001b[0;34m)\u001b[0m\u001b[0;34m\u001b[0m\u001b[0;34m\u001b[0m\u001b[0m\n\u001b[0;32m---> 99\u001b[0;31m             \u001b[0;32mfor\u001b[0m \u001b[0mxb\u001b[0m\u001b[0;34m,\u001b[0m\u001b[0myb\u001b[0m \u001b[0;32min\u001b[0m \u001b[0mprogress_bar\u001b[0m\u001b[0;34m(\u001b[0m\u001b[0mlearn\u001b[0m\u001b[0;34m.\u001b[0m\u001b[0mdata\u001b[0m\u001b[0;34m.\u001b[0m\u001b[0mtrain_dl\u001b[0m\u001b[0;34m,\u001b[0m \u001b[0mparent\u001b[0m\u001b[0;34m=\u001b[0m\u001b[0mpbar\u001b[0m\u001b[0;34m)\u001b[0m\u001b[0;34m:\u001b[0m\u001b[0;34m\u001b[0m\u001b[0;34m\u001b[0m\u001b[0m\n\u001b[0m\u001b[1;32m    100\u001b[0m                 \u001b[0mxb\u001b[0m\u001b[0;34m,\u001b[0m \u001b[0myb\u001b[0m \u001b[0;34m=\u001b[0m \u001b[0mcb_handler\u001b[0m\u001b[0;34m.\u001b[0m\u001b[0mon_batch_begin\u001b[0m\u001b[0;34m(\u001b[0m\u001b[0mxb\u001b[0m\u001b[0;34m,\u001b[0m \u001b[0myb\u001b[0m\u001b[0;34m)\u001b[0m\u001b[0;34m\u001b[0m\u001b[0;34m\u001b[0m\u001b[0m\n\u001b[1;32m    101\u001b[0m                 \u001b[0mloss\u001b[0m \u001b[0;34m=\u001b[0m \u001b[0mloss_batch\u001b[0m\u001b[0;34m(\u001b[0m\u001b[0mlearn\u001b[0m\u001b[0;34m.\u001b[0m\u001b[0mmodel\u001b[0m\u001b[0;34m,\u001b[0m \u001b[0mxb\u001b[0m\u001b[0;34m,\u001b[0m \u001b[0myb\u001b[0m\u001b[0;34m,\u001b[0m \u001b[0mlearn\u001b[0m\u001b[0;34m.\u001b[0m\u001b[0mloss_func\u001b[0m\u001b[0;34m,\u001b[0m \u001b[0mlearn\u001b[0m\u001b[0;34m.\u001b[0m\u001b[0mopt\u001b[0m\u001b[0;34m,\u001b[0m \u001b[0mcb_handler\u001b[0m\u001b[0;34m)\u001b[0m\u001b[0;34m\u001b[0m\u001b[0;34m\u001b[0m\u001b[0m\n",
            "\u001b[0;32m/usr/local/lib/python3.6/dist-packages/fastprogress/fastprogress.py\u001b[0m in \u001b[0;36m__iter__\u001b[0;34m(self)\u001b[0m\n\u001b[1;32m     73\u001b[0m                 \u001b[0;32mif\u001b[0m \u001b[0mi\u001b[0m \u001b[0;34m>=\u001b[0m \u001b[0mself\u001b[0m\u001b[0;34m.\u001b[0m\u001b[0mtotal\u001b[0m\u001b[0;34m:\u001b[0m \u001b[0;32mbreak\u001b[0m\u001b[0;34m\u001b[0m\u001b[0;34m\u001b[0m\u001b[0m\n\u001b[1;32m     74\u001b[0m                 \u001b[0;32myield\u001b[0m \u001b[0mo\u001b[0m\u001b[0;34m\u001b[0m\u001b[0;34m\u001b[0m\u001b[0m\n\u001b[0;32m---> 75\u001b[0;31m                 \u001b[0;32mif\u001b[0m \u001b[0mself\u001b[0m\u001b[0;34m.\u001b[0m\u001b[0mauto_update\u001b[0m\u001b[0;34m:\u001b[0m \u001b[0mself\u001b[0m\u001b[0;34m.\u001b[0m\u001b[0mupdate\u001b[0m\u001b[0;34m(\u001b[0m\u001b[0mi\u001b[0m\u001b[0;34m+\u001b[0m\u001b[0;36m1\u001b[0m\u001b[0;34m)\u001b[0m\u001b[0;34m\u001b[0m\u001b[0;34m\u001b[0m\u001b[0m\n\u001b[0m\u001b[1;32m     76\u001b[0m         \u001b[0;32mexcept\u001b[0m\u001b[0;34m:\u001b[0m\u001b[0;34m\u001b[0m\u001b[0;34m\u001b[0m\u001b[0m\n\u001b[1;32m     77\u001b[0m             \u001b[0mself\u001b[0m\u001b[0;34m.\u001b[0m\u001b[0mon_interrupt\u001b[0m\u001b[0;34m(\u001b[0m\u001b[0;34m)\u001b[0m\u001b[0;34m\u001b[0m\u001b[0;34m\u001b[0m\u001b[0m\n",
            "\u001b[0;32m/usr/local/lib/python3.6/dist-packages/fastprogress/fastprogress.py\u001b[0m in \u001b[0;36mupdate\u001b[0;34m(self, val)\u001b[0m\n\u001b[1;32m     90\u001b[0m             \u001b[0mself\u001b[0m\u001b[0;34m.\u001b[0m\u001b[0mpred_t\u001b[0m \u001b[0;34m=\u001b[0m \u001b[0mavg_t\u001b[0m \u001b[0;34m*\u001b[0m \u001b[0mself\u001b[0m\u001b[0;34m.\u001b[0m\u001b[0mtotal\u001b[0m\u001b[0;34m\u001b[0m\u001b[0;34m\u001b[0m\u001b[0m\n\u001b[1;32m     91\u001b[0m             \u001b[0mself\u001b[0m\u001b[0;34m.\u001b[0m\u001b[0mlast_v\u001b[0m\u001b[0;34m,\u001b[0m\u001b[0mself\u001b[0m\u001b[0;34m.\u001b[0m\u001b[0mlast_t\u001b[0m \u001b[0;34m=\u001b[0m \u001b[0mval\u001b[0m\u001b[0;34m,\u001b[0m\u001b[0mcur_t\u001b[0m\u001b[0;34m\u001b[0m\u001b[0;34m\u001b[0m\u001b[0m\n\u001b[0;32m---> 92\u001b[0;31m             \u001b[0mself\u001b[0m\u001b[0;34m.\u001b[0m\u001b[0mupdate_bar\u001b[0m\u001b[0;34m(\u001b[0m\u001b[0mval\u001b[0m\u001b[0;34m)\u001b[0m\u001b[0;34m\u001b[0m\u001b[0;34m\u001b[0m\u001b[0m\n\u001b[0m\u001b[1;32m     93\u001b[0m             \u001b[0;32mif\u001b[0m \u001b[0;32mnot\u001b[0m \u001b[0mself\u001b[0m\u001b[0;34m.\u001b[0m\u001b[0mauto_update\u001b[0m \u001b[0;32mand\u001b[0m \u001b[0mval\u001b[0m \u001b[0;34m>=\u001b[0m \u001b[0mself\u001b[0m\u001b[0;34m.\u001b[0m\u001b[0mtotal\u001b[0m\u001b[0;34m:\u001b[0m\u001b[0;34m\u001b[0m\u001b[0;34m\u001b[0m\u001b[0m\n\u001b[1;32m     94\u001b[0m                 \u001b[0mself\u001b[0m\u001b[0;34m.\u001b[0m\u001b[0mon_iter_end\u001b[0m\u001b[0;34m(\u001b[0m\u001b[0;34m)\u001b[0m\u001b[0;34m\u001b[0m\u001b[0;34m\u001b[0m\u001b[0m\n",
            "\u001b[0;32m/usr/local/lib/python3.6/dist-packages/fastprogress/fastprogress.py\u001b[0m in \u001b[0;36mupdate_bar\u001b[0;34m(self, val)\u001b[0m\n\u001b[1;32m    102\u001b[0m             \u001b[0mwarn\u001b[0m\u001b[0;34m(\u001b[0m\u001b[0;34m\"Your generator is empty.\"\u001b[0m\u001b[0;34m)\u001b[0m\u001b[0;34m\u001b[0m\u001b[0;34m\u001b[0m\u001b[0m\n\u001b[1;32m    103\u001b[0m             \u001b[0mself\u001b[0m\u001b[0;34m.\u001b[0m\u001b[0mon_update\u001b[0m\u001b[0;34m(\u001b[0m\u001b[0;36m0\u001b[0m\u001b[0;34m,\u001b[0m \u001b[0;34m'100% [0/0]'\u001b[0m\u001b[0;34m)\u001b[0m\u001b[0;34m\u001b[0m\u001b[0;34m\u001b[0m\u001b[0m\n\u001b[0;32m--> 104\u001b[0;31m         \u001b[0;32melse\u001b[0m\u001b[0;34m:\u001b[0m \u001b[0mself\u001b[0m\u001b[0;34m.\u001b[0m\u001b[0mon_update\u001b[0m\u001b[0;34m(\u001b[0m\u001b[0mval\u001b[0m\u001b[0;34m,\u001b[0m \u001b[0;34mf'{100 * val/self.total:.2f}% [{val}/{self.total} {elapsed_t}<{remaining_t}{end}]'\u001b[0m\u001b[0;34m)\u001b[0m\u001b[0;34m\u001b[0m\u001b[0;34m\u001b[0m\u001b[0m\n\u001b[0m\u001b[1;32m    105\u001b[0m \u001b[0;34m\u001b[0m\u001b[0m\n\u001b[1;32m    106\u001b[0m \u001b[0;34m\u001b[0m\u001b[0m\n",
            "\u001b[0;32m/usr/local/lib/python3.6/dist-packages/fastprogress/fastprogress.py\u001b[0m in \u001b[0;36mon_update\u001b[0;34m(self, val, text, interrupted)\u001b[0m\n\u001b[1;32m    175\u001b[0m         \u001b[0mself\u001b[0m\u001b[0;34m.\u001b[0m\u001b[0mprogress\u001b[0m \u001b[0;34m=\u001b[0m \u001b[0mhtml_progress_bar\u001b[0m\u001b[0;34m(\u001b[0m\u001b[0mval\u001b[0m\u001b[0;34m,\u001b[0m \u001b[0mself\u001b[0m\u001b[0;34m.\u001b[0m\u001b[0mtotal\u001b[0m\u001b[0;34m,\u001b[0m \u001b[0mtext\u001b[0m\u001b[0;34m,\u001b[0m \u001b[0minterrupted\u001b[0m\u001b[0;34m)\u001b[0m\u001b[0;34m\u001b[0m\u001b[0;34m\u001b[0m\u001b[0m\n\u001b[1;32m    176\u001b[0m         \u001b[0;32mif\u001b[0m \u001b[0mself\u001b[0m\u001b[0;34m.\u001b[0m\u001b[0mdisplay\u001b[0m\u001b[0;34m:\u001b[0m \u001b[0mself\u001b[0m\u001b[0;34m.\u001b[0m\u001b[0mout\u001b[0m\u001b[0;34m.\u001b[0m\u001b[0mupdate\u001b[0m\u001b[0;34m(\u001b[0m\u001b[0mHTML\u001b[0m\u001b[0;34m(\u001b[0m\u001b[0mself\u001b[0m\u001b[0;34m.\u001b[0m\u001b[0mprogress\u001b[0m\u001b[0;34m)\u001b[0m\u001b[0;34m)\u001b[0m\u001b[0;34m\u001b[0m\u001b[0;34m\u001b[0m\u001b[0m\n\u001b[0;32m--> 177\u001b[0;31m         \u001b[0;32melif\u001b[0m \u001b[0mself\u001b[0m\u001b[0;34m.\u001b[0m\u001b[0mparent\u001b[0m \u001b[0;32mis\u001b[0m \u001b[0;32mnot\u001b[0m \u001b[0;32mNone\u001b[0m\u001b[0;34m:\u001b[0m \u001b[0mself\u001b[0m\u001b[0;34m.\u001b[0m\u001b[0mparent\u001b[0m\u001b[0;34m.\u001b[0m\u001b[0mshow\u001b[0m\u001b[0;34m(\u001b[0m\u001b[0;34m)\u001b[0m\u001b[0;34m\u001b[0m\u001b[0;34m\u001b[0m\u001b[0m\n\u001b[0m\u001b[1;32m    178\u001b[0m \u001b[0;34m\u001b[0m\u001b[0m\n\u001b[1;32m    179\u001b[0m \u001b[0;32mclass\u001b[0m \u001b[0mNBMasterBar\u001b[0m\u001b[0;34m(\u001b[0m\u001b[0mMasterBar\u001b[0m\u001b[0;34m)\u001b[0m\u001b[0;34m:\u001b[0m\u001b[0;34m\u001b[0m\u001b[0;34m\u001b[0m\u001b[0m\n",
            "\u001b[0;32m/usr/local/lib/python3.6/dist-packages/fastprogress/fastprogress.py\u001b[0m in \u001b[0;36mshow\u001b[0;34m(self)\u001b[0m\n\u001b[1;32m    214\u001b[0m         \u001b[0mto_show\u001b[0m \u001b[0;34m=\u001b[0m \u001b[0;34m[\u001b[0m\u001b[0mname\u001b[0m \u001b[0;32mfor\u001b[0m \u001b[0mname\u001b[0m \u001b[0;32min\u001b[0m \u001b[0mself\u001b[0m\u001b[0;34m.\u001b[0m\u001b[0morder\u001b[0m \u001b[0;32mif\u001b[0m \u001b[0mname\u001b[0m \u001b[0;32min\u001b[0m \u001b[0mself\u001b[0m\u001b[0;34m.\u001b[0m\u001b[0minner_dict\u001b[0m\u001b[0;34m.\u001b[0m\u001b[0mkeys\u001b[0m\u001b[0;34m(\u001b[0m\u001b[0;34m)\u001b[0m\u001b[0;34m]\u001b[0m\u001b[0;34m\u001b[0m\u001b[0;34m\u001b[0m\u001b[0m\n\u001b[1;32m    215\u001b[0m         \u001b[0mself\u001b[0m\u001b[0;34m.\u001b[0m\u001b[0mhtml_code\u001b[0m \u001b[0;34m=\u001b[0m \u001b[0;34m'\\n'\u001b[0m\u001b[0;34m.\u001b[0m\u001b[0mjoin\u001b[0m\u001b[0;34m(\u001b[0m\u001b[0;34m[\u001b[0m\u001b[0mself\u001b[0m\u001b[0;34m.\u001b[0m\u001b[0minner_dict\u001b[0m\u001b[0;34m[\u001b[0m\u001b[0mn\u001b[0m\u001b[0;34m]\u001b[0m \u001b[0;32mfor\u001b[0m \u001b[0mn\u001b[0m \u001b[0;32min\u001b[0m \u001b[0mto_show\u001b[0m\u001b[0;34m]\u001b[0m\u001b[0;34m)\u001b[0m\u001b[0;34m\u001b[0m\u001b[0;34m\u001b[0m\u001b[0m\n\u001b[0;32m--> 216\u001b[0;31m         \u001b[0mself\u001b[0m\u001b[0;34m.\u001b[0m\u001b[0mout\u001b[0m\u001b[0;34m.\u001b[0m\u001b[0mupdate\u001b[0m\u001b[0;34m(\u001b[0m\u001b[0mHTML\u001b[0m\u001b[0;34m(\u001b[0m\u001b[0mself\u001b[0m\u001b[0;34m.\u001b[0m\u001b[0mhtml_code\u001b[0m\u001b[0;34m)\u001b[0m\u001b[0;34m)\u001b[0m\u001b[0;34m\u001b[0m\u001b[0;34m\u001b[0m\u001b[0m\n\u001b[0m\u001b[1;32m    217\u001b[0m \u001b[0;34m\u001b[0m\u001b[0m\n\u001b[1;32m    218\u001b[0m     \u001b[0;32mdef\u001b[0m \u001b[0mwrite\u001b[0m\u001b[0;34m(\u001b[0m\u001b[0mself\u001b[0m\u001b[0;34m,\u001b[0m \u001b[0mline\u001b[0m\u001b[0;34m,\u001b[0m \u001b[0mtable\u001b[0m\u001b[0;34m=\u001b[0m\u001b[0;32mFalse\u001b[0m\u001b[0;34m)\u001b[0m\u001b[0;34m:\u001b[0m\u001b[0;34m\u001b[0m\u001b[0;34m\u001b[0m\u001b[0m\n",
            "\u001b[0;32m/usr/local/lib/python3.6/dist-packages/IPython/core/display.py\u001b[0m in \u001b[0;36mupdate\u001b[0;34m(self, obj, **kwargs)\u001b[0m\n\u001b[1;32m    388\u001b[0m             \u001b[0madditional\u001b[0m \u001b[0mkeyword\u001b[0m \u001b[0marguments\u001b[0m \u001b[0mpassed\u001b[0m \u001b[0mto\u001b[0m \u001b[0mupdate_display\u001b[0m\u001b[0;34m\u001b[0m\u001b[0;34m\u001b[0m\u001b[0m\n\u001b[1;32m    389\u001b[0m         \"\"\"\n\u001b[0;32m--> 390\u001b[0;31m         \u001b[0mupdate_display\u001b[0m\u001b[0;34m(\u001b[0m\u001b[0mobj\u001b[0m\u001b[0;34m,\u001b[0m \u001b[0mdisplay_id\u001b[0m\u001b[0;34m=\u001b[0m\u001b[0mself\u001b[0m\u001b[0;34m.\u001b[0m\u001b[0mdisplay_id\u001b[0m\u001b[0;34m,\u001b[0m \u001b[0;34m**\u001b[0m\u001b[0mkwargs\u001b[0m\u001b[0;34m)\u001b[0m\u001b[0;34m\u001b[0m\u001b[0;34m\u001b[0m\u001b[0m\n\u001b[0m\u001b[1;32m    391\u001b[0m \u001b[0;34m\u001b[0m\u001b[0m\n\u001b[1;32m    392\u001b[0m \u001b[0;34m\u001b[0m\u001b[0m\n",
            "\u001b[0;32m/usr/local/lib/python3.6/dist-packages/IPython/core/display.py\u001b[0m in \u001b[0;36mupdate_display\u001b[0;34m(obj, **kwargs)\u001b[0m\n\u001b[1;32m    338\u001b[0m         \u001b[0;32mraise\u001b[0m \u001b[0mTypeError\u001b[0m\u001b[0;34m(\u001b[0m\u001b[0;34m\"update_display() missing 1 required keyword-only argument: 'display_id'\"\u001b[0m\u001b[0;34m)\u001b[0m\u001b[0;34m\u001b[0m\u001b[0;34m\u001b[0m\u001b[0m\n\u001b[1;32m    339\u001b[0m     \u001b[0mkwargs\u001b[0m\u001b[0;34m[\u001b[0m\u001b[0;34m'update'\u001b[0m\u001b[0;34m]\u001b[0m \u001b[0;34m=\u001b[0m \u001b[0;32mTrue\u001b[0m\u001b[0;34m\u001b[0m\u001b[0;34m\u001b[0m\u001b[0m\n\u001b[0;32m--> 340\u001b[0;31m     \u001b[0mdisplay\u001b[0m\u001b[0;34m(\u001b[0m\u001b[0mobj\u001b[0m\u001b[0;34m,\u001b[0m \u001b[0mdisplay_id\u001b[0m\u001b[0;34m=\u001b[0m\u001b[0mdisplay_id\u001b[0m\u001b[0;34m,\u001b[0m \u001b[0;34m**\u001b[0m\u001b[0mkwargs\u001b[0m\u001b[0;34m)\u001b[0m\u001b[0;34m\u001b[0m\u001b[0;34m\u001b[0m\u001b[0m\n\u001b[0m\u001b[1;32m    341\u001b[0m \u001b[0;34m\u001b[0m\u001b[0m\n\u001b[1;32m    342\u001b[0m \u001b[0;34m\u001b[0m\u001b[0m\n",
            "\u001b[0;32m/usr/local/lib/python3.6/dist-packages/IPython/core/display.py\u001b[0m in \u001b[0;36mdisplay\u001b[0;34m(*objs, **kwargs)\u001b[0m\n\u001b[1;32m    304\u001b[0m             \u001b[0mpublish_display_data\u001b[0m\u001b[0;34m(\u001b[0m\u001b[0mdata\u001b[0m\u001b[0;34m=\u001b[0m\u001b[0mobj\u001b[0m\u001b[0;34m,\u001b[0m \u001b[0mmetadata\u001b[0m\u001b[0;34m=\u001b[0m\u001b[0mmetadata\u001b[0m\u001b[0;34m,\u001b[0m \u001b[0;34m**\u001b[0m\u001b[0mkwargs\u001b[0m\u001b[0;34m)\u001b[0m\u001b[0;34m\u001b[0m\u001b[0;34m\u001b[0m\u001b[0m\n\u001b[1;32m    305\u001b[0m         \u001b[0;32melse\u001b[0m\u001b[0;34m:\u001b[0m\u001b[0;34m\u001b[0m\u001b[0;34m\u001b[0m\u001b[0m\n\u001b[0;32m--> 306\u001b[0;31m             \u001b[0mformat_dict\u001b[0m\u001b[0;34m,\u001b[0m \u001b[0mmd_dict\u001b[0m \u001b[0;34m=\u001b[0m \u001b[0mformat\u001b[0m\u001b[0;34m(\u001b[0m\u001b[0mobj\u001b[0m\u001b[0;34m,\u001b[0m \u001b[0minclude\u001b[0m\u001b[0;34m=\u001b[0m\u001b[0minclude\u001b[0m\u001b[0;34m,\u001b[0m \u001b[0mexclude\u001b[0m\u001b[0;34m=\u001b[0m\u001b[0mexclude\u001b[0m\u001b[0;34m)\u001b[0m\u001b[0;34m\u001b[0m\u001b[0;34m\u001b[0m\u001b[0m\n\u001b[0m\u001b[1;32m    307\u001b[0m             \u001b[0;32mif\u001b[0m \u001b[0;32mnot\u001b[0m \u001b[0mformat_dict\u001b[0m\u001b[0;34m:\u001b[0m\u001b[0;34m\u001b[0m\u001b[0;34m\u001b[0m\u001b[0m\n\u001b[1;32m    308\u001b[0m                 \u001b[0;31m# nothing to display (e.g. _ipython_display_ took over)\u001b[0m\u001b[0;34m\u001b[0m\u001b[0;34m\u001b[0m\u001b[0;34m\u001b[0m\u001b[0m\n",
            "\u001b[0;32m/usr/local/lib/python3.6/dist-packages/IPython/core/formatters.py\u001b[0m in \u001b[0;36mformat\u001b[0;34m(self, obj, include, exclude)\u001b[0m\n\u001b[1;32m    146\u001b[0m         \u001b[0mmd_dict\u001b[0m \u001b[0;34m=\u001b[0m \u001b[0;34m{\u001b[0m\u001b[0;34m}\u001b[0m\u001b[0;34m\u001b[0m\u001b[0;34m\u001b[0m\u001b[0m\n\u001b[1;32m    147\u001b[0m \u001b[0;34m\u001b[0m\u001b[0m\n\u001b[0;32m--> 148\u001b[0;31m         \u001b[0;32mif\u001b[0m \u001b[0mself\u001b[0m\u001b[0;34m.\u001b[0m\u001b[0mipython_display_formatter\u001b[0m\u001b[0;34m(\u001b[0m\u001b[0mobj\u001b[0m\u001b[0;34m)\u001b[0m\u001b[0;34m:\u001b[0m\u001b[0;34m\u001b[0m\u001b[0;34m\u001b[0m\u001b[0m\n\u001b[0m\u001b[1;32m    149\u001b[0m             \u001b[0;31m# object handled itself, don't proceed\u001b[0m\u001b[0;34m\u001b[0m\u001b[0;34m\u001b[0m\u001b[0;34m\u001b[0m\u001b[0m\n\u001b[1;32m    150\u001b[0m             \u001b[0;32mreturn\u001b[0m \u001b[0;34m{\u001b[0m\u001b[0;34m}\u001b[0m\u001b[0;34m,\u001b[0m \u001b[0;34m{\u001b[0m\u001b[0;34m}\u001b[0m\u001b[0;34m\u001b[0m\u001b[0;34m\u001b[0m\u001b[0m\n",
            "\u001b[0;32m</usr/local/lib/python3.6/dist-packages/decorator.py:decorator-gen-11>\u001b[0m in \u001b[0;36m__call__\u001b[0;34m(self, obj)\u001b[0m\n",
            "\u001b[0;32m/usr/local/lib/python3.6/dist-packages/IPython/core/formatters.py\u001b[0m in \u001b[0;36mcatch_format_error\u001b[0;34m(method, self, *args, **kwargs)\u001b[0m\n\u001b[1;32m    215\u001b[0m     \u001b[0;34m\"\"\"show traceback on failed format call\"\"\"\u001b[0m\u001b[0;34m\u001b[0m\u001b[0;34m\u001b[0m\u001b[0m\n\u001b[1;32m    216\u001b[0m     \u001b[0;32mtry\u001b[0m\u001b[0;34m:\u001b[0m\u001b[0;34m\u001b[0m\u001b[0;34m\u001b[0m\u001b[0m\n\u001b[0;32m--> 217\u001b[0;31m         \u001b[0mr\u001b[0m \u001b[0;34m=\u001b[0m \u001b[0mmethod\u001b[0m\u001b[0;34m(\u001b[0m\u001b[0mself\u001b[0m\u001b[0;34m,\u001b[0m \u001b[0;34m*\u001b[0m\u001b[0margs\u001b[0m\u001b[0;34m,\u001b[0m \u001b[0;34m**\u001b[0m\u001b[0mkwargs\u001b[0m\u001b[0;34m)\u001b[0m\u001b[0;34m\u001b[0m\u001b[0;34m\u001b[0m\u001b[0m\n\u001b[0m\u001b[1;32m    218\u001b[0m     \u001b[0;32mexcept\u001b[0m \u001b[0mNotImplementedError\u001b[0m\u001b[0;34m:\u001b[0m\u001b[0;34m\u001b[0m\u001b[0;34m\u001b[0m\u001b[0m\n\u001b[1;32m    219\u001b[0m         \u001b[0;31m# don't warn on NotImplementedErrors\u001b[0m\u001b[0;34m\u001b[0m\u001b[0;34m\u001b[0m\u001b[0;34m\u001b[0m\u001b[0m\n",
            "\u001b[0;32m/usr/local/lib/python3.6/dist-packages/IPython/core/formatters.py\u001b[0m in \u001b[0;36m__call__\u001b[0;34m(self, obj)\u001b[0m\n\u001b[1;32m    904\u001b[0m             \u001b[0;31m# lookup registered printer\u001b[0m\u001b[0;34m\u001b[0m\u001b[0;34m\u001b[0m\u001b[0;34m\u001b[0m\u001b[0m\n\u001b[1;32m    905\u001b[0m             \u001b[0;32mtry\u001b[0m\u001b[0;34m:\u001b[0m\u001b[0;34m\u001b[0m\u001b[0;34m\u001b[0m\u001b[0m\n\u001b[0;32m--> 906\u001b[0;31m                 \u001b[0mprinter\u001b[0m \u001b[0;34m=\u001b[0m \u001b[0mself\u001b[0m\u001b[0;34m.\u001b[0m\u001b[0mlookup\u001b[0m\u001b[0;34m(\u001b[0m\u001b[0mobj\u001b[0m\u001b[0;34m)\u001b[0m\u001b[0;34m\u001b[0m\u001b[0;34m\u001b[0m\u001b[0m\n\u001b[0m\u001b[1;32m    907\u001b[0m             \u001b[0;32mexcept\u001b[0m \u001b[0mKeyError\u001b[0m\u001b[0;34m:\u001b[0m\u001b[0;34m\u001b[0m\u001b[0;34m\u001b[0m\u001b[0m\n\u001b[1;32m    908\u001b[0m                 \u001b[0;32mpass\u001b[0m\u001b[0;34m\u001b[0m\u001b[0;34m\u001b[0m\u001b[0m\n",
            "\u001b[0;32m/usr/local/lib/python3.6/dist-packages/IPython/core/formatters.py\u001b[0m in \u001b[0;36mlookup\u001b[0;34m(self, obj)\u001b[0m\n\u001b[1;32m    386\u001b[0m             \u001b[0;32mreturn\u001b[0m \u001b[0mself\u001b[0m\u001b[0;34m.\u001b[0m\u001b[0msingleton_printers\u001b[0m\u001b[0;34m[\u001b[0m\u001b[0mobj_id\u001b[0m\u001b[0;34m]\u001b[0m\u001b[0;34m\u001b[0m\u001b[0;34m\u001b[0m\u001b[0m\n\u001b[1;32m    387\u001b[0m         \u001b[0;31m# then lookup by type\u001b[0m\u001b[0;34m\u001b[0m\u001b[0;34m\u001b[0m\u001b[0;34m\u001b[0m\u001b[0m\n\u001b[0;32m--> 388\u001b[0;31m         \u001b[0;32mreturn\u001b[0m \u001b[0mself\u001b[0m\u001b[0;34m.\u001b[0m\u001b[0mlookup_by_type\u001b[0m\u001b[0;34m(\u001b[0m\u001b[0m_get_type\u001b[0m\u001b[0;34m(\u001b[0m\u001b[0mobj\u001b[0m\u001b[0;34m)\u001b[0m\u001b[0;34m)\u001b[0m\u001b[0;34m\u001b[0m\u001b[0;34m\u001b[0m\u001b[0m\n\u001b[0m\u001b[1;32m    389\u001b[0m \u001b[0;34m\u001b[0m\u001b[0m\n\u001b[1;32m    390\u001b[0m     \u001b[0;32mdef\u001b[0m \u001b[0mlookup_by_type\u001b[0m\u001b[0;34m(\u001b[0m\u001b[0mself\u001b[0m\u001b[0;34m,\u001b[0m \u001b[0mtyp\u001b[0m\u001b[0;34m)\u001b[0m\u001b[0;34m:\u001b[0m\u001b[0;34m\u001b[0m\u001b[0;34m\u001b[0m\u001b[0m\n",
            "\u001b[0;31mKeyboardInterrupt\u001b[0m: "
          ]
        },
        {
          "output_type": "display_data",
          "data": {
            "image/png": "[encoded data removed]",
            "text/plain": [
              "<Figure size 432x288 with 1 Axes>"
            ]
          },
          "metadata": {
            "tags": []
          }
        }
      ]
    },
    {
      "cell_type": "markdown",
      "metadata": {
        "id": "PCOMCIL1uMMK",
        "colab_type": "text"
      },
      "source": [
        "### New Loss Function\n",
        "\n",
        "With the previous function the model always diverged. We will use the Label Smoothing Cross Entropy Loss Function."
      ]
    },
    {
      "cell_type": "markdown",
      "metadata": {
        "id": "Ihk4dUsni0Xe",
        "colab_type": "text"
      },
      "source": [
        "#### Import already trained model\n",
        "\n",
        "The model was already trained and saved. So run the commented cells below to load the weights to the **learn_lm**."
      ]
    },
    {
      "cell_type": "code",
      "metadata": {
        "id": "llID5PT2jmmG",
        "colab_type": "code",
        "colab": {
          "base_uri": "https://localhost:8080/",
          "height": 153
        },
        "outputId": "6aedf246-cec2-415d-ff3c-4ae4c3a815dc"
      },
      "source": [
        "# Model download\n",
        "#download(\"16GNcGwgzz9YpObM2OtN7C8CczIbbU3BK\")\n",
        "\n",
        "# Encoder download\n",
        "#download(\"1VaTySonoC0GlPveoEO91pf4K2YiBTGN9\")"
      ],
      "execution_count": 8,
      "outputs": [
        {
          "output_type": "stream",
          "text": [
            "Downloading...\n",
            "From: https://drive.google.com/uc?id=16GNcGwgzz9YpObM2OtN7C8CczIbbU3BK\n",
            "To: /content/unfreezed_finetuned_aneel_sp15_multifit.pth\n",
            "260MB [00:06, 38.2MB/s]\n",
            "Downloading...\n",
            "From: https://drive.google.com/uc?id=1VaTySonoC0GlPveoEO91pf4K2YiBTGN9\n",
            "To: /content/unfreezed_finetuned_enc_aneel_sp15_multifit.pth\n",
            "52.0MB [00:00, 196MB/s] \n"
          ],
          "name": "stderr"
        }
      ]
    },
    {
      "cell_type": "code",
      "metadata": {
        "id": "WX1ZoTrCoVzM",
        "colab_type": "code",
        "colab": {
          "base_uri": "https://localhost:8080/",
          "height": 51
        },
        "outputId": "ebe48ac0-3551-4928-812e-f1a6f6a6c0f1"
      },
      "source": [
        "#learn_lm.load('unfreezed_finetuned_aneel_sp15_multifit')\n",
        "#learn_lm.lead('unfreezed_finetuned_enc_aneel_sp15_multifit')"
      ],
      "execution_count": 9,
      "outputs": [
        {
          "output_type": "stream",
          "text": [
            "Batera.png   unfreezed_finetuned_aneel_sp15_multifit.pth\n",
            "sample_data  unfreezed_finetuned_enc_aneel_sp15_multifit.pth\n"
          ],
          "name": "stdout"
        }
      ]
    },
    {
      "cell_type": "markdown",
      "metadata": {
        "id": "UsF8GfIJjncO",
        "colab_type": "text"
      },
      "source": [
        "#### Traning the language model"
      ]
    },
    {
      "cell_type": "code",
      "metadata": {
        "id": "BujEHCSrvBTd",
        "colab_type": "code",
        "colab": {}
      },
      "source": [
        "perplexity = Perplexity()\n",
        "\n",
        "learn_lm = language_model_learner(data_lm, AWD_LSTM, config=config, \n",
        "                                  pretrained_fnames=lm_fns3, drop_mult=1.,\n",
        "                                  metrics=[error_rate, accuracy, perplexity]).to_fp16()"
      ],
      "execution_count": 0,
      "outputs": []
    },
    {
      "cell_type": "code",
      "metadata": {
        "id": "jZM3IfRTvGFe",
        "colab_type": "code",
        "colab": {
          "base_uri": "https://localhost:8080/",
          "height": 34
        },
        "outputId": "fd0584f1-e443-4747-fe0e-edb5ac653732"
      },
      "source": [
        "learn_lm.loss_func = FlattenedLoss(LabelSmoothingCrossEntropy)\n",
        "learn_lm.loss_func"
      ],
      "execution_count": 61,
      "outputs": [
        {
          "output_type": "execute_result",
          "data": {
            "text/plain": [
              "FlattenedLoss of LabelSmoothingCrossEntropy()"
            ]
          },
          "metadata": {
            "tags": []
          },
          "execution_count": 61
        }
      ]
    },
    {
      "cell_type": "code",
      "metadata": {
        "id": "Y9IMVF6uvO8p",
        "colab_type": "code",
        "colab": {
          "base_uri": "https://localhost:8080/",
          "height": 330
        },
        "outputId": "ba50015a-3c94-4583-8bae-85aa52e4d607"
      },
      "source": [
        "learn_lm.lr_find()\n",
        "learn_lm.recorder.plot(suggestion=True)"
      ],
      "execution_count": 62,
      "outputs": [
        {
          "output_type": "display_data",
          "data": {
            "text/html": [
              ""
            ],
            "text/plain": [
              "<IPython.core.display.HTML object>"
            ]
          },
          "metadata": {
            "tags": []
          }
        },
        {
          "output_type": "stream",
          "text": [
            "LR Finder is complete, type {learner_name}.recorder.plot() to see the graph.\n",
            "Min numerical gradient: 1.20E-01\n",
            "Min loss divided by 10: 3.63E-02\n"
          ],
          "name": "stdout"
        },
        {
          "output_type": "display_data",
          "data": {
            "image/png": "[encoded data removed]",
            "text/plain": [
              "<Figure size 432x288 with 1 Axes>"
            ]
          },
          "metadata": {
            "tags": []
          }
        }
      ]
    },
    {
      "cell_type": "code",
      "metadata": {
        "id": "nl11Oc7TveqQ",
        "colab_type": "code",
        "colab": {}
      },
      "source": [
        "# First try:\n",
        "#lr = 1e-1\n",
        "#wd = 0.1\n",
        "\n",
        "# Second Try:\n",
        "lr = 2e-2\n",
        "wd = 0.1"
      ],
      "execution_count": 0,
      "outputs": []
    },
    {
      "cell_type": "code",
      "metadata": {
        "id": "lm8A9t1BvrYb",
        "colab_type": "code",
        "colab": {
          "base_uri": "https://localhost:8080/",
          "height": 111
        },
        "outputId": "ab6619d0-adf3-44dc-9885-a2bb4342b92b"
      },
      "source": [
        "learn_lm.fit_one_cycle(2, lr*10, wd=wd, moms=(0.8,0.7))"
      ],
      "execution_count": 64,
      "outputs": [
        {
          "output_type": "display_data",
          "data": {
            "text/html": [
              "<table border=\"1\" class=\"dataframe\">\n",
              "  <thead>\n",
              "    <tr style=\"text-align: left;\">\n",
              "      <th>epoch</th>\n",
              "      <th>train_loss</th>\n",
              "      <th>valid_loss</th>\n",
              "      <th>error_rate</th>\n",
              "      <th>accuracy</th>\n",
              "      <th>perplexity</th>\n",
              "      <th>time</th>\n",
              "    </tr>\n",
              "  </thead>\n",
              "  <tbody>\n",
              "    <tr>\n",
              "      <td>0</td>\n",
              "      <td>9.434313</td>\n",
              "      <td>6.988596</td>\n",
              "      <td>0.929822</td>\n",
              "      <td>0.070179</td>\n",
              "      <td>601.483337</td>\n",
              "      <td>01:24</td>\n",
              "    </tr>\n",
              "    <tr>\n",
              "      <td>1</td>\n",
              "      <td>5.571575</td>\n",
              "      <td>4.982403</td>\n",
              "      <td>0.723872</td>\n",
              "      <td>0.276128</td>\n",
              "      <td>64.111336</td>\n",
              "      <td>01:24</td>\n",
              "    </tr>\n",
              "  </tbody>\n",
              "</table>"
            ],
            "text/plain": [
              "<IPython.core.display.HTML object>"
            ]
          },
          "metadata": {
            "tags": []
          }
        }
      ]
    },
    {
      "cell_type": "code",
      "metadata": {
        "id": "w702toyiwgLi",
        "colab_type": "code",
        "colab": {}
      },
      "source": [
        "learn_lm.save('freezed_finetuned_aneel_sp15_multifit')\n",
        "learn_lm.save_encoder('freezed_finetuned_enc_aneel_sp15_multifit')"
      ],
      "execution_count": 0,
      "outputs": []
    },
    {
      "cell_type": "code",
      "metadata": {
        "id": "bQ3bIlXww9_h",
        "colab_type": "code",
        "colab": {
          "base_uri": "https://localhost:8080/",
          "height": 855
        },
        "outputId": "7659758b-480e-4de0-9c42-54e0537e2653"
      },
      "source": [
        "learn_lm.unfreeze()\n",
        "learn_lm.fit_one_cycle(18, lr, wd=wd, moms=(0.8,0.7), callbacks=[ShowGraph(learn_lm)])"
      ],
      "execution_count": 66,
      "outputs": [
        {
          "output_type": "display_data",
          "data": {
            "text/html": [
              "<table border=\"1\" class=\"dataframe\">\n",
              "  <thead>\n",
              "    <tr style=\"text-align: left;\">\n",
              "      <th>epoch</th>\n",
              "      <th>train_loss</th>\n",
              "      <th>valid_loss</th>\n",
              "      <th>error_rate</th>\n",
              "      <th>accuracy</th>\n",
              "      <th>perplexity</th>\n",
              "      <th>time</th>\n",
              "    </tr>\n",
              "  </thead>\n",
              "  <tbody>\n",
              "    <tr>\n",
              "      <td>0</td>\n",
              "      <td>3.939215</td>\n",
              "      <td>3.668982</td>\n",
              "      <td>0.517043</td>\n",
              "      <td>0.482957</td>\n",
              "      <td>14.809157</td>\n",
              "      <td>01:54</td>\n",
              "    </tr>\n",
              "    <tr>\n",
              "      <td>1</td>\n",
              "      <td>3.365867</td>\n",
              "      <td>3.269887</td>\n",
              "      <td>0.433799</td>\n",
              "      <td>0.566201</td>\n",
              "      <td>9.600501</td>\n",
              "      <td>01:54</td>\n",
              "    </tr>\n",
              "    <tr>\n",
              "      <td>2</td>\n",
              "      <td>3.103360</td>\n",
              "      <td>3.252710</td>\n",
              "      <td>0.430909</td>\n",
              "      <td>0.569091</td>\n",
              "      <td>9.481110</td>\n",
              "      <td>01:54</td>\n",
              "    </tr>\n",
              "    <tr>\n",
              "      <td>3</td>\n",
              "      <td>3.235155</td>\n",
              "      <td>3.345508</td>\n",
              "      <td>0.445931</td>\n",
              "      <td>0.554069</td>\n",
              "      <td>10.168368</td>\n",
              "      <td>01:52</td>\n",
              "    </tr>\n",
              "    <tr>\n",
              "      <td>4</td>\n",
              "      <td>3.380624</td>\n",
              "      <td>3.367903</td>\n",
              "      <td>0.451209</td>\n",
              "      <td>0.548791</td>\n",
              "      <td>10.583832</td>\n",
              "      <td>01:53</td>\n",
              "    </tr>\n",
              "    <tr>\n",
              "      <td>5</td>\n",
              "      <td>3.272857</td>\n",
              "      <td>3.428427</td>\n",
              "      <td>0.450795</td>\n",
              "      <td>0.549205</td>\n",
              "      <td>10.862501</td>\n",
              "      <td>01:52</td>\n",
              "    </tr>\n",
              "    <tr>\n",
              "      <td>6</td>\n",
              "      <td>3.350583</td>\n",
              "      <td>3.399260</td>\n",
              "      <td>0.455398</td>\n",
              "      <td>0.544602</td>\n",
              "      <td>10.640718</td>\n",
              "      <td>01:54</td>\n",
              "    </tr>\n",
              "    <tr>\n",
              "      <td>7</td>\n",
              "      <td>3.442497</td>\n",
              "      <td>3.353406</td>\n",
              "      <td>0.445165</td>\n",
              "      <td>0.554835</td>\n",
              "      <td>10.124866</td>\n",
              "      <td>01:54</td>\n",
              "    </tr>\n",
              "    <tr>\n",
              "      <td>8</td>\n",
              "      <td>3.459086</td>\n",
              "      <td>3.301254</td>\n",
              "      <td>0.437238</td>\n",
              "      <td>0.562762</td>\n",
              "      <td>9.610175</td>\n",
              "      <td>01:54</td>\n",
              "    </tr>\n",
              "    <tr>\n",
              "      <td>9</td>\n",
              "      <td>3.108235</td>\n",
              "      <td>3.206253</td>\n",
              "      <td>0.421935</td>\n",
              "      <td>0.578065</td>\n",
              "      <td>8.688735</td>\n",
              "      <td>01:54</td>\n",
              "    </tr>\n",
              "    <tr>\n",
              "      <td>10</td>\n",
              "      <td>3.028193</td>\n",
              "      <td>3.151045</td>\n",
              "      <td>0.412927</td>\n",
              "      <td>0.587073</td>\n",
              "      <td>8.357366</td>\n",
              "      <td>01:54</td>\n",
              "    </tr>\n",
              "    <tr>\n",
              "      <td>11</td>\n",
              "      <td>3.036452</td>\n",
              "      <td>3.085844</td>\n",
              "      <td>0.405912</td>\n",
              "      <td>0.594088</td>\n",
              "      <td>7.815252</td>\n",
              "      <td>01:54</td>\n",
              "    </tr>\n",
              "    <tr>\n",
              "      <td>12</td>\n",
              "      <td>3.046168</td>\n",
              "      <td>2.992326</td>\n",
              "      <td>0.392294</td>\n",
              "      <td>0.607706</td>\n",
              "      <td>6.981580</td>\n",
              "      <td>01:54</td>\n",
              "    </tr>\n",
              "    <tr>\n",
              "      <td>13</td>\n",
              "      <td>2.966805</td>\n",
              "      <td>2.913013</td>\n",
              "      <td>0.376361</td>\n",
              "      <td>0.623639</td>\n",
              "      <td>6.377657</td>\n",
              "      <td>01:54</td>\n",
              "    </tr>\n",
              "    <tr>\n",
              "      <td>14</td>\n",
              "      <td>2.714229</td>\n",
              "      <td>2.871764</td>\n",
              "      <td>0.367397</td>\n",
              "      <td>0.632603</td>\n",
              "      <td>6.151059</td>\n",
              "      <td>01:51</td>\n",
              "    </tr>\n",
              "    <tr>\n",
              "      <td>15</td>\n",
              "      <td>2.813368</td>\n",
              "      <td>2.788656</td>\n",
              "      <td>0.352459</td>\n",
              "      <td>0.647541</td>\n",
              "      <td>5.638627</td>\n",
              "      <td>01:52</td>\n",
              "    </tr>\n",
              "    <tr>\n",
              "      <td>16</td>\n",
              "      <td>2.842233</td>\n",
              "      <td>2.748223</td>\n",
              "      <td>0.342803</td>\n",
              "      <td>0.657197</td>\n",
              "      <td>5.376118</td>\n",
              "      <td>01:54</td>\n",
              "    </tr>\n",
              "    <tr>\n",
              "      <td>17</td>\n",
              "      <td>2.622901</td>\n",
              "      <td>2.741199</td>\n",
              "      <td>0.339865</td>\n",
              "      <td>0.660135</td>\n",
              "      <td>5.323321</td>\n",
              "      <td>01:54</td>\n",
              "    </tr>\n",
              "  </tbody>\n",
              "</table>"
            ],
            "text/plain": [
              "<IPython.core.display.HTML object>"
            ]
          },
          "metadata": {
            "tags": []
          }
        },
        {
          "output_type": "display_data",
          "data": {
            "image/png": "[encoded data removed]",
            "text/plain": [
              "<Figure size 432x288 with 1 Axes>"
            ]
          },
          "metadata": {
            "tags": []
          }
        }
      ]
    },
    {
      "cell_type": "code",
      "metadata": {
        "id": "l5aXBSB67s6u",
        "colab_type": "code",
        "colab": {}
      },
      "source": [
        "learn_lm.save('unfreezed_finetuned_aneel_sp15_multifit')\n",
        "learn_lm.save_encoder('unfreezed_finetuned_enc_aneel_sp15_multifit')"
      ],
      "execution_count": 0,
      "outputs": []
    },
    {
      "cell_type": "markdown",
      "metadata": {
        "id": "XIdiK_iBp5AH",
        "colab_type": "text"
      },
      "source": [
        "## Get vector representation of texts."
      ]
    },
    {
      "cell_type": "code",
      "metadata": {
        "id": "22LhEA5S_Csj",
        "colab_type": "code",
        "colab": {}
      },
      "source": [
        "normas = list(pd.read_csv('LanguageModelFile_cleaned.csv',sep='|',encoding='utf-8')['Texto Extraído'])"
      ],
      "execution_count": 0,
      "outputs": []
    },
    {
      "cell_type": "code",
      "metadata": {
        "id": "5X95YPVe_rnP",
        "colab_type": "code",
        "colab": {
          "base_uri": "https://localhost:8080/",
          "height": 68
        },
        "outputId": "fa046f8e-98ff-4cf4-8594-41dc1b81b2cc"
      },
      "source": [
        "#Here I get the vector representation of the text using the trained encoder\n",
        "mbe = MultiBatchEncoder(70,1400,learn_lm.model[0])\n",
        "\n",
        "def masked_concat_pool(outputs, mask):\n",
        "    \"Pool MultiBatchEncoder outputs into one vector [last_hidden, max_pool, avg_pool].\"\n",
        "    output = outputs[-1]\n",
        "    avg_pool = output.masked_fill(mask[:, :, None], 0).mean(dim=1)\n",
        "    avg_pool *= output.size(1) / (output.size(1)-mask.type(avg_pool.dtype).sum(dim=1))[:,None]\n",
        "    max_pool = output.masked_fill(mask[:,:,None], -float('inf')).max(dim=1)[0]\n",
        "    x = torch.cat([output[:,-1], max_pool, avg_pool], 1)\n",
        "    return x\n",
        "\n",
        "X = np.zeros((1,1200))\n",
        "i=0\n",
        "for norma in normas:\n",
        "    xb,yb = learn_lm.data.one_item(norma)\n",
        "    sentence = torch.cuda.LongTensor(xb.tolist()[0]).unsqueeze(0)\n",
        "    raw_outputs, outputs, masks = mbe.forward(sentence)\n",
        "    sentence_rep = masked_concat_pool(outputs, masks)\n",
        "    X = np.append(X,sentence_rep,axis=0)\n",
        "    if len(normas) % (i+1) == 10: print(str(i+1) + ' out of ' + str(len(normas)))\n",
        "    i+=1"
      ],
      "execution_count": 84,
      "outputs": [
        {
          "output_type": "stream",
          "text": [
            "389 out of 1566\n",
            "778 out of 1566\n",
            "1556 out of 1566\n"
          ],
          "name": "stdout"
        }
      ]
    },
    {
      "cell_type": "code",
      "metadata": {
        "id": "Vbh47c38DXCr",
        "colab_type": "code",
        "colab": {}
      },
      "source": [
        "X = np.delete(X, (0), axis=0)\n",
        "np.save('X_LM', X)"
      ],
      "execution_count": 0,
      "outputs": []
    }
  ]
}