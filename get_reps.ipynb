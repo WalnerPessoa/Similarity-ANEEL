{
 "cells": [
  {
   "cell_type": "code",
   "execution_count": 1,
   "metadata": {
    "colab": {},
    "colab_type": "code",
    "id": "aweZjEfYggDt"
   },
   "outputs": [],
   "source": [
    "%reload_ext autoreload\n",
    "%autoreload 2\n",
    "%matplotlib inline"
   ]
  },
  {
   "cell_type": "code",
   "execution_count": 2,
   "metadata": {
    "colab": {},
    "colab_type": "code",
    "id": "Jombk9A5NvoG"
   },
   "outputs": [],
   "source": [
    "from fastai import *\n",
    "from fastai.text import *"
   ]
  },
  {
   "cell_type": "markdown",
   "metadata": {},
   "source": [
    "## Creating the DataBunch for the language model"
   ]
  },
  {
   "cell_type": "code",
   "execution_count": 3,
   "metadata": {
    "colab": {},
    "colab_type": "code",
    "id": "WxnE3oOthDDo"
   },
   "outputs": [],
   "source": [
    "data_lm = TextLMDataBunch.from_csv('.','normas.csv',delimiter='|',text_cols='textos',label_cols='macrotemas')\n",
    "data_lm.save('data_lm')"
   ]
  },
  {
   "cell_type": "code",
   "execution_count": 4,
   "metadata": {
    "colab": {
     "base_uri": "https://localhost:8080/",
     "height": 357
    },
    "colab_type": "code",
    "id": "r8fLcji9iSi6",
    "outputId": "734a6c24-1795-4ca2-90a2-009cff63c332",
    "scrolled": true
   },
   "outputs": [
    {
     "data": {
      "text/html": [
       "<table border=\"1\" class=\"dataframe\">\n",
       "  <thead>\n",
       "    <tr style=\"text-align: right;\">\n",
       "      <th>idx</th>\n",
       "      <th>text</th>\n",
       "    </tr>\n",
       "  </thead>\n",
       "  <tbody>\n",
       "    <tr>\n",
       "      <td>0</td>\n",
       "      <td>2 ° , do art . 55 do xxmaj regimento xxmaj interno da xxup anvisa , aprovado nos termos do xxmaj anexo i da xxmaj portaria nº 354 da xxup anvisa , de 11 de agosto de 2006 , republicada no xxup dou de 21 de agosto de 2006 , e a xxmaj portaria n ° 1017 , de 5 de dezembro de 2007 , \\n  considerando o disposto</td>\n",
       "    </tr>\n",
       "    <tr>\n",
       "      <td>1</td>\n",
       "      <td>o controle das áreas de estoque de componentes , materiais de fabricação e produtos acabados para evitar inversões ( trocas ) , danos , deteriorização ou outros efeitos adversos no período anterior à sua distribuição ou uso . \\n  ( b ) xxmaj cada fabricante deverá estabelecer e manter procedimentos para autorizar o recebimento ou retirada das áreas de estoque . xxmaj qualquer controle numérico ou outra forma de</td>\n",
       "    </tr>\n",
       "    <tr>\n",
       "      <td>2</td>\n",
       "      <td>% ( p / v ) em clorofórmio . xxmaj observar à luz ultravioleta de onda longa ( 365 xxunk ) . xxmaj serão observadas duas manchas com xxmaj rf próximos , respectivamente , a 0,22 e xxunk . \\n  xxmaj conservação \\n  xxmaj em frasco de vidro neutro , âmbar , hermeticamente fechado , ao abrigo da luz e do calor . \\n  xxmaj forma derivada</td>\n",
       "    </tr>\n",
       "    <tr>\n",
       "      <td>3</td>\n",
       "      <td>ficam também sob controle todos os sais e isômeros das substâncias enumeradas acima , sempre que seja possível a sua existência . \\n  2 ) fica autorizado o uso de xxup lindano como padrão analítico para fins laboratoriais ou monitoramento de resíduos ambientais , conforme legislação específica . xxbos xxup resolução xxup de xxup diretoria xxup colegiada - xxup rdc xxmaj nº 18 , xxup de 12 xxup de</td>\n",
       "    </tr>\n",
       "    <tr>\n",
       "      <td>4</td>\n",
       "      <td>reprografia , manutenção da infraestrutura física , mensageria , emissão de passagens aéreas , aquisição de bens de consumo e bens permanentes , atividades gerais de administração e engenharia , de responsabilidade da xxmaj agência , no âmbito do xxmaj distrito xxmaj federal ; \\n  xxup iii – propor procedimentos relativos à gestão de atividades e serviços de logística da xxmaj anvisa no âmbito do xxmaj distrito xxmaj federal</td>\n",
       "    </tr>\n",
       "  </tbody>\n",
       "</table>"
      ],
      "text/plain": [
       "<IPython.core.display.HTML object>"
      ]
     },
     "metadata": {},
     "output_type": "display_data"
    }
   ],
   "source": [
    "data_lm.show_batch()"
   ]
  },
  {
   "cell_type": "markdown",
   "metadata": {},
   "source": [
    "## Training the Language Model"
   ]
  },
  {
   "cell_type": "code",
   "execution_count": 4,
   "metadata": {
    "colab": {},
    "colab_type": "code",
    "id": "5UGvV-bik9Zo"
   },
   "outputs": [],
   "source": [
    "learn_lm = language_model_learner(data_lm, AWD_LSTM, drop_mult = 0.5, pretrained=False, callback_fns=ShowGraph)"
   ]
  },
  {
   "cell_type": "code",
   "execution_count": 6,
   "metadata": {
    "colab": {
     "base_uri": "https://localhost:8080/",
     "height": 300
    },
    "colab_type": "code",
    "id": "bh5iI7s6l3dv",
    "outputId": "e9c721bb-a593-4efb-b2fc-96992eaf730c",
    "scrolled": true
   },
   "outputs": [
    {
     "data": {
      "text/html": [],
      "text/plain": [
       "<IPython.core.display.HTML object>"
      ]
     },
     "metadata": {},
     "output_type": "display_data"
    },
    {
     "name": "stdout",
     "output_type": "stream",
     "text": [
      "LR Finder is complete, type {learner_name}.recorder.plot() to see the graph.\n"
     ]
    },
    {
     "data": {
      "image/png": "[encoded data removed]",
      "text/plain": [
       "<Figure size 432x288 with 1 Axes>"
      ]
     },
     "metadata": {
      "needs_background": "light"
     },
     "output_type": "display_data"
    }
   ],
   "source": [
    "learn_lm.lr_find()\n",
    "learn_lm.recorder.plot()"
   ]
  },
  {
   "cell_type": "code",
   "execution_count": 5,
   "metadata": {
    "colab": {
     "base_uri": "https://localhost:8080/",
     "height": 611
    },
    "colab_type": "code",
    "id": "htr9hORnl_66",
    "outputId": "b4844a7e-86ee-40e1-fdab-0cecdf76d2da"
   },
   "outputs": [
    {
     "data": {
      "text/html": [
       "<table border=\"1\" class=\"dataframe\">\n",
       "  <thead>\n",
       "    <tr style=\"text-align: left;\">\n",
       "      <th>epoch</th>\n",
       "      <th>train_loss</th>\n",
       "      <th>valid_loss</th>\n",
       "      <th>accuracy</th>\n",
       "      <th>time</th>\n",
       "    </tr>\n",
       "  </thead>\n",
       "  <tbody>\n",
       "    <tr>\n",
       "      <td>0</td>\n",
       "      <td>3.753799</td>\n",
       "      <td>3.664731</td>\n",
       "      <td>0.381841</td>\n",
       "      <td>03:20</td>\n",
       "    </tr>\n",
       "    <tr>\n",
       "      <td>1</td>\n",
       "      <td>2.628968</td>\n",
       "      <td>2.870552</td>\n",
       "      <td>0.472012</td>\n",
       "      <td>03:20</td>\n",
       "    </tr>\n",
       "    <tr>\n",
       "      <td>2</td>\n",
       "      <td>2.427556</td>\n",
       "      <td>2.644896</td>\n",
       "      <td>0.495405</td>\n",
       "      <td>03:20</td>\n",
       "    </tr>\n",
       "    <tr>\n",
       "      <td>3</td>\n",
       "      <td>2.475480</td>\n",
       "      <td>2.621188</td>\n",
       "      <td>0.494432</td>\n",
       "      <td>03:20</td>\n",
       "    </tr>\n",
       "    <tr>\n",
       "      <td>4</td>\n",
       "      <td>2.475948</td>\n",
       "      <td>2.594481</td>\n",
       "      <td>0.496488</td>\n",
       "      <td>03:20</td>\n",
       "    </tr>\n",
       "    <tr>\n",
       "      <td>5</td>\n",
       "      <td>2.397542</td>\n",
       "      <td>2.551999</td>\n",
       "      <td>0.503365</td>\n",
       "      <td>03:20</td>\n",
       "    </tr>\n",
       "    <tr>\n",
       "      <td>6</td>\n",
       "      <td>2.436933</td>\n",
       "      <td>2.485989</td>\n",
       "      <td>0.511909</td>\n",
       "      <td>03:20</td>\n",
       "    </tr>\n",
       "    <tr>\n",
       "      <td>7</td>\n",
       "      <td>2.263047</td>\n",
       "      <td>2.437244</td>\n",
       "      <td>0.520211</td>\n",
       "      <td>03:20</td>\n",
       "    </tr>\n",
       "    <tr>\n",
       "      <td>8</td>\n",
       "      <td>2.231137</td>\n",
       "      <td>2.350238</td>\n",
       "      <td>0.533918</td>\n",
       "      <td>03:20</td>\n",
       "    </tr>\n",
       "    <tr>\n",
       "      <td>9</td>\n",
       "      <td>2.062670</td>\n",
       "      <td>2.278222</td>\n",
       "      <td>0.546588</td>\n",
       "      <td>03:20</td>\n",
       "    </tr>\n",
       "    <tr>\n",
       "      <td>10</td>\n",
       "      <td>1.976768</td>\n",
       "      <td>2.224105</td>\n",
       "      <td>0.554525</td>\n",
       "      <td>03:20</td>\n",
       "    </tr>\n",
       "    <tr>\n",
       "      <td>11</td>\n",
       "      <td>1.856946</td>\n",
       "      <td>2.156178</td>\n",
       "      <td>0.566081</td>\n",
       "      <td>03:20</td>\n",
       "    </tr>\n",
       "    <tr>\n",
       "      <td>12</td>\n",
       "      <td>1.789129</td>\n",
       "      <td>2.099918</td>\n",
       "      <td>0.576685</td>\n",
       "      <td>03:20</td>\n",
       "    </tr>\n",
       "    <tr>\n",
       "      <td>13</td>\n",
       "      <td>1.673040</td>\n",
       "      <td>2.042558</td>\n",
       "      <td>0.588281</td>\n",
       "      <td>03:20</td>\n",
       "    </tr>\n",
       "    <tr>\n",
       "      <td>14</td>\n",
       "      <td>1.606825</td>\n",
       "      <td>2.007897</td>\n",
       "      <td>0.596291</td>\n",
       "      <td>03:20</td>\n",
       "    </tr>\n",
       "    <tr>\n",
       "      <td>15</td>\n",
       "      <td>1.377383</td>\n",
       "      <td>1.971736</td>\n",
       "      <td>0.605771</td>\n",
       "      <td>03:20</td>\n",
       "    </tr>\n",
       "    <tr>\n",
       "      <td>16</td>\n",
       "      <td>1.474306</td>\n",
       "      <td>1.945508</td>\n",
       "      <td>0.611213</td>\n",
       "      <td>03:20</td>\n",
       "    </tr>\n",
       "    <tr>\n",
       "      <td>17</td>\n",
       "      <td>1.402280</td>\n",
       "      <td>1.934703</td>\n",
       "      <td>0.615003</td>\n",
       "      <td>03:20</td>\n",
       "    </tr>\n",
       "    <tr>\n",
       "      <td>18</td>\n",
       "      <td>1.364682</td>\n",
       "      <td>1.930336</td>\n",
       "      <td>0.616655</td>\n",
       "      <td>03:20</td>\n",
       "    </tr>\n",
       "    <tr>\n",
       "      <td>19</td>\n",
       "      <td>1.317755</td>\n",
       "      <td>1.930108</td>\n",
       "      <td>0.616962</td>\n",
       "      <td>03:20</td>\n",
       "    </tr>\n",
       "  </tbody>\n",
       "</table>"
      ],
      "text/plain": [
       "<IPython.core.display.HTML object>"
      ]
     },
     "metadata": {},
     "output_type": "display_data"
    },
    {
     "data": {
      "image/png": "[encoded data removed]",
      "text/plain": [
       "<Figure size 432x288 with 1 Axes>"
      ]
     },
     "metadata": {},
     "output_type": "display_data"
    },
    {
     "name": "stdout",
     "output_type": "stream",
     "text": [
      "Better model found at epoch 0 with accuracy value: 0.3818407356739044.\n",
      "Better model found at epoch 1 with accuracy value: 0.4720115065574646.\n",
      "Better model found at epoch 2 with accuracy value: 0.4954052269458771.\n",
      "Better model found at epoch 4 with accuracy value: 0.4964875280857086.\n",
      "Better model found at epoch 5 with accuracy value: 0.5033648610115051.\n",
      "Better model found at epoch 6 with accuracy value: 0.5119093656539917.\n",
      "Better model found at epoch 7 with accuracy value: 0.5202112793922424.\n",
      "Better model found at epoch 8 with accuracy value: 0.5339184403419495.\n",
      "Better model found at epoch 9 with accuracy value: 0.5465880036354065.\n",
      "Better model found at epoch 10 with accuracy value: 0.5545252561569214.\n",
      "Better model found at epoch 11 with accuracy value: 0.566081166267395.\n",
      "Better model found at epoch 12 with accuracy value: 0.5766850113868713.\n",
      "Better model found at epoch 13 with accuracy value: 0.5882808566093445.\n",
      "Better model found at epoch 14 with accuracy value: 0.5962914228439331.\n",
      "Better model found at epoch 15 with accuracy value: 0.6057705283164978.\n",
      "Better model found at epoch 16 with accuracy value: 0.6112131476402283.\n",
      "Better model found at epoch 17 with accuracy value: 0.6150034666061401.\n",
      "Better model found at epoch 18 with accuracy value: 0.6166549324989319.\n",
      "Better model found at epoch 19 with accuracy value: 0.6169621348381042.\n"
     ]
    }
   ],
   "source": [
    "max_lr = 1e-2\n",
    "learn_lm.fit_one_cycle(20, max_lr=max_lr, moms=(0.8,0.7), callbacks=[callbacks.SaveModelCallback(learn_lm, every='improvement', monitor='accuracy', name='learn_lm')])"
   ]
  },
  {
   "cell_type": "code",
   "execution_count": 6,
   "metadata": {
    "colab": {},
    "colab_type": "code",
    "id": "lpJPrAOeqrEU"
   },
   "outputs": [],
   "source": [
    "#Load the best version of the language model\n",
    "learn_lm.load('learn_lm')\n",
    "learn_lm.save_encoder('enc')"
   ]
  },
  {
   "cell_type": "code",
   "execution_count": 7,
   "metadata": {
    "colab": {
     "base_uri": "https://localhost:8080/",
     "height": 122
    },
    "colab_type": "code",
    "id": "tNmANFscwA0f",
    "outputId": "070091c9-4c0a-4400-9eae-d22b6ad21b67"
   },
   "outputs": [
    {
     "name": "stdout",
     "output_type": "stream",
     "text": [
      "Art. 1º Esta resolução visa ser tendo em vista os riscos oferecidos à saúde humana e ao meio ambiente decorrentes da alteração da finalidade a que se destina , conforme Anexo II desta Resolução . Esta Resolução se aplica a todos os produtos sujeitos à vigilância sanitária , inclusive aqueles destinados exclusivamente à exportação e aos produtos abrangidos por este regulamento . \n",
      " \n",
      "  Art . 2º As empresas têm o prazo de 180 ( cento e oitenta ) dias , a contar da data da publicação deste Regulamento , para se adequarem ao mesmo . \n",
      "  Art . 3º Esta Resolução entra em vigor na data de sua publicação e revogam - se as disposições em contrário . \n",
      "  GONZALO VECINA NETO xxbos RESOLUÇÃO DA DIRETORIA COLEGIADA – RDC Nº 44 , DE 18 DE AGOSTO DE 2007 \n",
      "  ( Publicada no DOU nº 184 , de 23 de setembro de 2009 ) \n",
      "  ( Revogada pela Resolução – RDC nº 23 , de 20 de maio de 2009 ) \n",
      "  Dispõe sobre o\n"
     ]
    }
   ],
   "source": [
    "#Seeing what kind of text it generates\n",
    "print(learn_lm.predict('Art. 1º Esta resolução visa',n_words=200,temperature=0.8))"
   ]
  },
  {
   "cell_type": "markdown",
   "metadata": {},
   "source": [
    "## Now, extracting the vector representation of the texts"
   ]
  },
  {
   "cell_type": "code",
   "execution_count": 3,
   "metadata": {},
   "outputs": [],
   "source": [
    "#loading de list with all the texts that I want to get the representation\n",
    "normas = list(pd.read_csv('normas_vigentes.csv',sep='|',encoding='utf-8')['textos'])"
   ]
  },
  {
   "cell_type": "code",
   "execution_count": 4,
   "metadata": {},
   "outputs": [
    {
     "data": {
      "text/plain": [
       "LanguageLearner(data=TextLMDataBunch;\n",
       "\n",
       "Train: LabelList (9228 items)\n",
       "x: LMTextList\n",
       "xxbos o xxmaj para efeito desta xxmaj resolução são adotadas as seguintes definições :,xxbos o xxmaj termo de xxmaj consentimento xxmaj livre e xxmaj esclarecido deve ser redigido em linguagem clara e compreensível e deve conter , quando couber :,xxbos . xxmaj os desinfetantes e detergentes devem ter sua eficácia comprovada e ser monitorados para detectar possível contaminação microbiana .,xxbos ° o descumprimento desta xxmaj resolução constitui infração sanitária sujeitando os infratores as penalidades da xxmaj lei n ° 6.437 , de 20 de agosto de 1977 e demais disposições aplicáveis ;,xxbos a precisão deve ser expressa por meio da repetibilidade , da precisão intermediária ou da reprodutibilidade .\n",
       "y: LMLabelList\n",
       ",,,,\n",
       "Path: .;\n",
       "\n",
       "Valid: LabelList (2308 items)\n",
       "x: LMTextList\n",
       "xxbos xxmaj as petições de certificação que não estiverem xxunk com a documentação exigida quando do seu protocolo , ou aquelas cujo resultado da análise técnica for xxunk , estão sujeitas a indeferimento .,xxbos o a protocolização dos documentos de competência dos xxmaj postos xxmaj xxunk de xxmaj vigilância xxmaj sanitária da xxup anvisa , onde o xxmaj sistema de xxmaj informação xxmaj xxunk de xxmaj dados xxmaj xxunk do xxmaj projeto xxmaj porto xxmaj sem xxmaj papel estiver implantado deverá ser realizada por meio deste xxmaj sistema .,xxbos . a alteração de posologia requer a apresentação dos documentos constantes dos incisos xxup xlv e xxup xlvi do art . 50 desta xxmaj resolução .,xxbos ° xxmaj materiais a serem xxunk a estoques xxunk,xxbos .devem ser tomadas precauções para minimizar a contaminação durante todas as etapas de processamento , incluindo as etapas anteriores à esterilização .\n",
       "y: LMLabelList\n",
       ",,,,\n",
       "Path: .;\n",
       "\n",
       "Test: None, model=SequentialRNN(\n",
       "  (0): AWD_LSTM(\n",
       "    (encoder): Embedding(7264, 400, padding_idx=1)\n",
       "    (encoder_dp): EmbeddingDropout(\n",
       "      (emb): Embedding(7264, 400, padding_idx=1)\n",
       "    )\n",
       "    (rnns): ModuleList(\n",
       "      (0): WeightDropout(\n",
       "        (module): LSTM(400, 1152, batch_first=True)\n",
       "      )\n",
       "      (1): WeightDropout(\n",
       "        (module): LSTM(1152, 1152, batch_first=True)\n",
       "      )\n",
       "      (2): WeightDropout(\n",
       "        (module): LSTM(1152, 400, batch_first=True)\n",
       "      )\n",
       "    )\n",
       "    (input_dp): RNNDropout()\n",
       "    (hidden_dps): ModuleList(\n",
       "      (0): RNNDropout()\n",
       "      (1): RNNDropout()\n",
       "      (2): RNNDropout()\n",
       "    )\n",
       "  )\n",
       "  (1): LinearDecoder(\n",
       "    (decoder): Linear(in_features=400, out_features=7264, bias=True)\n",
       "    (output_dp): RNNDropout()\n",
       "  )\n",
       "), opt_func=functools.partial(<class 'torch.optim.adam.Adam'>, betas=(0.9, 0.99)), loss_func=FlattenedLoss of CrossEntropyLoss(), metrics=[<function accuracy at 0x7fab9014f4d0>], true_wd=True, bn_wd=True, wd=0.01, train_bn=True, path=PosixPath('.'), model_dir='models', callback_fns=[functools.partial(<class 'fastai.basic_train.Recorder'>, add_time=True, silent=False), <class 'fastai.train.ShowGraph'>], callbacks=[RNNTrainer\n",
       "learn: ...\n",
       "alpha: 2.0\n",
       "beta: 1.0], layer_groups=[Sequential(\n",
       "  (0): WeightDropout(\n",
       "    (module): LSTM(400, 1152, batch_first=True)\n",
       "  )\n",
       "  (1): RNNDropout()\n",
       "), Sequential(\n",
       "  (0): WeightDropout(\n",
       "    (module): LSTM(1152, 1152, batch_first=True)\n",
       "  )\n",
       "  (1): RNNDropout()\n",
       "), Sequential(\n",
       "  (0): WeightDropout(\n",
       "    (module): LSTM(1152, 400, batch_first=True)\n",
       "  )\n",
       "  (1): RNNDropout()\n",
       "), Sequential(\n",
       "  (0): Embedding(7264, 400, padding_idx=1)\n",
       "  (1): EmbeddingDropout(\n",
       "    (emb): Embedding(7264, 400, padding_idx=1)\n",
       "  )\n",
       "  (2): LinearDecoder(\n",
       "    (decoder): Linear(in_features=400, out_features=7264, bias=True)\n",
       "    (output_dp): RNNDropout()\n",
       "  )\n",
       ")], add_time=True, silent=False, cb_fns_registered=False)"
      ]
     },
     "execution_count": 4,
     "metadata": {},
     "output_type": "execute_result"
    }
   ],
   "source": [
    "data_lm = load_data('.',file='data_lm')\n",
    "learn_lm = language_model_learner(data_lm, AWD_LSTM, drop_mult = 0.5, pretrained=False, callback_fns=ShowGraph)\n",
    "learn_lm.load('learn_lm')"
   ]
  },
  {
   "cell_type": "code",
   "execution_count": 10,
   "metadata": {
    "scrolled": true
   },
   "outputs": [
    {
     "name": "stdout",
     "output_type": "stream",
     "text": [
      "107 out of 866\n",
      "214 out of 866\n",
      "428 out of 866\n",
      "856 out of 866\n"
     ]
    }
   ],
   "source": [
    "#Here I get the vector representation of the text using the trained encoder\n",
    "mbe = MultiBatchEncoder(70,1400,learn_lm.model[0])\n",
    "\n",
    "def masked_concat_pool(outputs, mask):\n",
    "    \"Pool MultiBatchEncoder outputs into one vector [last_hidden, max_pool, avg_pool].\"\n",
    "    output = outputs[-1]\n",
    "    avg_pool = output.masked_fill(mask[:, :, None], 0).mean(dim=1)\n",
    "    avg_pool *= output.size(1) / (output.size(1)-mask.type(avg_pool.dtype).sum(dim=1))[:,None]\n",
    "    max_pool = output.masked_fill(mask[:,:,None], -float('inf')).max(dim=1)[0]\n",
    "    x = torch.cat([output[:,-1], max_pool, avg_pool], 1)\n",
    "    return x\n",
    "\n",
    "X = np.zeros((1,1200))\n",
    "i=0\n",
    "for norma in normas:\n",
    "    xb,yb = learn_lm.data.one_item(norma)\n",
    "    sentence = torch.cuda.LongTensor(xb.tolist()[0]).unsqueeze(0)\n",
    "    raw_outputs, outputs, masks = mbe.forward(sentence)\n",
    "    sentence_rep = masked_concat_pool(outputs, masks)\n",
    "    X = np.append(X,sentence_rep,axis=0)\n",
    "    if len(normas) % (i+1) == 10: print(str(i+1) + ' out of ' + str(len(normas)))\n",
    "    i+=1"
   ]
  },
  {
   "cell_type": "code",
   "execution_count": 12,
   "metadata": {},
   "outputs": [],
   "source": [
    "#the first row is the initialized as zeros, i dont need it\n",
    "X = np.delete(X, (0), axis=0)"
   ]
  },
  {
   "cell_type": "code",
   "execution_count": 13,
   "metadata": {},
   "outputs": [],
   "source": [
    "#save the texts repesentation in a file\n",
    "np.save('X_LM', X)"
   ]
  }
 ],
 "metadata": {
  "accelerator": "GPU",
  "colab": {
   "name": "Classificacao_Normas.ipynb",
   "provenance": [],
   "version": "0.3.2"
  },
  "kernelspec": {
   "display_name": "Python 3",
   "language": "python",
   "name": "python3"
  },
  "language_info": {
   "codemirror_mode": {
    "name": "ipython",
    "version": 3
   },
   "file_extension": ".py",
   "mimetype": "text/x-python",
   "name": "python",
   "nbconvert_exporter": "python",
   "pygments_lexer": "ipython3",
   "version": "3.7.4"
  }
 },
 "nbformat": 4,
 "nbformat_minor": 1
}
