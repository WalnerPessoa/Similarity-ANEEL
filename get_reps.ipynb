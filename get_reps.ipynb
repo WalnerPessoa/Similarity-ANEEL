{
 "cells": [
  {
   "cell_type": "code",
   "execution_count": 1,
   "metadata": {
    "colab": {},
    "colab_type": "code",
    "id": "aweZjEfYggDt"
   },
   "outputs": [],
   "source": [
    "%reload_ext autoreload\n",
    "%autoreload 2\n",
    "%matplotlib inline"
   ]
  },
  {
   "cell_type": "code",
   "execution_count": 2,
   "metadata": {
    "colab": {},
    "colab_type": "code",
    "id": "Jombk9A5NvoG"
   },
   "outputs": [],
   "source": [
    "from fastai import *\n",
    "from fastai.text import *"
   ]
  },
  {
   "cell_type": "markdown",
   "metadata": {
    "colab_type": "text",
    "id": "7u5rewQCPRXi"
   },
   "source": [
    "## Creating the DataBunch for the language model"
   ]
  },
  {
   "cell_type": "markdown",
   "metadata": {
    "colab_type": "text",
    "id": "iXzujDAVvXot"
   },
   "source": [
    "At first, getting the csv file with the texts."
   ]
  },
  {
   "cell_type": "code",
   "execution_count": 3,
   "metadata": {
    "colab": {
     "base_uri": "https://localhost:8080/",
     "height": 136
    },
    "colab_type": "code",
    "id": "Uy_AcCYccBQ2",
    "outputId": "bc20e5da-0f24-4996-b018-fcbb4732487e"
   },
   "outputs": [
    {
     "name": "stdout",
     "output_type": "stream",
     "text": [
      "fatal: destination path 'Similarity-ANEEL' already exists and is not an empty directory.\r\n"
     ]
    }
   ],
   "source": [
    "! git clone https://github.com/thiagodma/Similarity-ANEEL"
   ]
  },
  {
   "cell_type": "code",
   "execution_count": 4,
   "metadata": {},
   "outputs": [
    {
     "name": "stdout",
     "output_type": "stream",
     "text": [
      "/home/gecor_anvs/Similarity-ANEEL\n"
     ]
    }
   ],
   "source": [
    "%cd Similarity-ANEEL"
   ]
  },
  {
   "cell_type": "code",
   "execution_count": 5,
   "metadata": {
    "colab": {
     "base_uri": "https://localhost:8080/",
     "height": 666
    },
    "colab_type": "code",
    "id": "AV3NyhPDbgqY",
    "outputId": "0a1c93a0-ada2-48fb-e7c4-a1e8d4eaddf3"
   },
   "outputs": [
    {
     "data": {
      "text/html": [
       "<div>\n",
       "<style scoped>\n",
       "    .dataframe tbody tr th:only-of-type {\n",
       "        vertical-align: middle;\n",
       "    }\n",
       "\n",
       "    .dataframe tbody tr th {\n",
       "        vertical-align: top;\n",
       "    }\n",
       "\n",
       "    .dataframe thead th {\n",
       "        text-align: right;\n",
       "    }\n",
       "</style>\n",
       "<table border=\"1\" class=\"dataframe\">\n",
       "  <thead>\n",
       "    <tr style=\"text-align: right;\">\n",
       "      <th></th>\n",
       "      <th>Unnamed: 0</th>\n",
       "      <th>Unnamed: 0.1</th>\n",
       "      <th>Norma</th>\n",
       "      <th>Data de publicação</th>\n",
       "      <th>Ementa</th>\n",
       "      <th>Órgão de origem</th>\n",
       "      <th>Assuntos</th>\n",
       "      <th>Texto Integral</th>\n",
       "      <th>Tipo</th>\n",
       "      <th>Filename</th>\n",
       "      <th>Texto Extraído</th>\n",
       "    </tr>\n",
       "  </thead>\n",
       "  <tbody>\n",
       "    <tr>\n",
       "      <td>0</td>\n",
       "      <td>0</td>\n",
       "      <td>0</td>\n",
       "      <td>INA - INSTRUÇÃO ADMINISTRATIVA 001/2019</td>\n",
       "      <td>05/04/2019</td>\n",
       "      <td>Dispõe sobre procedimentos para atualização, m...</td>\n",
       "      <td>SGI/ANEEL</td>\n",
       "      <td>Procedimento \\n</td>\n",
       "      <td>http://www2.aneel.gov.br/cedoc/ina2019001sgi.pdf</td>\n",
       "      <td>INA</td>\n",
       "      <td>ina2019001sgi.pdf</td>\n",
       "      <td>AGÊNCIA NACIONAL DE ENERGIA ELÉTRICA - ANEEL  ...</td>\n",
       "    </tr>\n",
       "    <tr>\n",
       "      <td>1</td>\n",
       "      <td>1</td>\n",
       "      <td>1</td>\n",
       "      <td>INA - INSTRUÇÃO ADMINISTRATIVA 001/2018</td>\n",
       "      <td>25/05/2018</td>\n",
       "      <td>Dispõe sobre procedimentos para a manutenção d...</td>\n",
       "      <td>SGI/ANEEL</td>\n",
       "      <td>Procedimento \\n</td>\n",
       "      <td>http://www2.aneel.gov.br/cedoc/ina2018001sgi.pdf</td>\n",
       "      <td>INA</td>\n",
       "      <td>ina2018001sgi.pdf</td>\n",
       "      <td>AGÊNCIA NACIONAL DE ENERGIA ELÉTRICA - ANEEL  ...</td>\n",
       "    </tr>\n",
       "    <tr>\n",
       "      <td>2</td>\n",
       "      <td>2</td>\n",
       "      <td>2</td>\n",
       "      <td>INA - INSTRUÇÃO ADMINISTRATIVA 001/2018</td>\n",
       "      <td>04/05/2018</td>\n",
       "      <td>Altera o limite do valor de reembolso relativo...</td>\n",
       "      <td>SRH/ANEEL</td>\n",
       "      <td>Alteração \\n</td>\n",
       "      <td>http://www2.aneel.gov.br/cedoc/ina2018001srh.pdf</td>\n",
       "      <td>INA</td>\n",
       "      <td>ina2018001srh.pdf</td>\n",
       "      <td>AGÊNCIA NACIONAL DE ENERGIA ELÉTRICA - ANEEL  ...</td>\n",
       "    </tr>\n",
       "    <tr>\n",
       "      <td>3</td>\n",
       "      <td>3</td>\n",
       "      <td>3</td>\n",
       "      <td>INA - INSTRUÇÃO ADMINISTRATIVA 002/2019</td>\n",
       "      <td>20/05/2019</td>\n",
       "      <td>Dispõe sobre a composição e o funcionamento do...</td>\n",
       "      <td>SGI/ANEEL</td>\n",
       "      <td>Fixação \\n</td>\n",
       "      <td>http://www2.aneel.gov.br/cedoc/ina2019002sgi.pdf</td>\n",
       "      <td>INA</td>\n",
       "      <td>ina2019002sgi.pdf</td>\n",
       "      <td>AGÊNCIA NACIONAL DE ENERGIA ELÉTRICA  ANEEL   ...</td>\n",
       "    </tr>\n",
       "    <tr>\n",
       "      <td>4</td>\n",
       "      <td>4</td>\n",
       "      <td>4</td>\n",
       "      <td>INA - INSTRUÇÃO ADMINISTRATIVA 003/2019</td>\n",
       "      <td>13/09/2019</td>\n",
       "      <td>Dispõe sobre a definição de acrônimos das coor...</td>\n",
       "      <td>SGI/ANEEL</td>\n",
       "      <td>Fixação \\n</td>\n",
       "      <td>http://www2.aneel.gov.br/cedoc/ina2019003sgi.pdf</td>\n",
       "      <td>INA</td>\n",
       "      <td>ina2019003sgi.pdf</td>\n",
       "      <td>AGÊNCIA NACIONAL DE ENERGIA ELÉTRICA - ANEEL  ...</td>\n",
       "    </tr>\n",
       "  </tbody>\n",
       "</table>\n",
       "</div>"
      ],
      "text/plain": [
       "   Unnamed: 0  Unnamed: 0.1                                    Norma  \\\n",
       "0           0             0  INA - INSTRUÇÃO ADMINISTRATIVA 001/2019   \n",
       "1           1             1  INA - INSTRUÇÃO ADMINISTRATIVA 001/2018   \n",
       "2           2             2  INA - INSTRUÇÃO ADMINISTRATIVA 001/2018   \n",
       "3           3             3  INA - INSTRUÇÃO ADMINISTRATIVA 002/2019   \n",
       "4           4             4  INA - INSTRUÇÃO ADMINISTRATIVA 003/2019   \n",
       "\n",
       "  Data de publicação                                             Ementa  \\\n",
       "0         05/04/2019  Dispõe sobre procedimentos para atualização, m...   \n",
       "1         25/05/2018  Dispõe sobre procedimentos para a manutenção d...   \n",
       "2         04/05/2018  Altera o limite do valor de reembolso relativo...   \n",
       "3         20/05/2019  Dispõe sobre a composição e o funcionamento do...   \n",
       "4         13/09/2019  Dispõe sobre a definição de acrônimos das coor...   \n",
       "\n",
       "  Órgão de origem          Assuntos  \\\n",
       "0       SGI/ANEEL  Procedimento \\n    \n",
       "1       SGI/ANEEL  Procedimento \\n    \n",
       "2       SRH/ANEEL     Alteração \\n    \n",
       "3       SGI/ANEEL       Fixação \\n    \n",
       "4       SGI/ANEEL       Fixação \\n    \n",
       "\n",
       "                                     Texto Integral Tipo           Filename  \\\n",
       "0  http://www2.aneel.gov.br/cedoc/ina2019001sgi.pdf  INA  ina2019001sgi.pdf   \n",
       "1  http://www2.aneel.gov.br/cedoc/ina2018001sgi.pdf  INA  ina2018001sgi.pdf   \n",
       "2  http://www2.aneel.gov.br/cedoc/ina2018001srh.pdf  INA  ina2018001srh.pdf   \n",
       "3  http://www2.aneel.gov.br/cedoc/ina2019002sgi.pdf  INA  ina2019002sgi.pdf   \n",
       "4  http://www2.aneel.gov.br/cedoc/ina2019003sgi.pdf  INA  ina2019003sgi.pdf   \n",
       "\n",
       "                                      Texto Extraído  \n",
       "0  AGÊNCIA NACIONAL DE ENERGIA ELÉTRICA - ANEEL  ...  \n",
       "1  AGÊNCIA NACIONAL DE ENERGIA ELÉTRICA - ANEEL  ...  \n",
       "2  AGÊNCIA NACIONAL DE ENERGIA ELÉTRICA - ANEEL  ...  \n",
       "3  AGÊNCIA NACIONAL DE ENERGIA ELÉTRICA  ANEEL   ...  \n",
       "4  AGÊNCIA NACIONAL DE ENERGIA ELÉTRICA - ANEEL  ...  "
      ]
     },
     "execution_count": 5,
     "metadata": {},
     "output_type": "execute_result"
    }
   ],
   "source": [
    "df = pd.read_csv('LanguageModelFile.csv', delimiter='|')\n",
    "df.head()"
   ]
  },
  {
   "cell_type": "code",
   "execution_count": 6,
   "metadata": {
    "colab": {
     "base_uri": "https://localhost:8080/",
     "height": 204
    },
    "colab_type": "code",
    "id": "6shFo7xnqijB",
    "outputId": "f54cd4d4-9588-479e-a598-2bc50675a17b"
   },
   "outputs": [
    {
     "data": {
      "text/plain": [
       "Unnamed: 0            0\n",
       "Unnamed: 0.1          0\n",
       "Norma                 0\n",
       "Data de publicação    0\n",
       "Ementa                0\n",
       "Órgão de origem       0\n",
       "Assuntos              0\n",
       "Texto Integral        0\n",
       "Tipo                  0\n",
       "Filename              0\n",
       "Texto Extraído        0\n",
       "dtype: int64"
      ]
     },
     "execution_count": 6,
     "metadata": {},
     "output_type": "execute_result"
    }
   ],
   "source": [
    "df.isnull().sum()"
   ]
  },
  {
   "cell_type": "markdown",
   "metadata": {
    "colab_type": "text",
    "id": "aH6lhdV7vqbS"
   },
   "source": [
    "Here it was identified that exist NaN cells in the DataFrame, whose colunms should be stripped."
   ]
  },
  {
   "cell_type": "code",
   "execution_count": 7,
   "metadata": {
    "colab": {
     "base_uri": "https://localhost:8080/",
     "height": 204
    },
    "colab_type": "code",
    "id": "G33kL00OqxF_",
    "outputId": "240cf3f5-c4e6-456c-b6f5-39e7a532a67f"
   },
   "outputs": [
    {
     "data": {
      "text/plain": [
       "Unnamed: 0            0\n",
       "Unnamed: 0.1          0\n",
       "Norma                 0\n",
       "Data de publicação    0\n",
       "Ementa                0\n",
       "Órgão de origem       0\n",
       "Assuntos              0\n",
       "Texto Integral        0\n",
       "Tipo                  0\n",
       "Filename              0\n",
       "Texto Extraído        0\n",
       "dtype: int64"
      ]
     },
     "execution_count": 7,
     "metadata": {},
     "output_type": "execute_result"
    }
   ],
   "source": [
    "df = df.dropna()\n",
    "df.isnull().sum()"
   ]
  },
  {
   "cell_type": "code",
   "execution_count": 8,
   "metadata": {
    "colab": {},
    "colab_type": "code",
    "id": "eNJBahuPrxic"
   },
   "outputs": [],
   "source": [
    "df.to_csv(r'./LanguageModelFile.csv', sep='|')"
   ]
  },
  {
   "cell_type": "code",
   "execution_count": 9,
   "metadata": {
    "colab": {},
    "colab_type": "code",
    "id": "WxnE3oOthDDo"
   },
   "outputs": [],
   "source": [
    "data_lm = TextLMDataBunch.from_csv('.','LanguageModelFile.csv',delimiter='|',text_cols='Texto Extraído',label_cols='Assuntos')\n",
    "# The first two parameters are the path to the csv (current directory) and the csv name.\n",
    "\n",
    "#data_lm.save('data_lm')"
   ]
  },
  {
   "cell_type": "code",
   "execution_count": 10,
   "metadata": {
    "colab": {
     "base_uri": "https://localhost:8080/",
     "height": 323
    },
    "colab_type": "code",
    "id": "r8fLcji9iSi6",
    "outputId": "08214201-3229-444e-e5c6-7c5ce183350f",
    "scrolled": true
   },
   "outputs": [
    {
     "data": {
      "text/html": [
       "<table border=\"1\" class=\"dataframe\">\n",
       "  <thead>\n",
       "    <tr style=\"text-align: right;\">\n",
       "      <th>idx</th>\n",
       "      <th>text</th>\n",
       "    </tr>\n",
       "  </thead>\n",
       "  <tbody>\n",
       "    <tr>\n",
       "      <td>0</td>\n",
       "      <td>8 de fevereiro de 2001 , e dá outras providências . o xxup diretor - xxup geral xxup da xxup agência xxup nacional xxup de xxup energia xxup elétrica - xxup aneel , no uso de suas atribuições regimentais , de acordo com deliberação da xxmaj diretoria , tendo em vista o disposto no art . 11 da xxmaj lei nº 9.074 , de 7 de julho de 1995 ,</td>\n",
       "    </tr>\n",
       "    <tr>\n",
       "      <td>1</td>\n",
       "      <td>de xxmaj camaçari - xxup fafen xxmaj energia , no xxmaj município de xxmaj camaçari , xxmaj estado da xxmaj bahia . o xxup diretor - xxup geral xxup da xxup agência xxup nacional xxup de xxup energia xxup elétrica - xxup aneel , no uso de suas atribuições regimentais , de acordo com deliberação da xxmaj diretoria , tendo em vista o disposto no inciso xxup xxxi , art</td>\n",
       "    </tr>\n",
       "    <tr>\n",
       "      <td>2</td>\n",
       "      <td>( 2,3 a 25 kv ) xxunk xxunk 90,13 79,79 45,18 40,36 26,21 23,42 139,17 xxunk 63,92 56,37 xxup light xxup tarifa xxup de xxup ultrapassagem - xxup horo - xxup sazonal xxup azul xxup quadro d xxup tusd + xxup tust + xxup te xxup tusd + xxup tust xxup te xxup subgrupo xxup demanda ( xxup r$ / kw ) xxup demanda ( xxup r$ / kw )</td>\n",
       "    </tr>\n",
       "    <tr>\n",
       "      <td>3</td>\n",
       "      <td>proprietária da linha seccionada , referentes às instalações e ( xxmaj incluída pela xxup ren xxup aneel 302 , de 28.02.2008 ) e ) a concessionária de transmissão proprietária da linha seccionada deverá verificar a conformidade das especificações e dos projetos relacionados às instalações e equipamentos referidos ( xxmaj incluída pela xxup ren xxup aneel 302 , de 28.02.2008 ) f ) o empreendedor das instalações licitadas receberá a integralidade</td>\n",
       "    </tr>\n",
       "    <tr>\n",
       "      <td>4</td>\n",
       "      <td>9.427 , de 26 de dezembro de 1996 , na xxmaj lei no 10.438 , de 26 de abril de 2002 , e considerando o que consta no xxmaj processo no xxunk / 2016 - 74 e as contribuições recebidas na xxmaj audiência xxmaj pública no 44 / 2016 , realizada no período de 14 de julho a 13 de agosto de 2016 , resolve : xxmaj art . 1º</td>\n",
       "    </tr>\n",
       "  </tbody>\n",
       "</table>"
      ],
      "text/plain": [
       "<IPython.core.display.HTML object>"
      ]
     },
     "metadata": {},
     "output_type": "display_data"
    }
   ],
   "source": [
    "data_lm.show_batch()"
   ]
  },
  {
   "cell_type": "code",
   "execution_count": 11,
   "metadata": {
    "colab": {},
    "colab_type": "code",
    "id": "gOLaYP53t93J"
   },
   "outputs": [],
   "source": [
    "data_lm.save('data_lm')"
   ]
  },
  {
   "cell_type": "markdown",
   "metadata": {
    "colab_type": "text",
    "id": "jAj6j5ZGPRXr"
   },
   "source": [
    "## Training the Language Model"
   ]
  },
  {
   "cell_type": "code",
   "execution_count": 12,
   "metadata": {
    "colab": {},
    "colab_type": "code",
    "id": "5UGvV-bik9Zo"
   },
   "outputs": [],
   "source": [
    "learn_lm = language_model_learner(data_lm, AWD_LSTM, drop_mult = 0.5, pretrained=False, callback_fns=ShowGraph)"
   ]
  },
  {
   "cell_type": "code",
   "execution_count": 13,
   "metadata": {
    "colab": {
     "base_uri": "https://localhost:8080/",
     "height": 296
    },
    "colab_type": "code",
    "id": "bh5iI7s6l3dv",
    "outputId": "441a3271-895d-4000-a597-0af9f9e97367",
    "scrolled": true
   },
   "outputs": [
    {
     "data": {
      "text/html": [],
      "text/plain": [
       "<IPython.core.display.HTML object>"
      ]
     },
     "metadata": {},
     "output_type": "display_data"
    },
    {
     "name": "stdout",
     "output_type": "stream",
     "text": [
      "LR Finder is complete, type {learner_name}.recorder.plot() to see the graph.\n"
     ]
    },
    {
     "data": {
      "image/png": "[encoded data removed]",
      "text/plain": [
       "<Figure size 432x288 with 1 Axes>"
      ]
     },
     "metadata": {
      "needs_background": "light"
     },
     "output_type": "display_data"
    }
   ],
   "source": [
    "learn_lm.lr_find()\n",
    "learn_lm.recorder.plot()"
   ]
  },
  {
   "cell_type": "code",
   "execution_count": 14,
   "metadata": {
    "colab": {
     "base_uri": "https://localhost:8080/",
     "height": 440
    },
    "colab_type": "code",
    "id": "htr9hORnl_66",
    "outputId": "fecbf1b3-227d-46b4-be9f-6e7f57f65ecd"
   },
   "outputs": [
    {
     "data": {
      "text/html": [
       "<table border=\"1\" class=\"dataframe\">\n",
       "  <thead>\n",
       "    <tr style=\"text-align: left;\">\n",
       "      <th>epoch</th>\n",
       "      <th>train_loss</th>\n",
       "      <th>valid_loss</th>\n",
       "      <th>accuracy</th>\n",
       "      <th>time</th>\n",
       "    </tr>\n",
       "  </thead>\n",
       "  <tbody>\n",
       "    <tr>\n",
       "      <td>0</td>\n",
       "      <td>3.699338</td>\n",
       "      <td>3.281979</td>\n",
       "      <td>0.434519</td>\n",
       "      <td>01:17</td>\n",
       "    </tr>\n",
       "    <tr>\n",
       "      <td>1</td>\n",
       "      <td>2.417689</td>\n",
       "      <td>2.272296</td>\n",
       "      <td>0.581551</td>\n",
       "      <td>01:17</td>\n",
       "    </tr>\n",
       "    <tr>\n",
       "      <td>2</td>\n",
       "      <td>1.922076</td>\n",
       "      <td>2.044888</td>\n",
       "      <td>0.610264</td>\n",
       "      <td>01:17</td>\n",
       "    </tr>\n",
       "    <tr>\n",
       "      <td>3</td>\n",
       "      <td>1.720849</td>\n",
       "      <td>1.995373</td>\n",
       "      <td>0.616851</td>\n",
       "      <td>01:17</td>\n",
       "    </tr>\n",
       "    <tr>\n",
       "      <td>4</td>\n",
       "      <td>2.001456</td>\n",
       "      <td>2.017739</td>\n",
       "      <td>0.608403</td>\n",
       "      <td>01:17</td>\n",
       "    </tr>\n",
       "    <tr>\n",
       "      <td>5</td>\n",
       "      <td>1.984954</td>\n",
       "      <td>1.988648</td>\n",
       "      <td>0.613891</td>\n",
       "      <td>01:17</td>\n",
       "    </tr>\n",
       "    <tr>\n",
       "      <td>6</td>\n",
       "      <td>1.844407</td>\n",
       "      <td>1.948540</td>\n",
       "      <td>0.620233</td>\n",
       "      <td>01:17</td>\n",
       "    </tr>\n",
       "    <tr>\n",
       "      <td>7</td>\n",
       "      <td>1.757345</td>\n",
       "      <td>1.903846</td>\n",
       "      <td>0.629731</td>\n",
       "      <td>01:17</td>\n",
       "    </tr>\n",
       "    <tr>\n",
       "      <td>8</td>\n",
       "      <td>1.712033</td>\n",
       "      <td>1.865051</td>\n",
       "      <td>0.636776</td>\n",
       "      <td>01:17</td>\n",
       "    </tr>\n",
       "    <tr>\n",
       "      <td>9</td>\n",
       "      <td>1.704912</td>\n",
       "      <td>1.821844</td>\n",
       "      <td>0.642981</td>\n",
       "      <td>01:17</td>\n",
       "    </tr>\n",
       "    <tr>\n",
       "      <td>10</td>\n",
       "      <td>1.597546</td>\n",
       "      <td>1.774348</td>\n",
       "      <td>0.654198</td>\n",
       "      <td>01:17</td>\n",
       "    </tr>\n",
       "    <tr>\n",
       "      <td>11</td>\n",
       "      <td>1.403252</td>\n",
       "      <td>1.734157</td>\n",
       "      <td>0.661164</td>\n",
       "      <td>01:17</td>\n",
       "    </tr>\n",
       "    <tr>\n",
       "      <td>12</td>\n",
       "      <td>1.343816</td>\n",
       "      <td>1.709462</td>\n",
       "      <td>0.666563</td>\n",
       "      <td>01:17</td>\n",
       "    </tr>\n",
       "    <tr>\n",
       "      <td>13</td>\n",
       "      <td>1.314546</td>\n",
       "      <td>1.684708</td>\n",
       "      <td>0.672480</td>\n",
       "      <td>01:17</td>\n",
       "    </tr>\n",
       "    <tr>\n",
       "      <td>14</td>\n",
       "      <td>1.183501</td>\n",
       "      <td>1.656372</td>\n",
       "      <td>0.679412</td>\n",
       "      <td>01:17</td>\n",
       "    </tr>\n",
       "    <tr>\n",
       "      <td>15</td>\n",
       "      <td>1.067627</td>\n",
       "      <td>1.638619</td>\n",
       "      <td>0.684321</td>\n",
       "      <td>01:17</td>\n",
       "    </tr>\n",
       "    <tr>\n",
       "      <td>16</td>\n",
       "      <td>1.084446</td>\n",
       "      <td>1.634780</td>\n",
       "      <td>0.688485</td>\n",
       "      <td>01:17</td>\n",
       "    </tr>\n",
       "    <tr>\n",
       "      <td>17</td>\n",
       "      <td>1.019925</td>\n",
       "      <td>1.631804</td>\n",
       "      <td>0.690719</td>\n",
       "      <td>01:17</td>\n",
       "    </tr>\n",
       "    <tr>\n",
       "      <td>18</td>\n",
       "      <td>0.945169</td>\n",
       "      <td>1.635640</td>\n",
       "      <td>0.690890</td>\n",
       "      <td>01:18</td>\n",
       "    </tr>\n",
       "    <tr>\n",
       "      <td>19</td>\n",
       "      <td>0.921734</td>\n",
       "      <td>1.632115</td>\n",
       "      <td>0.691599</td>\n",
       "      <td>01:17</td>\n",
       "    </tr>\n",
       "  </tbody>\n",
       "</table>"
      ],
      "text/plain": [
       "<IPython.core.display.HTML object>"
      ]
     },
     "metadata": {},
     "output_type": "display_data"
    },
    {
     "data": {
      "image/png": "[encoded data removed]",
      "text/plain": [
       "<Figure size 432x288 with 1 Axes>"
      ]
     },
     "metadata": {},
     "output_type": "display_data"
    },
    {
     "name": "stdout",
     "output_type": "stream",
     "text": [
      "Better model found at epoch 0 with accuracy value: 0.43451905250549316.\n",
      "Better model found at epoch 1 with accuracy value: 0.581550657749176.\n",
      "Better model found at epoch 2 with accuracy value: 0.6102644205093384.\n",
      "Better model found at epoch 3 with accuracy value: 0.6168509125709534.\n",
      "Better model found at epoch 6 with accuracy value: 0.6202332377433777.\n",
      "Better model found at epoch 7 with accuracy value: 0.6297307014465332.\n",
      "Better model found at epoch 8 with accuracy value: 0.6367764472961426.\n",
      "Better model found at epoch 9 with accuracy value: 0.6429812908172607.\n",
      "Better model found at epoch 10 with accuracy value: 0.6541977524757385.\n",
      "Better model found at epoch 11 with accuracy value: 0.6611643433570862.\n",
      "Better model found at epoch 12 with accuracy value: 0.6665626764297485.\n",
      "Better model found at epoch 13 with accuracy value: 0.6724798679351807.\n",
      "Better model found at epoch 14 with accuracy value: 0.6794122457504272.\n",
      "Better model found at epoch 15 with accuracy value: 0.6843210458755493.\n",
      "Better model found at epoch 16 with accuracy value: 0.6884845495223999.\n",
      "Better model found at epoch 17 with accuracy value: 0.6907188892364502.\n",
      "Better model found at epoch 18 with accuracy value: 0.6908895373344421.\n",
      "Better model found at epoch 19 with accuracy value: 0.6915988922119141.\n"
     ]
    }
   ],
   "source": [
    "max_lr = 1e-2\n",
    "learn_lm.fit_one_cycle(20, max_lr=max_lr, moms=(0.8,0.7), callbacks=[callbacks.SaveModelCallback(learn_lm, every='improvement', monitor='accuracy', name='learn_lm')])"
   ]
  },
  {
   "cell_type": "code",
   "execution_count": 15,
   "metadata": {
    "colab": {},
    "colab_type": "code",
    "id": "lpJPrAOeqrEU"
   },
   "outputs": [],
   "source": [
    "#Load the best version of the language model\n",
    "learn_lm.load('learn_lm')\n",
    "learn_lm.save_encoder('enc')"
   ]
  },
  {
   "cell_type": "code",
   "execution_count": 16,
   "metadata": {
    "colab": {
     "base_uri": "https://localhost:8080/",
     "height": 54
    },
    "colab_type": "code",
    "id": "tNmANFscwA0f",
    "outputId": "186231dd-d54f-4008-ea94-4127e2317d2a"
   },
   "outputs": [
    {
     "name": "stdout",
     "output_type": "stream",
     "text": [
      "Art. 1º Esta resolução visa a gestão geral e as demais disposições . Art . 9º As concessionárias e permissionárias de serviços públicos de energia elétrica deverão encaminhar à ANEEL , até o dia dez de cada mês , um plano de contas para o envio da documentação constante no Anexo i , conforme determinações disponíveis no sítio oficial da ANEEL na internet . ( Redação dada pela REN ANEEL 777 , de 04.07.2017 ) Art . 7º Esta Resolução entra em vigor na data de sua publicação . JOSÉ MÁRIO\n"
     ]
    }
   ],
   "source": [
    "#Seeing what kind of text it generates\n",
    "print(learn_lm.predict('Art. 1º Esta resolução visa',n_words=100,temperature=0.8))"
   ]
  },
  {
   "cell_type": "markdown",
   "metadata": {
    "colab_type": "text",
    "id": "zkkA9CCDPRYE"
   },
   "source": [
    "## Now, extracting the vector representation of the texts"
   ]
  },
  {
   "cell_type": "code",
   "execution_count": 17,
   "metadata": {
    "colab": {},
    "colab_type": "code",
    "id": "lJbjNqdhPRYE"
   },
   "outputs": [],
   "source": [
    "#loading de list with all the texts that I want to get the representation\n",
    "normas = list(pd.read_csv('interesting_norms.csv',sep='|',encoding='utf-8')['Texto Extraído'])"
   ]
  },
  {
   "cell_type": "code",
   "execution_count": 18,
   "metadata": {},
   "outputs": [
    {
     "data": {
      "text/plain": [
       "496"
      ]
     },
     "execution_count": 18,
     "metadata": {},
     "output_type": "execute_result"
    }
   ],
   "source": [
    "len(normas)"
   ]
  },
  {
   "cell_type": "code",
   "execution_count": 19,
   "metadata": {
    "colab": {},
    "colab_type": "code",
    "id": "zC6SH0ikPRYG"
   },
   "outputs": [
    {
     "data": {
      "text/plain": [
       "LanguageLearner(data=TextLMDataBunch;\n",
       "\n",
       "Train: LabelList (1252 items)\n",
       "x: LMTextList\n",
       "xxbos xxup agência xxup nacional xxup de xxup energia xxup elétrica - xxup aneel xxup resolução xxmaj no 269 , xxup de 10 xxup de xxup junho xxup de 2003 . xxmaj autoriza a empresa xxmaj garcia xxmaj energética xxup s.a. - xxup gesa , a proceder a transferência para a xxmaj empresa xxup siif xxmaj alpha xxmaj ltda . da autorização objeto da xxmaj resolução nº 055 , de 8 de fevereiro de 2001 , e dá outras providências . o xxup diretor - xxup geral xxup da xxup agência xxup nacional xxup de xxup energia xxup elétrica - xxup aneel , no uso de suas atribuições regimentais , de acordo com deliberação da xxmaj diretoria , tendo em vista o disposto no art . 11 da xxmaj lei nº 9.074 , de 7 de julho de 1995 , regulamentada pelo xxmaj decreto nº 2.003 , de 10 de setembro de 1996 , no art . 26 da xxmaj lei nº 9.427 , de 26 de dezembro de 1996 , com a redação dada pelo art . 4º da xxmaj lei nº 9.648 , de 27 de maio de 1998 , e modificada pelo art . 17 da xxmaj lei nº 10.438 , de 26 de abril de 2002 , nos incisos xxup xi , xxup xv e xxup xxxi , art . 4º , xxmaj anexo i do xxmaj decreto nº 2.335 , de 6 de outubro de 1997 , o que consta do xxmaj processo no 27100.003862 / 86 - 11 , e considerando que : por intermédio da xxmaj resolução nº 055 , de 8 de fevereiro de 2001 , foi autorizada a empresa xxmaj garcia xxmaj energética xxup s.a. - xxup gesa , a estabelecer - se como produtor independente de energia elétrica , mediante a implantação da xxup pch xxmaj portobello , localizada no rio xxmaj garcia , xxmaj municípios de xxmaj major xxmaj gercino e xxmaj angelina , xxmaj estado de xxmaj santa xxmaj catarina ; o cronograma de obras originalmente apresentado pela referida empresa previa o início da operação comercial da citada xxup pch para 1º de abril de 2003 ; pelo xxmaj despacho nº 812 , de 13 de dezembro de 2002 , foi aprovado a revisão do xxmaj projeto xxmaj básico da mencionada xxup pch , passando de 15.000 kw para 25.000 kw de potência instalada ; a xxup gesa solicitou a xxup aneel que a autorização a ela outorgada pela xxmaj resolução no 055 , de 8 de fevereiro de 2001 , fosse transferida para a empresa xxup siif xxmaj alpha xxmaj ltda . , resolve : xxmaj art . 1º xxmaj autorizar a empresa xxmaj garcia xxmaj energética xxup s.a. - xxup gesa , a proceder a transferência para a empresa xxup siif xxmaj alpha xxmaj ltda . , inscrita no xxup cnpj / xxup mf sob o nº xxunk / 0001 - 04 , com sede na xxmaj avenida xxmaj atlântica , nº xxunk , 5º andar , xxmaj sala 501 , xxmaj bairro xxmaj copacabana , xxmaj município do xxmaj rio de xxmaj janeiro , xxmaj estado do xxmaj rio de xxmaj janeiro , da autorização para exploração da xxup pch xxmaj portobello , objeto da xxmaj resolução nº 055 , de 8 de fevereiro de 2001 . xxmaj art . 2º xxmaj autorizar a empresa xxup siif xxmaj alpha xxmaj ltda . a proceder ao aumento da potência instalada da xxup pch xxmaj portobello , passando de 15.000 kw para 25.000 kw. xxmaj art . 3º xxmaj aprovar a prorrogação dos prazos estabelecidos no inciso i , art . 2º da xxmaj resolução nº 055 , de 2001 , da seguinte forma : a ) conclusão do túnel adutor - até 30 de novembro de 2005 ; b ) conclusão da subestação de 69,0 kv - até 31 de dezembro de 2005 ; c ) conclusão das obras do conduto forçado - até 28 de fevereiro de 2006 ; - até 31 de março de 2006 ; e ) conclusão das obras da casa de força - até 30 de abril de 2006 ; f ) início da operação comercial da 1a unidade - até 31de maio de 2006 ; g ) início da operação comercial da 2a unidade - até 15 de junho de 2006 ; e , h ) início da operação comercial da 3a unidade - até 1o de julho 2006 . xxmaj art . 4º xxmaj dar nova redação ao parágrafo único do art . 3º da xxmaj resolução nº 055 , de 8 de fevereiro de 2001 , que passa a vigorar da seguinte forma : 9.427 , de 26 de dezembro de 1996 , com a redação dada pelo art . 4º da xxmaj lei nº 9.648 , de 27 de maio de 1998 , e modificada pelo art . 17 da xxmaj lei nº 10.438 , de 26 de abril de 2002 , e do § 2º , do art . 22 da xxmaj resolução nº 281 , de 1º de outubro de 1999 , com a redação dada pelo art . 1º da xxmaj resolução nº 219 , de 23 de abril de 2003 , deverá ser aplicado o percentual de redução de 50 % ( cinqüenta por cento ) durante a vigência desta autorização , aos valores dos encargos de uso dos sistemas de transmissão e de distribuição , quando devidos , pelo transporte da energia gerada , xxmaj art . 5º xxmaj determinar que a presente autorização vigorará pelo prazo remanescente a que alude o art . 6º da xxmaj resolução nº 055 , de 8 de fevereiro de 2001 , sub - rogando - se a empresa xxup siif xxmaj alpha xxmaj ltda . , em todos os direitos e obrigações vinculadas e decorrentes da referida xxmaj resolução . xxmaj art . 6º xxmaj esta xxmaj resolução entra em vigor na data de sua publicação . xxup josé xxup mário xxup miranda xxup abdo xxmaj este texto não substitui o publicado no xxup d.o de xxunk , seção 1 , p. 109 , v. 140 , n. 112 . ( xxmaj autorizada a transferência da autorização , para as empresas xxmaj brascan xxmaj energética xxup s.a e xxmaj garcia xxmaj energética xxup s.a , e a alteração da denominação social da xxup pch xxmaj portobello , para xxup pch xxmaj angelina , pela xxup rea xxup aneel 424 de 23.12.2004 ),xxbos pág . 1 / 63 xxup agência xxup nacional xxup de xxup energia xxup elétrica xxup aneel xxup resolução xxup normativa xxmaj nº 386 , xxup de 15 xxup de xxup dezembro xxup de 2009 xxmaj estabelece os conceitos gerais , as metodologias aplicáveis e os procedimentos para realização do xxmaj segundo xxmaj ciclo de xxmaj revisões xxmaj tarifárias xxmaj periódicas das concessionárias de serviço público de transmissão de energia elétrica . xxmaj relatório xxmaj voto xxmaj nota xxmaj técnica nº 394 / 2009 - xxup sre / xxup aneel o xxup diretor - xxup geral xxup da xxup agência xxup nacional xxup de xxup energia xxup elétrica xxup aneel , no uso de suas atribuições regimentais , de acordo com deliberação da xxmaj diretoria , tendo em vista o disposto no art . 29 da xxmaj lei nº 8.987 , de 13 de fevereiro de 1995 , no art . 14 , inciso xxup iv , e art . 15 , inciso xxup iv , da xxmaj lei nº 9.427 , de 26 de dezembro de 1996 , no art . 4º , inciso x , xxmaj anexo i , do xxmaj decreto nº 2.335 , de 6 de outubro de 1997 , o que consta do xxmaj processo nº xxunk / 2008 - 38 , e considerando que : os contratos de concessão do serviço público de transmissão de energia elétrica estabelecem as receitas anuais permitidas e os respectivos mecanismos de alteração : reajuste tarifário anual , revisão tarifária extraordinária e revisão tarifária periódica ; a revisão tarifária periódica compreende o reposicionamento da xxmaj receita xxmaj anual xxmaj permitida com o objetivo de promover a eficiência e a modicidade tarifária ; e as contribuições recebidas de diversos agentes e setores da sociedade , no período de 18 de dezembro de 2008 a 11 de fevereiro de 2009 e de 07 de agosto de 2009 a 23 de setembro de 2009 , por ocasião da xxmaj audiência xxmaj pública nº 068 / 2008 , com sessão presencial realizada no dia 12 de fevereiro de 2009 , contribuíram para o aperfeiçoamento deste ato regulamentar , e seus resultados foram consolidados nas xxmaj notas xxmaj técnicas n ° 394 / xxup 2009-sre / xxup aneel , n ° 395 / xxup 2009-sre / xxup aneel e n ° 396 / xxup 2009-sre / xxup aneel de 1º de dezembro de 2009 , resolve : xxmaj art . 1º xxmaj estabelecer os conceitos gerais , as metodologias aplicáveis e os procedimentos para realização do xxmaj segundo xxmaj ciclo de xxmaj revisões xxmaj tarifárias xxmaj periódicas das concessionárias de serviço público de transmissão de energia elétrica . xxmaj parágrafo único . o disposto nesta xxmaj resolução xxmaj normativa aplica - se às concessionárias de serviço público de transmissão cujo contrato de concessão tenha sido prorrogado nos termos dos arts . 17 e 19 da xxmaj lei nº 9.074 , de 7 de julho de 1995 , e às concessionárias de transmissão cujas outorgas da concessão tenham sido precedidas de licitação e que tiveram instalações de transmissão autorizadas por xxmaj resolução específica , respeitando - se o disposto nos contratos de concessão . pág . 2 / 63 xxup das xxup definições xxmaj art . 2º xxmaj para fins e efeitos desta xxmaj resolução xxmaj normativa são adotados os conceitos a seguir : i xxmaj revisão xxmaj tarifária xxmaj periódica : revisão ordinária , prevista nos contratos de concessão , a ser realizada considerando - se os níveis de custos e investimentos praticados por concessionárias similares , no contexto nacional e internacional , com o objetivo de promover a eficiência e a modicidade tarifária ; xxup ii xxmaj reposicionamento xxmaj tarifário : redefinição do valor da xxmaj receita xxmaj anual xxmaj permitida em nível compatível com o equilíbrio econômico - financeiro do contrato de concessão ; xxup iii xxmaj receita xxmaj anual xxmaj permitida ( xxup rap ) : receita anual a que a concessionária tem direito pela prestação do serviço público de transmissão , aos usuários , a partir da entrada em operação comercial das instalações de transmissão ; xxup iv xxmaj receita xxmaj requerida : xxup rap resultante do processo de revisão tarifária , compatível com a cobertura de custos operacionais eficientes e com um retorno adequado para o capital prudentemente investido , com referência de preços na data definida no contrato de concessão para a revisão tarifária de cada concessionária ; v xxmaj receita xxmaj vigente : xxup rap do ano anterior à data da revisão ; xxup vi xxmaj base de xxmaj remuneração : investimentos prudentes , avaliados a preços de mercado , requeridos pela concessionária para prestar o serviço público de transmissão de acordo com as condições estabelecidas no contrato de concessão , em particular os níveis de qualidade exigidos ; xxup vii xxmaj remuneração de xxmaj capital : remuneração dos investimentos prudentes realizados pela concessionária ; xxup viii xxmaj quota de xxmaj reintegração xxmaj regulatória : quota que considera a depreciação e a amortização dos investimentos realizados , visando recompor os ativos afetos à prestação do serviço ao longo de sua vida útil ; xxup ix xxmaj outras xxmaj receitas : receitas que não decorrem exclusivamente das tarifas , mas que mantêm relação , mesmo que indireta , com o serviço público prestado ou com os bens afetos à sua prestação ; x xxup rbse : parcela da xxup rap correspondente às instalações componentes da xxmaj rede xxmaj básica , definidas no xxmaj anexo da xxmaj resolução nº 166 , de 31 de maio de 2000 ; xxup xi xxup rbni : parcela da xxup rap correspondente às novas instalações componentes da xxmaj rede xxmaj básica autorizadas e com receitas estabelecidas por resolução específica após a publicação da xxmaj resolução nº 166 / 2000 ; xxup xii xxup rpc : parcela da xxup rap correspondente às instalações classificadas como xxmaj demais xxmaj instalações de xxmaj transmissão xxup dit , definidas no xxmaj anexo da xxmaj resolução nº 166 / 2000 ; xxup xiii xxup rcdm : parcela da xxup rap correspondente às novas xxup dit autorizadas e com receitas estabelecidas por xxmaj resolução específica após a publicação da xxmaj resolução nº 166 / 2000 , ou aquelas contratadas nos termos das xxmaj resoluções nos 489 , de 29 de agosto de 2002 , e 158 , de 23 de maio de 2005 ; pág . 3 / 63 xxup xiv xxmaj parcela de xxmaj ajuste xxup pa : parcela de receita decorrente da aplicação de mecanismo previsto em contrato , utilizado nos reajustes anuais periódicos , que é adicionada ou subtraída à xxup rap , de modo a compensar excesso ou déficit de arrecadação no período anterior ao reajuste . xxup do xxup cálculo xxup da xxup revisão xxup tarifária xxup periódica xxmaj art . 3º a revisão tarifária periódica das concessionárias de serviço público de transmissão será compreendida pelo cálculo do reposicionamento tarifário xxup rt , definido conforme fórmula a seguir : xxup rt = xxmaj receita xxmaj requerida xxmaj outras xxmaj receitas xxmaj receita xxmaj vigente § 1º a xxmaj receita xxmaj requerida será obtida mediante a soma das parcelas xxup rbse , xxup rpc , xxup rbni e xxup rcdm reposicionadas , conforme o caso , de modo a considerar os custos operacionais eficientes , a remuneração dos investimentos prudentes e a quota de reintegração regulatória . § 2º a xxmaj receita xxmaj vigente será obtida pela soma das parcelas xxup rbse , xxup rpc , xxup rbni e xxup rcdm . § 3º xxmaj as parcelas xxup rbse e xxup rpc , nos termos dos contratos de concessão , não estarão sujeitas à revisão tarifária . § 4º o disposto no parágrafo anterior não se aplica às concessionárias : xxmaj companhia xxmaj energética de xxmaj minas xxmaj gerais xxup cemig , xxmaj castelo xxmaj energética s / a e xxup afluente xxmaj geração e xxmaj transmissão de xxmaj energia xxmaj elétrica , para as quais a revisão tarifária periódica será realizada sobre toda a base de ativos . xxmaj art . 4º a xxmaj receita xxmaj anual xxmaj permitida xxup rap da concessionária será composta de acordo com a fórmula a seguir : xxup rap = rapi + xxup pa , sendo : rapi = xxup caae + xxup caom + xxup et + xxup pa , onde : i : xxmaj parcelas da xxup rap ( xxup rbse , xxup rpc , xxup rbni e xxup rcdm ) ; xxup caae : xxmaj custo xxmaj anual dos xxmaj ativos xxmaj elétricos , descrito conforme xxmaj anexo i e xxmaj anexo xxup ii desta xxmaj resolução ; xxup caom : xxmaj custos de xxmaj administração , xxmaj operação e xxmaj manutenção , descritos conforme xxmaj anexo xxup iii desta xxmaj resolução ; xxup et : xxmaj encargos xxmaj setoriais e xxmaj tributos ( xxup rgr , xxup tfsee , xxup p&d , xxup pis / xxup cofins ) ; xxup pa : xxmaj parcela de ajuste . xxup das xxup metodologias xxmaj art . 5º xxmaj para o cálculo do reposicionamento tarifário de que trata o art . 3 ° desta xxmaj resolução , serão utilizadas as metodologias descritas nos xxmaj anexos a seguir : pág . 4 / 63 i xxmaj anexo i : xxmaj determinação da xxmaj base de xxmaj remuneração xxmaj regulatória para xxup rbni ; xxup ii xxmaj anexo xxup ii : xxmaj determinação da xxmaj base de xxmaj remuneração xxmaj regulatória para base completa ( xxup rbse e xxup rbni ) ; xxup iii xxmaj anexo xxup iii : xxmaj custos operacionais eficientes ; xxup iv xxmaj anexo xxup iv : xxmaj estrutura ótima de capital , de 63,55 % de participação de capital de terceiros , e taxa de remuneração do capital , com valor real de 7,24 % depois de impostos ; e v xxmaj anexo v : xxmaj outras receitas . xxup das xxup disposições xxup gerais xxmaj art . 6º o resultado do reposicionamento tarifário de que trata o art . 3º terá seus efeitos a partir de 01 de julho de 2009 , exceto para a concessionária xxup afluente e para aquelas cuja outorga da concessão tenha sido precedida de licitação e que tiveram instalações de transmissão autorizadas por xxmaj resolução específica , para as quais a data de revisão será 01 de julho de 2010 . xxmaj parágrafo único . a partir da publicação da xxmaj resolução xxmaj homologatória do resultado da revisão tarifária de cada concessionária de transmissão , serão revogadas as xxmaj resoluções xxmaj autorizativas que xxunk parcelas adicionais de xxup rap para as instalações de transmissão que tenham sido objeto da presente revisão tarifária . xxmaj art . 7º xxmaj esta xxmaj resolução entra em vigor na data de sua publicação . xxup nelson xxup josé xxup hubner xxup moreira xxmaj este texto não substitui o publicado no xxup d.o. de xxunk , seção 1 , p. 147 , v. 146 , n. 243 . pág . 5 / 63 xxup anexo i xxmaj dispõe sobre a metodologia e os critérios gerais para definição da base de remuneração referente à parcela xxup rbni , visando à revisão tarifária periódica das concessionárias de transmissão de energia elétrica , conforme estabelecido no inciso i do art . 5º desta xxmaj resolução . xxup metodologia xxup para xxup determinação xxup da xxup base xxup de xxup remuneração xxup regulatória xxup rbni i xxup levantamento xxup da xxup base xxup de xxup ativos 1 . o conceito chave para avaliação da base de remuneração é refletir apenas os investimentos prudentes na definição das tarifas dos consumidores , ou seja , aqueles requeridos para que a concessionária possa prestar o serviço de transmissão de acordo com as condições estabelecidas no contrato de concessão , em particular com relação aos níveis de qualidade exigidos . xxmaj para o montante de investimento a ser remunerado base de remuneração considera - se o valor dos ativos que estão efetivamente prestando o serviço para o consumidor , a partir dos referenciais construídos pela xxup aneel . 2 . xxmaj para a avaliação dos ativos das concessionárias vinculados à concessão do serviço público de transmissão de energia elétrica que são objeto de revisão , visando à definição da base de remuneração no segundo ciclo da revisão tarifária periódica , serão adotados , nesta seqüência , os seguintes procedimentos : a ) a base de remuneração referente à xxup rbni aprovada no primeiro ciclo de revisão tarifária xxunk b ) serão expurgadas da base blindada as baixas ocorridas entre as datas - base do primeiro e segundo ciclo de revisão tarifária ; c ) após a exclusão dessas baixas , os valores remanescentes de cada bem da base blindada serão atualizados pela variação do xxup igp - m ; d ) as inclusões entre as datas - base do primeiro e segundo ciclo de revisão tarifária , desde que ainda em operação , serão avaliadas utilizando - se a metodologia definida nesta xxmaj resolução ; e ) os valores finais da avaliação serão obtidos somando - se os valores atualizados da base de remuneração ( item c ) com os valores das inclusões ocorridas entre as datas - base do primeiro e segundo ciclo de revisão tarifária ( item d ) ; 3 . xxmaj para efeito de apuração da base de remuneração , serão considerados apenas os ativos vinculados à prestação do serviço de transmissão de energia elétrica . 4 . xxmaj para a composição do levantamento físico das instalações referentes às linhas de transmissão e subestações , será utilizada a estrutura modular , agrupando - se as instalações nas xxmaj unidades xxmaj modulares ( xxup um ) , conforme descrito a seguir . xxup unidades xxup modulares xxmaj unidades xxmaj modulares de xxmaj linhas de xxmaj transmissão : 5 . xxmaj para as linhas de transmissão , as unidades modulares são compostas em função de quilômetro de linha , caracterizadas pelo tipo de corrente , classe de tensão , tipo de circuito , estruturas , fundações , cabo condutor e cabo pára - raio , conforme a xxmaj tabela xxup i.1 : pág . 6 / 63 xxmaj tabela xxup i.1 : xxmaj unidades xxmaj modulares de xxmaj linhas de xxmaj transmissão xxmaj característica xxmaj descrição xxmaj tipos de xxmaj corrente xxup ca - xxmaj corrente xxmaj alternada xxup cc - xxmaj corrente xxmaj contínua xxmaj classe de xxmaj tensão xxmaj corrente xxmaj alternada : 69 ; 138 ; 230 ; 345 ; 440 ; 500 ; 750 kv xxmaj corrente xxmaj contínua : 600 kv xxmaj tipos de xxmaj circuito xxup cs - xxmaj circuito xxmaj simples xxup d1 - xxmaj circuito xxmaj duplo - xxmaj um xxmaj circuito xxmaj instalado xxup d2 - xxmaj circuito xxmaj duplo - xxmaj instalação do xxmaj segundo xxmaj circuito xxup cd - xxmaj circuito xxmaj duplo xxmaj estruturas xxmaj aço xxmaj autoportante xxmaj aço xxmaj estaiada xxmaj aço xxmaj estaiada xxmaj convencional xxmaj madeira xxmaj não xxmaj urbana xxmaj concreto xxmaj não xxmaj urbana xxmaj fundações g xxmaj grelha c xxmaj concreto xxmaj cabo xxmaj condutor xxmaj padrão : tipo xxup caa xxmaj cabo xxmaj pára - xxmaj raios xxmaj padrão : cabo de aço galvanizado classe b xxmaj unidades xxmaj modulares de xxmaj subestações : 6 . a xxmaj subestação é composta a partir do somatório de todos os módulos necessários à sua operacionalidade , tais como : entrada de linha , conexões de transformador e reator e interligação de barramento . xxmaj para fins de composição dos módulos , as subestações são caracterizadas segundo os seguintes parâmetros : xxmaj nível de xxmaj tensão , xxmaj arranjo xxmaj físico e xxmaj porte , conforme a xxmaj tabela xxup i.2 : xxmaj tabela xxup i.2 : xxmaj características das xxmaj unidades xxmaj modulares de xxmaj subestações xxmaj característica xxmaj descrição xxmaj nível de xxmaj tensão 13,8 , 34,5 , 69 , 138 , 230 , 345 , 500 e 750 kv xxmaj configuração de xxmaj barramento xxup djm , xxup bd , xxup bpt , xxup bs e xxup an * xxmaj porte xxmaj pequeno , xxmaj médio , xxmaj grande * xxup djm : xxmaj arranjo em xxmaj disjuntor e xxmaj meio ; xxup bd : xxmaj arranjo em xxmaj barra xxmaj dupla ; xxup bpt : xxmaj arranjo em xxmaj barra xxmaj principal e xxmaj transferência ; xxup bs : xxmaj arranjo em xxmaj barra xxmaj simples ; xxup an : xxmaj arranjo em xxmaj anel . 7 . xxmaj independentemente das classes de tensão e dos arranjos , as unidades modulares consideradas são de três tipos : xxmaj módulo xxmaj geral , xxmaj módulo de xxmaj manobra e xxmaj módulo de xxmaj equipamento , descritas conforme a xxmaj tabela xxup i.3 : xxmaj tabela xxup i.3 : xxmaj unidades xxmaj modulares de xxmaj subestações xxmaj módulo xxmaj descrição xxmaj módulo de xxmaj infra - xxmaj estrutura xxmaj geral xxmaj esta xxup um é dividida em duas outras : módulo de xxmaj infra - xxmaj estrutura xxmaj geral - xxup mig e módulo de xxmaj infra - xxmaj estrutura de xxmaj manobra - xxup mim . xxmaj no xxup mig , os itens que sejam comuns a todos os setores da xxmaj subestação são considerados apenas no setor que possua o nível de maior tensão . xxmaj esta xxup um é composta por : terreno , cercas e muros externos , terraplenagem , drenagem , grama , embritamento , arruamento , iluminação do pátio , proteção contra incêndio , sistema de abastecimento de água , malha de terra e cabos pára - raios , canaletas principais , transformador de potencial , bases xxunk e estruturas dos xxunk de barra , edificações , serviço auxiliar , área industrial , sistema de telecomunicações , sistema de proteção , controle e supervisão , canteiro de obras , caixa separadora de óleo , engenharia , administração local , eventuais e administração central . o xxup mim é composto pelos itens de infra - estrutura básica para as xxunk de manobra . xxmaj os itens que compõem o xxup mim são : cercas e xxunk , terraplenagem , drenagem , embritamento , arruamento , iluminação do pátio , malha de terra e cabos pára - raios , canaletas , edificações , canteiro de obras , engenharia , administração local , eventuais e administração central . pág . 7 / 63 xxmaj módulo de xxmaj manobra xxmaj conjunto de equipamentos , materiais e serviços necessários à implantação dos setores de manobra , tais como : entrada de linha ( xxup el ) , conexão de transformador ou autotransformador ( xxup ct ) , interligação de barramentos ( xxup ib ) e interligação de barramentos sem disjuntor ( xxup ibsd ) . xxmaj módulo de xxmaj equipamento xxmaj composto pelos equipamentos principais da xxup se , tais como transformadores , reatores , capacitores , compensadores e os materiais e serviços necessários à sua instalação . xxup ii xxup método xxup de xxup valoração xxup da xxup base xxup de xxup remuneração 8 . xxmaj para a valoração da base de remuneração adota - se o xxmaj método do xxmaj custo de xxmaj reposição , com equipamentos avaliados a preços de mercado . 9 . o xxmaj custo de xxmaj referência xxup aneel busca refletir os custos médios eficientes de aquisição e instalação dos diversos equipamentos . é estruturado na forma modular de linhas de transmissão e equipamentos de subestações e corresponderá ao valor médio de reposição de um bem em condições eficientes . xxmaj incorpora os custos diretos relacionados aos equipamentos principais e materiais acessórios , montagem , obras civis , peças sobressalentes , seguros , transporte e impostos não recuperáveis . xxmaj também são contemplados os custos indiretos de projeto , gerenciamento , entre outros , além dos juros sobre obra em andamento ( xxup joa ) regulatórios , capitalizados no prazo médio normal de construção . 10 . xxmaj de forma a refletir na valoração da base de remuneração das novas instalações apenas os investimentos prudentes , a xxup aneel deverá considerar as condições de compra e logística da concessionária para todas as obras onde se dispõe de contratos de xxunk com preço global ( xxunk - key ) , adotando - se uma faixa de tolerância entre 80 % e 120 % do xxmaj custo de xxmaj referência xxup aneel , dentro da qual uma instalação de transmissão valorada pelo preço da concessionária poderá ser aceita , de forma a representar efetivamente o investimento realizado . xxmaj para comparação dos contratos com preço global e o xxmaj custo de xxmaj referência xxup aneel deverão ser adicionados aos primeiros o xxup joa regulatório e os custos adicionais relativos à fiscalização , supervisão , custos ambientais , comissionamento , terrenos e servidões administrativas . xxmaj condições específicas que reflitam um custo justificadamente maior que o xxmaj custo de xxmaj referência xxup aneel serão analisadas por parte da xxup aneel . 11 . xxmaj os juros sobre obras em andamento são definidos regulatoriamente e calculados considerando - se o xxmaj custo xxmaj médio xxmaj ponderado de xxmaj capital ( xxup wacc xxmaj weighted xxmaj average xxmaj cost of xxmaj capital ) após impostos , e aplicando - se a fórmula abaixo , de acordo com as seguintes considerações : - prazos médios de construção : 15 meses para xxmaj subestações e 21 meses para xxmaj linhas de xxmaj transmissão ; - fluxo financeiro : considerou - se um desembolso de 40 % do total da obra distribuído linearmente ao longo dos primeiros 2 / 3 do prazo médio de construção e 60 % do total da obra distribuído ao longo do restante do prazo considerado . ( 1 ) onde : xxup joa : juros sobre obras em andamento em percentual ( % ) ; n : número de meses , de acordo com o tipo de obra ; ra : custo médio ponderado de capital anual , depois de impostos ( xxup wacc ) ; e di : desembolso mensal em percentual ( % ) distribuído de acordo com o fluxo financeiro definido abaixo . o desembolso mensal será assim definido : pág . 8 / 63 xxmaj para subestações : d1 d2 d3 d4 d5 d6 d7 d8 d9 d10 d11 d12 4,00 % 4,00 % 4,00 % 4,00 % 4,00 % 4,00 % 4,00 % 4,00 % 4,00 % 4,00 % 12,00 % 12,00 % d13 d14 d15 12,00 % 12,00 % 12,00 % xxmaj para linhas de transmissão : d1 d2 d3 d4 d5 d6 d7 d8 d9 d10 d11 d12 2,86 % 2,86 % 2,86 % 2,86 % 2,86 % 2,86 % 2,86 % 2,86 % 2,86 % 2,86 % 2,86 % 2,86 % d13 d14 d15 xxunk xxunk xxunk xxunk xxunk xxunk 2,86 % 2,86 % 8,57 % 8,57 % 8,57 % 8,57 % 8,57 % 8,57 % 8,57 % xxup iii xxup cálculo xxup do xxup custo xxup anual xxup dos xxup ativos xxup elétricos 12 . a remuneração do capital é composta pelo retorno do capital ( depreciação ) e o retorno sobre o capital ( rentabilidade ) . xxmaj no caso de novas instalações ( xxup rbni ou xxup rcdm ) , a remuneração do capital será dada por meio de uma anuidade atribuída ao ativo , ou unidade modular , durante toda sua vida útil . xxmaj para isso , calcula - se o xxmaj custo xxmaj anual dos xxmaj ativos xxmaj elétricos ( xxup caae ) mediante o cálculo dessa anuidade , que levará em consideração o total de capital , a taxa de retorno e a taxa média de depreciação regulatória , através da seguinte expressão : ( 2 ) onde : xxup caae : xxmaj custo xxmaj anual dos xxmaj ativos xxmaj elétricos das xxmaj novas xxmaj instalações ( xxup rbni ou xxup rcdm ) ; xxunk : xxmaj custo de reposição da unidade modular i ; xxup num : xxmaj número de unidades modulares ; r : taxa de retorno real depois dos impostos sobre a renda ; i : taxa média de depreciação regulatória da unidade modular i ; t : alíquota tributária marginal efetiva . 13 . xxmaj para efeito do cálculo da taxa média de depreciação regulatória das unidades modulares , utiliza - se a taxa anual média de depreciação ponderada pelo custo relativo ( xxup tmdc ) e os valores individuais das taxas de depreciação dos componentes da unidade modular , obedecendo - se as taxas anuais de depreciação dos principais equipamentos de transmissão de energia elétrica , conforme estabelecido no xxmaj manual de xxmaj controle xxmaj patrimonial do xxmaj setor xxmaj elétrico ( xxup mcpse ) , aprovado pela xxmaj resolução xxmaj normativa nº 367 , de 02 de junho de 2009 . xxmaj portanto , calcula - se a xxup tmdc através da fórmula abaixo : ( 3 ) onde : xxup tmdc : taxa anual média de depreciação da instalação de transmissão de energia elétrica , correspondente à xxup um , ponderada por capital ; tdi xxmaj ci n : número de componentes da xxup um . pág . 9 / 63 xxup anexo xxup ii xxmaj dispõe sobre a metodologia e os critérios gerais para definição da base de remuneração referente às parcelas xxup rbse e xxup rbni , visando à revisão tarifária periódica das concessionárias de transmissão de energia elétrica , conforme estabelecido no inciso xxup ii do art . 5º desta xxmaj resolução . xxup metodologia xxup para xxup determinação xxup da xxup base xxup de xxup remuneração xxup regulatória xxup rbse e xxup rbni 1 . xxup critérios xxup gerais 1.1 . xxup composição xxup da xxup base xxup de xxup remuneração 2 . a base de remuneração é composta pelos valores dos seguintes itens : a ) ativo imobilizado em serviço ( xxmaj rede xxmaj básica , xxmaj demais xxmaj instalações de xxmaj transmissão e xxmaj administração ) , avaliado e depreciado ( ou amortizado , conforme o caso ) ; b ) almoxarifado de operação ; c ) ativo diferido ; d ) obrigações especiais . 1.2 . xxup metodologia xxup de xxup avaliação 3 . xxmaj para valoração do conjunto de ativos imobilizados em serviço é utilizada a metodologia do custo de reposição , considerando o valor novo do ativo como base para determinação do seu valor de mercado em uso . xxmaj são considerados os seguintes grupos de contas de ativos da concessionária : i intangíveis ; xxup ii terrenos ; xxup iii edificações , obras civis e benfeitorias ; xxup iv máquinas e equipamentos ; v veículos ; e xxup vi móveis e utensílios . 4 . xxmaj também serão considerados na valoração , utilizando o mesmo critério citado no item anterior , os ativos imobilizados do almoxarifado de operações , registrados no grupo de conta xxmaj estoque 112.71 ( melhor discriminados no item 123 deste xxmaj anexo ) . 5 . xxmaj para efeito de apuração da base de remuneração são considerados apenas os ativos imobilizados vinculados à concessão e classificados nas atividades de transmissão e administração . 6 . xxmaj para os ativos vinculados aos grupos de contas relativos a xxmaj intangíveis , xxmaj veículos , xxmaj móveis e xxmaj utensílios , é admitida a avaliação pelo método xxunk , a partir da atualização dos valores históricos contábeis , desde que seja verificado , mediante a inspeção física por amostragem xxunk , que não existem distorções relevantes entre os ativos físicos efetivamente existentes e os ativos constantes nos controles de engenharia e patrimonial da concessionária . pág . 10 / 63 7 . a avaliação dos ativos deve ser realizada por empresa credenciada pela xxup aneel , contratada pela concessionária , a qual produzirá um laudo técnico que estará sujeito à validação mediante fiscalização da xxmaj agência . a concessionária responde solidariamente , na esfera administrativa ou judicial , por qualquer erro ou dano decorrente das informações fornecidas , inclusive banco de preços . 8 . xxmaj os valores resultantes do processo de avaliação poderão sofrer ajustes , pela fiscalização da xxup aneel , que poderá utilizar - se da comparação de ativos entre concessionárias para definir novos valores a serem considerados para a formação da base de remuneração . 9 . o laudo de avaliação deve ser classificado como de uso restrito , estando sujeito às disposições normativas e xxunk específicas desta xxmaj resolução . 10 . a utilização de laudo de uso restrito deve - se ao fato de que a metodologia , critérios e procedimentos estabelecidos para avaliação dos bens e instalações de propriedade das concessionárias do serviço público de transmissão de energia elétrica , para determinação da base de remuneração e conseqüente reposicionamento tarifário , têm característica própria , por tratar - se de serviço público de transmissão de energia elétrica , portanto , passíveis de reversão à xxmaj união . 11 . xxmaj não procedendo a concessionária à avaliação dos ativos e ao encaminhamento das informações , nos termos definidos nesta xxmaj resolução e no prazo estabelecido pela xxup aneel , ou caso o laudo de avaliação apresentado pela concessionária não seja aprovado pela xxup aneel , em virtude de qualidade técnica insuficiente ou não - conformidades apontadas na fiscalização , caberá a esta arbitrar a base de remuneração a ser considerada na revisão tarifária em curso , não constituindo tal fato a dispensa da concessionária em apresentar o laudo posteriormente . 1.3 . xxup depreciação 12 . xxmaj para a determinação do valor de mercado em uso deve ser utilizado somente o xxmaj método da xxmaj linha xxmaj xxunk para a depreciação , considerando - se obrigatoriamente o percentual de depreciação acumulada , registrada na contabilidade para cada bem do ativo considerado . xxmaj em nenhuma hipótese os critérios e procedimentos contábeis , as taxas de depreciação e os percentuais de depreciação acumulada de cada bem registrados na contabilidade podem ser modificados . xxmaj não se admite a utilização de quaisquer outros critérios de depreciação . xxmaj as situações relativas a reformas gerais de ativos devem ser conduzidas conforme critérios estabelecidos no xxmaj manual de xxmaj contabilidade do xxmaj setor xxmaj elétrico xxup mcse e no xxmaj manual de xxmaj controle xxmaj patrimonial do xxmaj setor xxmaj elétrico - xxup mcpse . 13 . o valor de mercado em uso para a composição da base de remuneração será obrigatoriamente igual a xxup zero quando o bem estiver totalmente depreciado , conforme identificado no respectivo registro contábil . 14 . xxmaj uma vez que cada bem deverá ser depreciado com seu respectivo percentual de depreciação acumulada registrada na contabilidade , fica vedada qualquer tipo de equalização que leve em consideração percentuais acumulados de depreciação registrados na contabilidade por conta ou grupo de contas contábeis . 1 estimado para o bem . xxmaj pela regra geral , o valor da depreciação é dado pela razão entre o custo base de aquisição do bem e os anos estimados de sua vida útil . a taxa de depreciação é obtida pelo xxunk dos anos estimados para a vida útil do bem , multiplicado por 100 % ( para base percentual ) . xxmaj ambos os cálculos são definidos para anual . pág . 11 / 63 1.4 . xxup manutenção xxup da xxup base 15 . a base de remuneração gerada é regulatória e deve ser mantido um controle suplementar , em paralelo , com os registros contábeis do controle patrimonial do ativo imobilizado em serviço . xxmaj essa base regulatória deverá ser mantida atualizada , contemplando todas as movimentações ( adições e baixas ) ocorridas nos registros constantes dos livros contábeis ( razão e diário ) , xxunk orientação da xxup aneel quanto aos procedimentos para registro definitivo da avaliação do xxmaj ativo xxmaj imobilizado em xxmaj serviço xxup ais e seus efeitos nas xxmaj obrigações xxmaj vinculadas ao xxmaj serviço xxmaj público de xxmaj energia xxmaj elétrica ( xxmaj obrigações xxmaj especiais ) . 1.5 . xxup atualização xxup de xxup valores 16 . xxmaj para atualização e / ou xxunk dos valores apurados na avaliação devem ser utilizados : para edificações , o xxmaj índice xxmaj nacional de xxmaj construção xxmaj civil xxup incc , coluna 35 , apurado pela xxmaj fundação xxmaj getúlio xxmaj vargas - xxup fgv ; para máquinas e equipamentos , os índices xxmaj indústria de xxmaj transformação xxmaj material xxmaj elétrico xxmaj motores e xxmaj geradores , coluna 40 ( transformador de força , incluindo de distribuição , de aterramento e de serviços auxiliares ) , e xxmaj indústria de xxmaj transformação xxmaj material xxmaj elétrico xxmaj outros , coluna 41 ( para os demais bens pertencentes a linhas de transmissão , medidores , e equipamentos de subestação ) , apurados pela xxup fgv e , na ausência destes ( coluna 40 e 41 ) , o índice xxmaj indústria de xxmaj transformação xxmaj máquinas , xxmaj aparelhos e xxmaj materiais xxmaj elétricos , coluna 34 , apurado pela xxup fgv ; para terrenos , servidões , móveis e utensílios e veículos , o xxmaj índice de xxmaj preços ao xxmaj consumidor xxmaj amplo xxup ipca , apurado pelo xxup ibge . 17 . xxmaj observa - se , entretanto , que os índices das colunas 40 e 41 , onde aplicáveis , devem ser utilizados para valores até o mês de dezembro de 2008 e , a partir de janeiro de 2009 , deve ser utilizado para atualizações e / ou xxunk o índice da coluna 34 , apurado pela xxup fgv . 1.6 . xxup critérios xxup para xxup avaliação xxup da xxup base xxup de xxup remuneração xxup no xxup segundo xxup ciclo xxup de xxup revisão xxup tarifária 18 . xxmaj para a avaliação dos ativos das concessionárias vinculados à concessão do serviço público de transmissão de energia elétrica , visando à definição da base de remuneração no segundo ciclo da revisão tarifária periódica , devem ser adotados , nesta seqüência , os seguintes procedimentos : a ) a base de remuneração aprovada no primeiro ciclo de revisão tarifária deve ser -se como base blindada os valores do laudo de avaliação ajustados , as movimentações incluídas ( adições , baixas , depreciação e obrigações especiais ) e a respectiva atualização , aprovados no primeiro ciclo . b ) devem ser expurgadas da base blindada as baixas ocorridas entre as datas - base do primeiro e segundo ciclo de revisão tarifária ; c ) após a exclusão dessas baixas , ano a ano , os valores remanescentes de cada bem da base blindada devem ser atualizados pela variação do xxup igp - m ; d ) o valor monetário referente às xxmaj obrigações xxmaj especiais da base blindada será obtido atualizando - se o valor aprovado no primeiro ciclo de revisão tarifária pela variação do xxup igp - xxup m. xxmaj nenhum valor deverá ser deduzido das xxmaj obrigações xxmaj especiais a título de baixas efetuadas na base blindada ; pág . 12 / 63 e ) deve ser levado em consideração o efeito da depreciação acumulada ocorrida entre as datas - base do primeiro e segundo ciclo de revisão tarifária , obtendo - se o valor da base de remuneração blindada atualizada ; f ) as inclusões entre as datas - base do primeiro e segundo ciclo de revisão tarifária , desde que ainda em operação , são avaliadas utilizando - se a metodologia definida nesta xxmaj resolução ; g ) os valores finais da avaliação são obtidos somando - se os valores atualizados da base de remuneração ( item e ) com os valores das inclusões ocorridas entre as datas - base do primeiro e segundo ciclo de revisão tarifária ( item f ) ; h ) considera - se na data - base do laudo de avaliação as movimentações ( adições , baixas e depreciação ) da base blindada e base incremental ocorridas até o último dia do sexto mês anterior ao mês da revisão tarifária do segundo ciclo . xxmaj adiciona - se ao laudo de avaliação , após a sua data - base , as movimentações ( adições , baixas , depreciação e obrigações especiais ) ocorridas em data anterior à revisão tarifária do segundo ciclo . xxmaj para tanto , serão consideradas as informações contábeis das obras energizadas , encerradas e xxunk até o último mês contábil fechado com o respectivo xxmaj balancete xxmaj mensal xxmaj padronizado - xxup bmp , conforme planilha modelo disponibilizada pela xxup aneel . xxmaj será considerada , ainda , a depreciação acumulada até o último mês contábil fechado , bem como haverá atualização da base de remuneração até o mês anterior a data de revisão tarifária do segundo ciclo . i ) os aperfeiçoamentos propostos nesta xxmaj resolução não se aplicam à base de remuneração validada no primeiro ciclo . à exceção das baixas , depreciação e atualização monetária , ficam blindados os valores validados no primeiro ciclo de revisão tarifária . xxmaj incluem - se nessas exceções as apurações dos valores para as contas de xxmaj almoxarifado de xxmaj operações . 19 . xxmaj os procedimentos acima não se aplicam em particular para as empresas que terão sua primeira revisão tarifária sobre toda a base de ativos neste ciclo . xxmaj nesse caso , os critérios para avaliação de ativos da base incremental serão aplicados para toda a base de ativos sob avaliação . 1.7 . xxup credenciamento xxup de xxup empresas xxup xxunk 20 . a avaliação dos ativos deve ser realizada por empresa credenciada pela xxup aneel , nos termos do xxmaj anexo xxup iv da xxmaj resolução xxmaj normativa nº 234 , de 31 de outubro de 2006 , bem como por regulamentos complementares , devendo ser contratada pela concessionária , e estará sujeita à fiscalização da xxmaj agência . 2 . xxup diretrizes xxup para xxup aplicação xxup da xxup metodologia xxup de xxup avaliação 2.1 . xxup ativo xxup imobilizado xxup em xxup serviço 21 . xxmaj os grupos de contas de ativos relativos a xxmaj intangíveis ; xxmaj terrenos ; xxmaj edificações , xxmaj obras xxmaj civis e xxmaj benfeitorias ; xxmaj máquinas e xxmaj equipamentos ; xxmaj veículos e xxmaj móveis e xxmaj utensílios , abaixo relacionados na xxmaj tabela 1 , vinculados ao serviço público de transmissão de energia elétrica , referentes às atividades de xxmaj transmissão e xxmaj administração , são objeto de avaliação , com vistas à composição da base de remuneração das concessionárias . pág . 13 / 63 xxmaj tabela xxup ii.1 xxmaj relação de xxmaj grupos de xxmaj contas de xxmaj ativo xxmaj código xxmaj título xxup xxunk xxmaj intangíveis xxmaj rede xxmaj básica xxup xxunk xxmaj intangíveis dits xxup xxunk xxmaj intangíveis xxmaj administração xxup xxunk xxmaj terrenos xxmaj rede xxmaj básica xxup xxunk xxmaj terrenos dits xxup xxunk xxmaj terrenos xxmaj administração xxup xxunk xxmaj edificações , xxmaj obras xxmaj civis e xxmaj benfeitorias xxmaj rede xxmaj básica xxup xxunk xxmaj edificações , xxmaj obras xxmaj civis e xxmaj benfeitorias dits xxup xxunk xxmaj edificações , xxmaj obras xxmaj civis e xxmaj benfeitorias xxmaj administração xxup xxunk xxmaj máquinas e xxmaj equipamentos xxmaj rede xxmaj básica xxup xxunk xxmaj máquinas e xxmaj equipamentos dits xxup xxunk xxmaj máquinas e xxmaj equipamentos xxmaj administração xxup xxunk xxmaj veículos xxmaj rede xxmaj básica xxup xxunk xxmaj veículos dits xxup xxunk xxmaj veículos xxmaj administração xxup xxunk xxmaj móveis e xxmaj utensílios xxmaj rede xxmaj básica xxup xxunk xxmaj móveis e xxmaj utensílios dits xxup xxunk xxmaj móveis e xxmaj utensílios - xxmaj administração xxmaj nota : conforme xxmaj manual de xxmaj contabilidade do xxmaj setor xxmaj elétrico - xxup mcse , aprovado pela xxmaj resolução nº 444 de 26 / 10 / 2001 , atualizado pela xxmaj resolução xxmaj normativa n ° 370 , de 30 / 06 / 2009 22 . xxmaj dentro dos grupos de contas listadas na xxmaj tabela 1 , são objetos de avaliação todos os bens e instalações relacionados a xxmaj tipos de xxmaj unidades de xxmaj cadastro componentes de xxmaj tipos de xxmaj instalações registrados em xxmaj ordens de xxmaj imobilizações referentes a serviços de xxmaj transmissão e à xxmaj administração , definidos no xxmaj manual de xxmaj controle xxmaj patrimonial do xxmaj setor xxmaj elétrico xxup mcpse , instituído pela xxmaj resolução xxmaj normativa n ° . 367 , de 26 / 06 / 2009 . xxmaj os aludidos xxmaj tipos de xxmaj instalações estão relacionados nas tabelas abaixo : xxmaj tabela xxup ii.2 xxmaj transmissão xxmaj rede xxmaj básica / xxmaj demais xxmaj instalações de xxmaj transmissão - xxup dit xxmaj código xxmaj descrição * 20 xxmaj subestações em tensão menor que 230kv ( xxup dit ) ; 21 xxmaj subestações em tensão maior ou igual a 230kv e menor que 345kv ; 22 xxmaj subestações em tensão maior ou igual a 345kv e menor que 500kv ; 23 xxmaj subestações em tensão maior ou igual a 500kv 24 xxmaj linha de xxmaj transmissão em tensão menor que 138kv ( xxup dit ) ; 25 xxmaj linha de xxmaj transmissão em tensão maior ou igual a 138kv e menor que 230kv ( xxup dit ) ; 26 xxmaj linha de xxmaj transmissão em tensão maior ou igual a 230kv e menor que 345kv ; e 27 xxmaj linha de xxmaj transmissão em tensão maior ou igual a 345kv e menor que 500kv. 28 xxmaj linha de xxmaj transmissão em tensão maior ou igual a 500kv. 29 xxmaj instalação de xxmaj transmissão de xxmaj interesse xxmaj restrito ( xxmaj subestação ou xxmaj linha ) * ( para o cadastro de subestações , considerar o maior nível de tensão do(s ) xxunk ) da subestação ) xxmaj tabela xxup ii.3 xxmaj administração xxmaj central xxmaj código xxmaj descrição 70 xxmaj terrenos , edificações , obras civis e benfeitorias da xxmaj administração xxmaj central ; e 71 xxmaj equipamento geral , o equipamento geral de informática e veículos da xxmaj administração xxmaj central . 72 xxmaj sistema de xxmaj comunicação da xxmaj administração xxmaj central pág . 14 / 63 xxmaj tabela xxup ii.4 xxmaj administração xxmaj específica xxmaj código xxmaj descrição 80 xxmaj terrenos , edificações , obras civis e benfeitorias da xxmaj administração xxmaj específica ; e 81 xxmaj equipamento geral , o equipamento geral de informática e veículos da xxmaj administração xxmaj específica . 82 xxmaj sistema de xxmaj comunicação da xxmaj administração xxmaj específica xxmaj tabela xxup ii.5 xxmaj outros xxmaj tipos de xxmaj instalações xxmaj código xxmaj descrição 90 xxmaj terrenos , edificações , obras civis e benfeitorias que não integram outras xxup odi ; 91 xxmaj equipamento geral , o equipamento geral de informática e veículos que não integram xxup odi específicas ; 92 xxmaj sistemas de telecomunicação , telecontrole , teleprocessamento , proteção , controle e supervisão - xxmaj automação ; 93 xxmaj sistema de medição ( que não integram as xxup odi de xxmaj usinas e de xxmaj subestações ) ; 94 xxmaj serviços xxmaj auxiliares gerais , inclusive xxmaj oficinas xxmaj xxunk , xxmaj laboratórios e seus equipamentos ; 95 xxmaj apoio xxmaj operacional ( exclusivo para xxup odi específicas de xxmaj usina e xxmaj subestação ) ; 96 xxmaj xxunk xxmaj subestações e os sistemas de comunicação que integram as xxup odi xxmaj adm. xxmaj central e xxmaj adm. xxmaj específica ) 97 xxmaj sistema de despacho de carga 98 xxmaj reserva xxunk ( exceto equipamentos reservas exclusivos de usinas e subestações que integram xxup odi específicas ) 99 xxmaj intangível ( exceto servidões , que integram a xxup odi específica a que pertence ) 23 . xxmaj os xxmaj tipos de xxmaj instalação que se referem a xxmaj linhas ( de xxmaj transmissão na xxmaj rede xxmaj básica e de xxmaj distribuição ) constituem o conjunto de equipamentos , estruturas e condutores elétricos aéreos , subterrâneos ou submersos , utilizados para a transmissão da energia elétrica , operando em tensões iguais ou maiores que 230 kv ou aqueles utilizados com função exclusiva de interligação de subestações ou circuitos , operando em tensões menores que 230 kv ( dits demais instalações de transmissão ) . 24 . xxmaj os xxmaj tipos de xxmaj instalação que se referem a xxmaj subestações constituem o conjunto de bens , instalações e serviços de infra - estrutura geral , dos módulos construtivos de equipamentos gerais e de manobra da subestação ( xxmaj infra - estrutura geral , xxmaj entrada e xxmaj saída de linha , xxmaj interligação de barramento , xxmaj conexão de xxmaj transformador , xxmaj conexão de xxmaj reatores , xxmaj conexão de xxmaj capacitores , etc . ) . 2.2 . xxup levantamento e xxup descrição xxup dos xxup bens e xxup instalações 25 . xxmaj os levantamentos e descrições dos bens e instalações que compõem a outorga de transmissão devem conter as informações de registro do controle patrimonial , conforme estabelecido nas xxmaj instruções de xxmaj cadastro xxmaj patrimonial , item 7 do xxup mcpse , e outras características que os identifiquem xxunk , possibilitando sua clara identificação e adequada valoração . xxmaj os bens e instalações devem ser classificados por xxmaj contrato de xxmaj concessão , xxmaj ordem de xxmaj investimento xxup odi , e por xxmaj tipo de xxmaj instalação , observando a codificação padrão do xxup mcpse ( xxmaj instruções 6.2 do xxup mcpse ) . 26 . xxmaj todos os ativos imobilizados relacionados a subestações , terrenos , edificações e benfeitorias , devem ser obrigatoriamente inspecionados e avaliados . xxmaj os ativos relacionados a linhas serão inspecionados por critério amostral , com unidades de amostragem definidas e elencadas pela xxup aneel . 27 . o inventário físico , produto do levantamento de campo específico para a avaliação dos bens e instalações , deve observar no mínimo , as características específicas para xxmaj subestações e xxmaj linhas de xxmaj transmissão abaixo relacionadas : pág . 15 / 63 xxup i- xxmaj subestações a ) xxmaj indicar nome da xxmaj subestação , tipo ( aberta , xxunk - inclusive xxup sf6 , blindada ou móvel ) e tensão de operação . b ) xxmaj todos os equipamentos relacionados com as subestações devem ser levantados em campo , para análise de sua operacionalidade e identificação de suas características técnicas , de forma xxunk . c ) xxmaj após esse levantamento , os equipamentos devem ser relacionados , para fins de - -se em consideração o arranjo operativo e a posição seqüencial operativa . xxmaj para tanto devem ser observadas como referência , os anexos da xxmaj resolução xxmaj homologatória xxup aneel n ° 758 / 2009 e a instrução xxunk do xxup mcpse . xxup ii- xxmaj linhas de xxmaj xxunk a ) xxmaj os controles da concessionária no que se refere às instalações existentes de linhas de transmissão deverão ser validados com base em levantamentos de campo das estruturas e equipamentos das linhas selecionadas pela xxup aneel para vistoria . b ) xxmaj indicar , para cada xxmaj linha de xxmaj transmissão e suas derivações que realizem mesma função , o nome do trecho , a extensão e a tensão ( classe de tensão ) . 28 . xxmaj para a realização dos trabalhos de inventário em campo devem ser tomadas as seguintes providências : a ) vistoriar todas as subestações , seus equipamentos e instalações , bem como todos os terrenos , edificações e benfeitorias ; b ) vistoriar as linhas de transmissão selecionadas pela xxup aneel , tomando - se por base os controles da engenharia em xxmaj sistemas de xxmaj informação xxmaj geográficas - xxup sig ( xxmaj xxunk ) , por meio de mapas xxunk - referenciados atualizados , elaborados em quadrículas de 40 km x 40 km e xxunk por xxunk e por xxmaj ordem de xxmaj imobilização ( cada xxmaj subestação ou cada xxup lt com suas respectivas derivações ) ; c ) registrar e informar no laudo de avaliação , para cada xxmaj linha selecionada pela xxup aneel para vistoria , os qualitativos e quantitativos finais , indicando as diferenças encontradas , bem como os cálculos realizados para o processo de validação dos controles da concessionária ; d ) verificar se as diferenças encontradas xxunk dentro dos limites pré - estabelecidos pela xxup aneel , observando o seguinte critério : se as diferenças encontradas no total de linhas de transmissão vistoriadas ficarem dentro dos limites pré - estabelecidos , podem ser validados os controles da engenharia da concessionária referentes às instalações de linhas de transmissão não vistoriadas . xxmaj caso essas diferenças ficarem fora dos limites pré - estabelecidos , a vistoria e o levantamento de campo devem ser estendidos a todas as linhas de transmissão pertencentes à concessionária ( universo de todas as xxup odi xxmaj linhas de xxmaj transmissão ) . e ) manter os desenhos das quadrículas usadas como papéis de trabalho referentes ao inventário físico / levantamentos de campo de cada xxmaj linha , deixando - os , necessariamente , disponíveis para 2 xxmaj conforme a instrução 6.4 , item 5 , do xxup mcpse , cada linha de transmissão xxmaj rede xxmaj básica ( o trecho entre subestações e as suas derivações em mesma tensão ) deve compor uma xxmaj ordem de xxmaj imobilização xxup odi . pág . 16 / 63 a xxup aneel durante o trabalho de fiscalização . xxmaj esses documentos ( dados em papel e / ou arquivos magnéticos ) , devem obrigatoriamente conter a data do inventário , as descrições e os quantitativos apurados dos equipamentos , bem como a seqüência do trecho considerado no xxunk em que foram xxunk . 29 . xxmaj se durante o levantamento de campo forem identificados bens e / ou instalações de propriedade de terceiros ( ex . : acessantes ) , esses não comporão a base de remuneração daquela área de concessão sob inventário , devendo ser informados detalhadamente os procedimentos adotados para a identificação desses bens e / ou instalações . 2.3 . xxup critérios xxup para xxup inclusão xxup de xxup ativos xxup na xxup base xxup de xxup remuneração 30 . xxmaj os ativos vinculados à concessão do serviço público de transmissão de energia elétrica são classificados em elegíveis e não elegíveis , e todos devem ser avaliados , observando o seguinte : a ) os ativos vinculados à concessão do serviço público de transmissão de energia elétrica são elegíveis para inclusão na base de remuneração quando efetivamente utilizados no serviço público de transmissão de energia elétrica ; e b ) os ativos vinculados à concessão do serviço público de transmissão de energia elétrica são não elegíveis quando não utilizados na atividade concedida ou utilizados em atividades não vinculadas ao serviço público de transmissão de energia elétrica , tais como bens cedidos / ocupados por xxunk , clubes , fundações entre outros ; bens desocupados / desativados ; bens cedidos a terceiros ; bens e / ou instalações de uso compartilhado com acessantes ; etc . 31 . xxmaj para aplicação dos critérios de elegibilidade para inclusão na base de remuneração , faz - se necessária uma análise qualificada da utilização do ativo , diferenciando conveniência de necessidade , no que se refere à utilização do ativo na atividade concedida de transmissão de energia elétrica . 32 . a relação dos ativos inventariados classificados como não elegíveis deve ser apresentada à xxup aneel contendo as devidas justificativas . xxmaj esses bens e / ou instalações devem ser avaliados e o laudo de sua avaliação dever ser apresentado em separado . xxmaj ativos em processo de regularização 33 . xxmaj os imóveis que não possuam documentação de titularidade de propriedade definitiva em nome da concessionária podem ser incluídos na base de remuneração , desde que se enquadrem nas seguintes condições : a ) ser um imóvel elegível ( imóvel operacional ) ; b ) encontrar - se registrado na contabilidade ; c ) existir documentação que comprove a aquisição ; e d ) existir comprovação de que a documentação de titularidade de propriedade encontra - se em processo de regularização ( protocolo em cartório ou similar ) . 34 . xxmaj deve ser apresentada uma relação em separado dos imóveis que se encontram nessa situação ( elegíveis para inclusão na base de remuneração e que não possuem documentação de titularidade de propriedade definitiva em nome da concessionária ) , fornecendo informações sobre a pág . 17 / 63 situação atual de cada um no que se refere à posição em termos de documentação e atividades exercidas pela concessionária no local ( destinação de uso ) . 2.4 . xxup índice xxup de xxup aproveitamento 35 . xxmaj para os grupos de ativos xxmaj terrenos ; xxmaj edificações , xxmaj obras xxmaj civis e xxmaj benfeitorias é aplicado um percentual que demonstre o aproveitamento do ativo no serviço público de transmissão de energia elétrica , definindo - se assim o índice de aproveitamento . 36 . o índice de aproveitamento de terrenos e edificações é aplicado sobre o xxmaj valor xxmaj novo de xxmaj reposição - xxup vnr , definindo - se o xxmaj índice de xxmaj aproveitamento xxmaj integral - xxup ia , e sobre o xxmaj valor de xxmaj mercado em xxmaj uso - xxup vmu , definindo - se o xxmaj índice de xxmaj aproveitamento xxmaj depreciado - xxup iad . 37 . xxmaj para aplicação do índice de aproveitamento , faz - se necessária uma análise qualificada da utilização do ativo , diferenciando conveniência de necessidade , no que se refere à utilização do ativo na atividade concedida de transmissão de energia elétrica . 2.5 . xxup método xxup para xxup avaliação 38 . xxmaj utiliza - se na realização da avaliação dos ativos da concessionária de transmissão de energia elétrica , o xxmaj método do xxmaj custo de xxmaj reposição para os bens e instalações elencados em contas dos para o gru 39 . o xxmaj método do xxmaj custo de xxmaj reposição estabelece que cada ativo é valorado por todas as despesas necessárias para sua substituição , que efetue os mesmos serviços e tenha a mesma capacidade do ativo existente . 40 . o xxmaj método xxmaj comparativo de xxmaj mercado estabelece que o valor de um bem ou suas partes constituintes é obtido por meio da comparação de dados de mercado relativos a outros de características similares . 41 . xxmaj para a realização da avaliação dos ativos da concessionária de transmissão de energia elétrica , conforme definido nesta xxmaj resolução , deve ser utilizado o xxmaj método do xxmaj custo de xxmaj reposição de um bem idêntico ou similar ao que está sendo avaliado , considerando seu xxmaj valor xxmaj novo de xxmaj reposição - xxup vnr como base para determinação do respectivo xxmaj valor de xxmaj mercado em xxmaj uso - xxup vmu . 42 . xxmaj entende - se como xxmaj valor xxmaj novo de xxmaj reposição - xxup vnr , o valor de um bem novo , idêntico ou similar ao avaliado , obtido a partir dos preços médios praticados pela concessionária . 43 . o xxmaj valor de xxmaj mercado em xxmaj uso - xxup vmu é definido como sendo o xxmaj valor xxmaj novo de xxmaj reposição - xxup vnr deduzido da parcela de depreciação , que deve respeitar sempre os percentuais de depreciação acumulada registrados na contabilidade para o bem considerado , a partir da data de sua entrada em operação . 44 . xxmaj por fim , o xxmaj valor do xxmaj ativo xxmaj imobilizado em xxmaj serviço ( xxup ais ) que compõe a base de remuneração - xxup xxunk é definido pela aplicação do xxmaj índice de xxmaj aproveitamento xxmaj depreciado - xxup iad sobre o xxmaj valor de xxmaj mercado em xxmaj uso - xxup vmu . pág . 18 / 63 45 . xxmaj as situações relativas a reformas gerais e / ou repotenciação de ativos devem ser conduzidas conforme critérios estabelecidos nos xxmaj manuais de xxmaj contabilidade e de xxmaj controle xxmaj patrimonial do xxmaj setor xxmaj elétrico ( xxup mcse e xxup mcpse ) . 3 . xxup procedimentos xxup de xxup avaliação 46 . xxmaj as avaliações devem ser realizadas considerando xxunk os resultados de inspeções de campo com o objetivo de verificar as características e as condições operacionais dos ativos . 47 . xxmaj os procedimentos de avaliação devem observar obrigatoriamente as instruções do xxup mcse e do xxup mcpse . 3.1 . xxup terrenos 48 . xxmaj os terrenos devem ser avaliados pelo método comparativo de valores de xxunk , por meio do tratamento de dados por fatores , com um número mínimo de 5 ( cinco ) elementos de pesquisa comparáveis , observado o disposto nos parágrafos a seguir . 49 . xxmaj de acordo com o método comparativo , devem ser xxunk valores de terrenos à venda ( elementos da amostra ) , xxunk - se para que estes envolvam áreas próximas e comparáveis àquelas a serem avaliadas , bem como consultados xxunk de imóveis e empresas xxunk que xxunk com terrenos na região . xxmaj em seguida , devem ser aplicados coeficientes de ajustes ( fatores de homogeneização ) adequados , que permitam obter valores médios representativos dos valores de mercado mais xxunk , à vista , no momento da avaliação . o número de elementos efetivamente utilizados deve ser de , no mínimo , 5 ( cinco ) . 50 . a qualidade dos elementos deve estar assegurada quanto a : a ) idoneidade das fontes de informação ; b ) sua atualidade ; e c ) sua semelhança com o imóvel objeto da avaliação , no que diz respeito à sua situação , à destinação , ao grau de aproveitamento e às características físicas . 51 . xxmaj as características do bem avaliado devem preferencialmente estar contidas no intervalo ou espaço amostral dos atributos de mesma natureza levantados entre os bens observados . xxmaj se isso não ocorrer , deve ser xxunk e justificada a medida adotada para considerar tal circunstância . 52 . xxmaj somente devem ser utilizados coeficientes de ajustes ( fatores de homogeneização ) consagrados para homogeneização das amostras . xxmaj para a padronização e maior transparência das avaliações somente podem ser utilizados os seguintes fatores para imóveis urbanos : a ) fator de elasticidade da oferta ( fator de fonte ) ; b ) fator de transposição de local ; c ) fator de frente ( fator de testada ) ; d ) fator de xxunk ; 3 xxmaj conforme definição da xxup nbr 14.653 / 03 xxmaj norma xxmaj brasileira de xxmaj avaliação de xxmaj bens : a ) xxmaj método comparativo : consiste na xxunk do valor de um bem com base na análise dos preços de um grupo de bens semelhantes , os quais tenham sido comercializados em uma data próxima à data de avaliação . pág . 19 / 63 e ) fator de testadas múltiplas ( várias xxunk ) ; f ) fator de acidentação topográfica ; e g ) fator de restrição legal ( restrições de uso e ocupação do solo , restrições ambientais , xxunk , faixas não xxunk , etc . ) . 53 . xxmaj para os imóveis rurais somente poderão ser utilizados os seguintes fatores : a ) fator de elasticidade da oferta ( fator de fonte ) ; b ) fator de utilização do solo ( capacidade de uso do solo ) ; c ) fatores de situação e viabilidade de circulação ( tipo de estradas , importância das distâncias aos centros urbanos , xxunk das estradas durante o ano ) ; d ) fatores de recursos hídricos ; e ) fator de acidentação topográfica ; e f ) fator de restrição legal ( reserva legal , mata xxunk , área de preservação permanente ) . 54 . xxmaj em ambos os casos esses fatores devem ser claramente identificados e definidos no relatório . xxmaj esses fatores são analisados pela xxup aneel e , caso não sejam tecnicamente xxunk , podem ser desconsiderados . 55 . xxmaj deve ser evitada a utilização de fatores de transposição com variações inferiores a 0,5 ( zero vírgula cinco ) e superiores a 2,0 ( dois vírgula zero ) , evitando - se , assim , a utilização de elementos xxunk em relação ao local para o qual a pesquisa deve ser efetuada . 56 . xxmaj para cada terreno avaliado deve ser xxunk e apresentado , obrigatoriamente , arquivo eletrônico com planilha em xxmaj microsoft xxmaj xxunk , com as seguintes informações mínimas : xxup i. xxmaj dados do imóvel a ) designação do local ; b ) utilização ( destinação de uso do terreno atividades executadas , descrever com nível de detalhamento suficiente para clara identificação do uso do terreno , especialmente para os casos de terrenos xxunk , ou xxunk , onde deverão ser especificados estes percentuais em relação à área total de terreno ) ; c ) data - base da avaliação ; d ) localização ( endereço completo , rua , avenida , número , bairro , município , estado , etc . ) ; e ) situação do terreno ( para imóveis urbanos : esquina , meio de quadra , etc . , para imóveis rurais : distância a centros urbanos , qualidade das estradas de ligação , etc . ) ; f ) formato ( regular , irregular , etc . ) ; g ) topografia ( xxunk , xxunk , plano , xxunk , etc . ) ; h ) área total considerada ( m2 ou ha ) ; i ) área(s ) xxunk ) do(s ) xxunk ) xxunk ) ( matrícula , transcrição , etc . ) ; j ) área(s ) obtida(s ) através de levantamentos planimétricos eventualmente existentes ; l ) área(s ) obtida(s ) através de registros cadastrais de xxmaj prefeitura / xxmaj incra ; m ) valores venais informados pelos respectivos órgãos responsáveis ( xxmaj prefeitura / xxmaj incra ) ; n ) valor contábil ; o ) área considerada na contabilidade ; p ) número do título aquisitivo ( matrícula / transcrição , etc . ) do terreno ; q ) número de patrimônio registro na contabilidade ; e r ) valor final do terreno ( xxup r$ ) . pág . 20 / 63 xxup ii . xxmaj dados da região a ) caracterização da micro - região do entorno ( zona central , zona comercial , zona residencial , zona rural , etc . ) ; b ) poder aquisitivo xxunk da região ; c ) melhoramentos públicos existentes ; d ) serviços existentes / acessíveis ; e e ) serviços de transportes acessíveis / existentes . xxup iii . xxmaj pesquisa mercadológica dados dos elementos das amostras a ) endereço completo ( rua , avenida , número , ou outras referências que permitam a localização exata do elemento , bairro , município , estado , etc . ) ; b ) dados das fontes consultadas ( telefone , nome completo da xxunk e do xxunk , de forma a permitir a sua conferência ) ; c ) valor informado ( xxup r$ ) ; d ) área ( m2 ) ; e ) valor unitário ( xxup r$ / m2 ) ; f ) status ( opinião , oferta , venda , etc . ) ; g ) fatores de homogeneização utilizados ; h ) fator total ( refere - se à multiplicação de todos os fatores de homogeneização utilizados e deverá estar limitado entre 0,5 ( zero vírgula cinco ) e 1,5 ( um vírgula cinco ) ; i ) valor unitário xxunk por amostra ( xxup r$ / m2 ) ; j ) valor unitário médio ( xxup r$ / m2 ) ; l ) desvio - padrão ; coeficiente de variação ; e mapa , planta ou xxunk indicando a localização de cada elemento . 57 . xxmaj cada dado do elemento utilizado na pesquisa de mercado deve ser verificado até o grau de detalhamento que xxunk as condições de xxunk - lo com o bem em avaliação . 58 . a qualidade da pesquisa mercadológica deve estar assegurada pelo coeficiente de variação ( divisão do desvio padrão pelo valor unitário médio ) , inferior a 0,3 ( zero vírgula três ) . xxmaj caso o coeficiente de variação seja superior a 0,3 , a xxup aneel poderá adotar o valor xxunk do terreno ou a atualização do respectivo valor contábil por meio do xxup xxunk , calculado pelo xxup ibge , de acordo com o seu entendimento . 59 . xxmaj devem ser xxunk amostras com elementos de pesquisa obtidos por meio de apenas uma fonte de informação . 60 . xxmaj devem estar claramente identificados os elementos que eventualmente contenham construções civis e benfeitorias e / ou culturas ( plantios ) . xxmaj também devem ser explicitados os procedimentos e cálculos adotados para a desconsideração das construções civis e benfeitorias e / ou culturas ( plantios ) existentes . 61 . xxmaj para os terrenos , não é permitida a utilização dos métodos involutivo ou da xxunk . xxmaj alternativamente , na impossibilidade de avaliação pelo método comparativo de valores de mercado , 4 xxup ipca : xxmaj índice xxmaj nacional de xxmaj preços ao xxmaj consumidor xxmaj amplo - xxup ipca . 5 xxmaj conforme definição da xxup nbr 14.653 / 03 xxmaj norma xxmaj brasileira de xxmaj avaliação de xxmaj bens : a ) xxmaj método involutivo : identifica o valor de um bem , xxunk no seu aproveitamento eficiente , baseado em modelo de estudo de viabilidade técnico - econômica , pág . 21 / 63 desde que devidamente justificada e submetida à prévia apreciação da xxup aneel , é permitida a avaliação por meio da atualização dos valores históricos pela aplicação do xxup ipca , ou então , considerando - se os respectivos valores venais . xxmaj caberá à xxup aneel a definição do critério a ser adotado . xxup índice xxup de xxup aproveitamento 62 . xxmaj deve , obrigatoriamente , ser indicado o percentual considerado para o índice de aproveitamento do terreno avaliado , para fins de sua inclusão na base de remuneração , a partir da verificação e análise qualificada do efetivo aproveitamento do ativo respectivo no serviço público de transmissão de energia elétrica . 63 . o aproveitamento do terreno deve ser inicialmente verificado durante a vistoria de campo para posterior cálculo do índice de aproveitamento , que deve constar do relatório de avaliação , com a devida fundamentação . 64 . a determinação do índice de aproveitamento obedece aos seguintes critérios : a ) o percentual de aproveitamento de um terreno sob avaliação é definido pela razão entre a área efetivamente utilizada ( ou área aproveitável ) e a área total do terreno utilizado para a construção de obras e / ou instalação de bens para o serviço público de transmissão de energia elétrica . xxmaj devem ser consideradas inclusas como áreas de efetiva utilização ( ou áreas aproveitáveis ) as áreas de segurança , manutenção , circulação , manobra e estacionamento , aplicáveis , em função do tipo , porte e características da edificação ou instalação existente . b ) no caso de terrenos de subestações existentes e em serviço , quando a subestação não ocupar toda a área aproveitável do terreno e este não puder ser legalmente xxunk para fins de alienação , pode ser considerada , ainda , como área aproveitável , a título de reserva operacional , um percentual adicional de até 20 % calculado sobre o percentual de aproveitamento calculado conforme os critérios estipulados no parágrafo anterior . c ) no caso específico de terrenos de edificações pode ser considerado um percentual adicional de até 10 % da área total do terreno , para áreas verdes efetivamente existentes , também reconhecidas como áreas aproveitáveis . 3.2 . xxup servidões 65 . xxmaj os ativos referentes às servidões devem ser avaliados a partir da atualização de valores contábeis , pelo xxup ipca , desde que seja verificado que não existem distorções relevantes entre os ativos físicos efetivamente existentes e os ativos constantes no controle patrimonial da concessionária . 66 . xxmaj deve ser explicitado no relatório de avaliação , os procedimentos e critérios utilizados para validação dos saldos das contas contábeis onde as servidões encontram - se registradas , observando sempre as instruções do xxmaj manual de xxmaj contabilidade do xxmaj setor xxmaj elétrico - xxup mcse . 67 . xxmaj devem ser consideradas na base de remuneração as faixas de servidões adquiridas de forma onerosa , observando - se os critérios utilizados na contabilidade para registro desses ativos . mediante xxunk empreendimento compatível com as características do bem e com as condições do mercado no qual está inserido , considerando - se cenários viáveis para execução e comercialização do produto ; b ) xxmaj método da renda : identifica o valor do bem , com base na capitalização presente da sua renda líquida prevista , considerando - se cenários viáveis . pág . 22 / 63 68 . xxmaj as faixas de servidão com escritura de propriedade devem ser consideradas na base de remuneração pelo mesmo critério utilizado para direitos de uso e de passagem adquiridos de forma onerosa , não devendo ser consideradas como terreno avaliado a valor de mercado . 3.3 . xxup edificações , xxup obras xxup civis e xxup benfeitorias 69 . xxmaj devem ser objeto de avaliação todos os bens e instalações que caracterizam unidades de xxunk ao xxunk , suporte e proteção de propriedades ou pessoas , inclusive casa de força , compreendendo desde a terraplenagem e escavações para fundação até os acabamentos , incluindo os componentes dos sistemas de serviços integrantes da edificação , tais como iluminação e / ou força , instalações xxunk , ventilação , exaustão e condicionamento de ar , proteção contra incêndio etc . xxmaj os abrigos , bases de equipamentos , tanques , xxunk e outros , que fazem parte da estrutura da edificação , também estão incluídos neste tipo de bens e instalações que devem ser avaliados , além das demais abaixo elencadas : a ) xxmaj xxunk , xxunk e campos de xxunk b ) áreas de estacionamento c ) xxunk d ) ruas e estradas e ) pontes , xxunk e túneis xxunk f ) xxunk e calçadas g ) muros e cercas ( trechos contínuos de extensão igual ou superior a 50 m ) 70 . xxmaj os trabalhos devem ser iniciados por inspeção física para a identificação e caracterização de todas as edificações , obras civis e benfeitorias , observando - se os componentes estruturais , as características técnicas e o uso efetivo do imóvel . 71 . a avaliação desses bens deve ser efetuada adotando - se o método da quantificação de custo , que consiste em identificar o custo do bem ou de suas partes , por meio de orçamentos sintéticos ou xxunk , a partir das quantidades de serviços e respectivos custos diretos e indiretos . 72 . a aplicação do método acima citado deve ser adotada para os bens de maior relevância . xxmaj entende - se por bens de maior relevância aqueles que , ordenados de forma decrescente do xxup vnr , correspondem a um montante superior a 70 % do valor novo de reposição registrado em cada subgrupo de 73 . xxmaj para esses bens definidos anteriormente , os valores de reposição devem ser obtidos por meio de orçamentos detalhados , considerando - se os preços atuais de seus componentes básicos e o custo de construção na região , não podendo ser utilizados custos unitários de construção pré - definidos ( xxup cub xxmaj custo xxmaj unitário xxmaj básico , publicado pelo xxup sinduscon xxmaj xxunk da xxmaj indústria de xxmaj construção xxmaj civil , conforme xxup nbr xxunk , e valores publicados pela editora xxmaj pini , na xxmaj revista xxmaj construção e xxmaj mercado ) . 74 . xxmaj para os bens menos representativos , ou seja , aqueles que , ordenados por ordem crescente do xxup vnr correspondem a um montante inferior a 30 % do valor novo de reposição registrado em cada , podem ser utilizados custos unitários de construção pré - definidos , desde que : pág . 23 / 63 a ) adequadamente ponderados de acordo com a região , o padrão construtivo e a tipologia da edificação ; b ) utilizadas referências xxunk ( xxup cub xxup sinduscon , xxmaj custos xxmaj unitários publicados pela editora xxmaj pini , na xxmaj revista xxmaj construção e xxmaj mercado ) ; e c ) limitados à aplicação em edificações . 75 . xxmaj as benfeitorias e obras civis constantes do grupo de bens menos representativos devem ser avaliadas por meio de orçamentos sintéticos . 76 . o levantamento quantitativo dos insumos empregados nessas obras deve ser obtido a partir da análise das seguintes documentações : a ) inspeções de campo ; b ) planta geral da unidade com localização de todas as edificações , indicando as respectivas áreas construídas ; c ) projetos de fundação , estrutura e arquitetura das principais edificações ; d ) planilhas de medição de obra , contratos de construção e planilhas orçamentárias ; e e ) planta geral das redes externas de água xxunk , água xxunk , esgoto , incêndio e iluminação pública . 77 . xxmaj deve ser verificado o aproveitamento do imóvel para cálculo posterior do índice de aproveitamento , que constará da avaliação , com a devida fundamentação . 78 . xxmaj somente é objeto de remuneração o percentual de área de edificação efetivamente utilizado para o serviço público de transmissão de energia elétrica , acrescido do percentual referente às áreas comuns , de circulação , de segurança , e de ventilação / iluminação , correspondentes . 79 . xxmaj nas reformas e / ou transformações que implicam alteração do valor do bem , registradas na contabilidade via xxmaj unidade de xxmaj adição e xxmaj retirada xxup uar , conforme orientação do xxup mcpse , devem ser respeitadas as xxunk acumuladas , por lançamento contábil , bem como a relevância das reformas e / ou transformações em relação ao todo . 80 . xxmaj as edificações , obras civis e benfeitorias de propriedade da concessionária xxunk em terrenos de propriedade de terceiros , desde que estejam vinculadas ao serviço público de transmissão de energia elétrica e registradas na contabilidade , também devem ser consideradas nos trabalhos de avaliação . 81 . xxmaj sem prejuízo das informações do cadastramento patrimonial definidas pelo xxup mcpse , também devem ser levantadas e apresentadas , obrigatoriamente , para cada edificação , obra civil e benfeitoria , as seguintes informações : a ) data - base da avaliação ; b ) nome da edificação , obra civil ou benfeitoria ; c ) localização ( endereço completo , rua , avenida , número , bairro , município , estado , etc . ) ; d ) utilização ; e ) área total construída ( m2 ) ; f ) área operacional ( m2 ) ; g ) acréscimos de áreas e respectivas datas de imobilização das reformas realizadas ; pág . 24 / 63 h ) descrição xxunk ( estrutura ; xxunk externo xxunk , vidros , elevação do fechamento , cobertura , pisos etc . ; acabamentos internos xxunk , pisos , xxunk , portas , xxunk , etc . ) ; tipo de fundação ; entre outras informações relevantes ; i ) caracterização do fechamento / cercamento da área : tipo ( xxunk , tela xxunk com xxunk , entre outros ) ; quantidade de metros xxunk e altura ou área em m2 ; j ) caracterização das áreas de estacionamento , circulação , manobras existentes ; tipo de pavimentação ; áreas totais ( m2 ) ; número de vagas cobertas / descobertas ; entre outras informações relevantes ; k ) caracterização das áreas cobertas ( tipo de cobertura , área total em m2 ) ; e l ) caracterização de outras áreas eventualmente existentes . 82 . xxmaj em nenhuma hipótese deve ser utilizado o método comparativo de mercado para a avaliação das edificações , obras civis e benfeitorias . xxmaj xxunk , escritórios e xxunk comerciais devem ser avaliados adotando - se somente o método do custo de reprodução , citado anteriormente . 83 . xxmaj no caso da concessionária ter adquirido , durante o período incremental , um imóvel que contenha edificação construída antes da data de sua aquisição , o valor da edificação obtido para o xxup vnr , conforme o método do custo de reprodução , deverá ser considerado com a taxa de depreciação no período , que xxunk à idade do edifício . a idade do edifício deverá ser comprovada através de documentação ( xxup xxunk , xxmaj xxunk - se , etc . ) . xxmaj na hipótese de não haver disponibilidade desta documentação , a xxup aneel poderá arbitrar um valor residual para a edificação . 84 . xxmaj no caso de discrepâncias significativas entre o valor de avaliação apresentado e o valor obtido pela atualização do valor contábil , sem a devida justificativa , a xxup aneel poderá adotar este último critério para a obtenção do xxup vnr . xxmaj para determinação do respectivo xxup vmu , o cálculo deve ser feito respeitando - se , necessariamente , os percentuais de depreciação acumulada registrados na contabilidade para cada bem do ativo considerado . 3.4 . xxup máquinas e xxup equipamentos xxup de xxup transmissão 85 . xxmaj são objeto de avaliação todos os bens e instalações que caracterizam unidades de cadastro no controle patrimonial , contabilizados no a ) subestações ( o conjunto de bens , instalações e serviços de infra - estrutura geral , dos módulos construtivos de equipamentos gerais e de manobra da subestação ( xxmaj infra - estrutura geral , xxmaj entrada e xxmaj saída de linha , xxmaj interligação de barramento , xxmaj conexão de xxmaj transformador , xxmaj conexão de xxmaj reatores , xxmaj conexão de xxmaj capacitores , etc . ) ; b ) linhas de transmissão ( equipamentos , estruturas e condutores elétricos aéreos , subterrâneos ou submersos , utilizados para a transmissão da energia elétrica , operando em tensões iguais ou maiores que 230 kv ou aqueles utilizados com função exclusiva de interligação,xxbos xxup agência xxup nacional xxup de xxup energia xxup elétrica - xxup aneel xxup resolução xxmaj nº 597 , xxup de 21 xxup de xxup dezembro xxup de 2001 . xxmaj prorroga o prazo para comercialização temporária de energia elétrica oriunda de excedentes de centrais xxunk , autoprodutores e centrais geradoras de emergência . o xxup diretor - xxup geral xxup da xxup agência xxup nacional xxup de xxup energia xxup elétrica xxup aneel , no uso de suas atribuições regimentais , de acordo com deliberação da xxmaj diretoria , tendo em vista o disposto no art . 2o da xxmaj lei no 9.427 , de 26 de dezembro de 1996 , o que consta do xxmaj processo no xxunk / 01 - 25 , e considerando que : a xxmaj medida xxmaj provisória no 2.198 - 5 , de 24 de agosto de 2001 , dispõe sobre medidas emergenciais de racionalização , visando a redução de consumo e o aumento da oferta de energia ; compete à xxup aneel regular a produção , transmissão , distribuição e comercialização dos serviços de energia elétrica concedidos , fiscalizando permanentemente a sua prestação ; as atuais condições de demanda e geração , a necessidade do atendimento do mercado de energia elétrica do sistema interligado e do incentivo ao incremento da oferta pelos geradores ; e o fomento da geração próxima aos centros de carga constitui xxunk benefício para o aumento da confiabilidade e estabilidade dos sistemas de transmissão e de distribuição , assim reduzindo perdas e aumentando a oferta de energia elétrica em curto espaço de tempo , resolve : xxmaj art.1º xxmaj prorrogar , até 31 de março de 2002 , as condições especiais para comercialização temporária de energia elétrica oriunda de excedentes de centrais de xxunk , autoprodutores e centrais geradoras de emergência , na forma estabelecida na xxmaj resolução xxmaj aneel no 170 , de 4 de maio de 2001 . xxmaj parágrafo único . xxmaj fica prorrogado o prazo , até 31 de março de 2002 , das autorizações para fins de comercialização temporária de energia elétrica , inclusive das expedidas até a data de publicação desta xxmaj resolução . xxmaj art . 2º a partir de 1 de abril de 2002 , as centrais geradoras abrangidas por esta xxmaj resolução , interessadas em continuar a comercialização de energia elétrica , deverão se adequar às regras vigentes , particularmente no que concerne aos procedimentos de outorga estabelecidos na xxmaj resolução xxmaj aneel nº 112 , de 18 de maio de 1999 , e à legislação superveniente e regulamentos específicos . xxmaj art . 3º xxmaj esta xxmaj resolução entra em vigor na data de sua publicação . xxup josé xxup mário xxup miranda xxup abdo xxmaj este texto não substitui o publicado no xxup d.o de 28.12.2001 , seção 1 , p. 134 , v. 138 , n. 246 .,xxbos xxup agência xxup nacional xxup de xxup energia xxup elétrica - xxup aneel xxup resolução xxmaj nº 82 , xxup de 19 xxup de xxup fevereiro xxup de 2003 . xxmaj prorroga o prazo de que trata o inciso xxup ii , art . 5o da xxmaj resolução no 419 , de 25 de outubro de 2000 . xxmaj relatório de xxmaj voto o xxup diretor - xxup geral xxup da xxup agência xxup nacional xxup de xxup energia xxup elétrica - xxup aneel , no uso de suas atribuições regimentais , de acordo com deliberação da xxmaj diretoria , tendo em vista o disposto no art . 26 da xxmaj lei no 9.427 , de 26 de dezembro de 1996 , com a redação dada pela xxmaj lei no 9.648 , de 27 de maio de 1998 , no § 1o , art . 6o da xxmaj resolução no 265 , de 13 de agosto de 1998 , o que consta do xxmaj processo no xxunk / 00 - 62 , e considerando que : a empresa xxmaj modal xxmaj energy xxup s.a. requereu revalidação do prazo para que a mesma possa comercializar energia elétrica no âmbito do xxmaj mercado xxmaj atacadista de xxmaj energia xxmaj elétrica - xxup mae , em face do disposto no inciso xxup ii , art . 5o da xxmaj resolução no 419 , de 25 de outubro de 2000 , publicada no xxmaj diário xxmaj oficial de 26 de outubro de 2000 , resolve : xxmaj art . 1o xxmaj prorrogar por doze meses , impreterivelmente , o prazo estabelecido para cumprimento da determinação que trata o inciso xxup ii , art . 5o , da xxmaj resolução no 419 , de 25 de outubro de 2000 , publicada no xxmaj diário xxmaj oficial de 26 de outubro de 2000 , que autoriza a empresa xxmaj modal xxmaj energy xxup s.a. a comercializar energia elétrica no âmbito do xxmaj mercado xxmaj atacadista de xxmaj energia xxmaj elétrica - xxup mae . xxmaj art . 2o xxmaj esta xxmaj resolução entra em vigor na data de sua publicação . xxup josé xxup mário xxup miranda xxup abdo xxmaj este texto não substitui o publicado no xxup d.o de xxunk , seção 1 , p. 178 , v. 140 , n. 37 .,xxbos xxup agência xxup nacional xxup de xxup energia xxup elétrica xxup aneel xxup resolução xxup normativa xxmaj nº 734 , xxup de 6 xxup de xxup setembro xxup de 2016 . xxmaj altera as xxmaj regras de xxmaj comercialização de xxmaj energia xxmaj elétrica relacionadas ao dispositivo de xxmaj reconciliação xxmaj contratual de xxmaj energia de xxmaj reserva para xxmaj fonte xxmaj eólica . xxmaj voto o xxup diretor - xxup geral xxup da xxup agência xxup nacional xxup de xxup energia xxup elétrica xxup aneel , no uso de suas atribuições regimentais , de acordo com a deliberação da xxmaj diretoria , tendo em vista o disposto no art . 2º e art . 3º , inciso xxup xiv , da xxmaj lei nº 9.427 , de 26 de dezembro de 1996 ; art . 1º , inciso v , e art . 4º , da xxmaj lei nº 10.848 , de 15 de março de 2004 ; art . 2º do xxmaj anexo i do xxmaj decreto nº 2.335 , de 6 de outubro de 1997 ; art . 1º , inciso xxup ii do § 1º , do xxmaj decreto nº 5.163 , de 30 de julho de 2004 , e o que consta do xxmaj processo nº xxunk / 2016 - 21 , resolve : xxmaj art . 1º xxmaj estabelecer que o valor médio da geração da usina a que se refere o dispositivo de reconciliação contratual para fins de mitigação de xxunk relacionadas à produção de energia proveniente de fonte eólica deve utilizar os dados de disponibilidade mensal em substituição aos registros faltantes de medição de geração no período entre o início de suprimento original ou do xxunk e a entrada em operação comercial da usina . § 1º a disponibilidade mensal de que trata o caput corresponde àquela constante no xxmaj anexo i aos xxmaj contratos de xxmaj energia de xxmaj reserva xxup cer , observadas as perdas reais da rede básica para empreendimentos conectados diretamente na xxmaj rede xxmaj básica . § 2º xxmaj para o período entre a entrada em operação comercial da primeira unidade geradora até a completa motorização , os registros faltantes serão proporcionais à geração verificada . xxmaj art . 2º xxmaj até que se proceda à alteração algébrica das xxmaj regras de xxmaj comercialização de xxmaj energia xxmaj elétrica , a xxmaj câmara de xxmaj comercialização de xxmaj energia xxmaj elétrica xxup ccee deverá efetuar a operacionalização do disposto nesta xxmaj resolução , podendo utilizar mecanismo auxiliar de cálculo . xxmaj art . 3º xxmaj esta xxmaj resolução entra em vigor na data de sua publicação . xxup romeu xxup donizete xxup rufino xxmaj este texto não substitui o publicado no xxup d.o. de 12.09.2016 , seção 1 , p. 96 , v. 153 , n. 175 .\n",
       "y: LMLabelList\n",
       ",,,,\n",
       "Path: .;\n",
       "\n",
       "Valid: LabelList (314 items)\n",
       "x: LMTextList\n",
       "xxbos xxup agência xxup nacional xxup de xxup energia xxup elétrica - xxup aneel xxup resolução xxmaj nº 5 , xxup de 13 xxup de xxup janeiro xxup de 2000 xxmaj autoriza a xxmaj companhia xxmaj energética do xxmaj amazonas - xxup ceam a ampliar a capacidade instalada da central geradora denominada xxup ute xxmaj xxunk , localizada no xxmaj município de xxmaj xxunk , xxmaj estado do xxmaj amazonas . o xxup diretor - xxup geral xxup da xxup agência xxup nacional xxup de xxup energia xxup elétrica - xxup aneel , no uso de suas atribuições regimentais , de acordo com deliberação da xxmaj diretoria , e tendo em vista o disposto no inciso xxup xxxi do art . 4º do xxmaj anexo i do xxmaj decreto nº 2.335 , de 6 de outubro de 1997 , no art . 12 do xxmaj decreto nº 1.717 , de 24 de novembro de 1995 , e o que consta do xxmaj processo nº xxunk / 88 - 77 , resolve : xxmaj art . 1º xxmaj autorizar a xxmaj companhia xxmaj energética do xxmaj amazonas - xxup ceam a ampliar a capacidade instalada da central geradora denominada xxup ute xxmaj xxunk em xxunk kw , mediante a instalação de 1 x 630 kw , 3 x 800 kw , 1 x 2.000 kw , já em operação ; e 1 x 2.000 kw , com inicio de operação previsto para 31 março de 2000 e a desativação de 2 x 1.250 kw. a xxup ute xxmaj xxunk utilizará como combustível óleo diesel e se encontra localizada no xxmaj município de xxmaj xxunk , xxmaj estado do xxmaj amazonas , no qual a xxmaj companhia xxmaj energética do xxmaj amazonas - xxup ceam é titular da autorização para produção de energia elétrica conforme xxmaj portaria xxup mme nº 712 , de 22 de outubro de 1968 . xxmaj art . 2º xxmaj regularizar a potência instalada da xxmaj usina xxmaj termelétrica xxmaj xxunk com nove unidades geradoras , sendo 1 x 630 kw , 3 x 800 kw , 1 x 1.100 kw , 2 x 1.250 kw e 2 x 2.000 kw , totalizando uma potência instalada de xxunk kw. xxmaj art . 3º a central geradora deverá ter a ampliação concluída até 31 de março de 2000 , ficando a xxmaj autorizada obrigada a comunicar a sua conclusão à xxmaj agência xxmaj nacional de xxmaj energia xxmaj elétrica - xxup aneel no prazo máximo de sessenta dias , contado a partir da data em que essa efetivamente ocorrer . xxmaj art . 4º xxmaj esta xxmaj resolução entra em vigor na data de sua publicação . xxup josé xxup mário xxup miranda xxup abdo xxmaj este texto não substitui o publicado no xxup d.o. de 14.01.2000 , seção 1 , p. 43 , v. 138 , n. xxup 10-e.,xxbos xxup agência xxup nacional xxup de xxup energia xxup elétrica - xxup aneel xxup resolução xxmaj no 95 , xxup de 11 xxup de xxup março xxup de 2003 . ( * ) xxmaj autoriza a empresa xxup goiasa - xxmaj xxunk xxmaj álcool xxmaj ltda . a estabelecer - se como xxmaj produtor xxmaj independente de xxmaj energia xxmaj elétrica , mediante a exploração da central geradora termelétrica xxmaj goiasa , no xxmaj município de xxmaj xxunk , xxmaj estado de xxmaj goiás . xxmaj relatório de xxmaj voto o xxup diretor - xxup geral xxup da xxup agência xxup nacional xxup de xxup energia xxup elétrica - xxup aneel , no uso de suas atribuições regimentais , de acordo com deliberação da xxmaj diretoria , tendo em vista o disposto nos arts . 6o e 11 da xxmaj lei no 9.074 , de 7 de julho de 1995 , regulamentada pelo xxmaj decreto no 2.003 , de 10 de setembro de 1996 , no inciso xxup xxxi , art . 4o , xxmaj anexo i do xxmaj decreto no 2.335 , de 6 de outubro de 1997 , e o que consta do xxmaj processo no xxunk / 01 - 06 , resolve : xxmaj art . 1o xxmaj autorizar a empresa xxup goiasa - xxmaj xxunk xxmaj álcool xxmaj ltda . , com sede nas instalações industriais localizada na xxmaj rodovia xxup xxunk 320 , km 51 , zona rural , xxmaj município de xxmaj xxunk , xxmaj estado de xxmaj goiás , inscrita no xxup cnpj / xxup mf sob o no xxunk / 0001 - 84 , a estabelecer - se como xxmaj produtor xxmaj independente de xxmaj energia xxmaj elétrica , mediante a exploração da central geradora termelétrica denominada xxmaj goiasa , com um turbogerador de 4.000 kw , em operação desde junho de 1995 , utilizando como combustível bagaço de cana - de - açúcar , e o respectivo sistema de transmissão de interesse restrito , constituído de subestação , composta de um barramento , em 13,8 kv , tipo barras xxunk , localizada no xxmaj município de xxmaj xxunk , xxmaj estado de xxmaj goiás . xxmaj parágrafo único . a energia elétrica produzida pela autorizada destina - se à comercialização na modalidade de produção independente de energia elétrica , em conformidade com as condições estabelecidas nos arts . 12 , 15 e 16 da xxmaj lei no 9.074 , de 7 de julho de 1995 , regulamentada pelo xxmaj decreto no 2.003 , de 10 de setembro de 1996 . xxmaj art . 2o xxmaj autorizar a empresa xxup goiasa - xxmaj xxunk xxmaj álcool xxmaj ltda . a ampliar a referida central geradora , mediante a substituição do turbogerador existente de 4.000 kw , por dois turbogeradores , sendo um de 30.000 kw e outro de xxunk kw , totalizando xxunk kw de capacidade final instalada , utilizando como combustível bagaço de cana - de - açúcar , e o respectivo sistema de transmissão de interesse , que em sua configuração final será constituído de subestação da usina , com um transformador elevador de xxunk kva - 13,8 / 69 kv , e uma linha de transmissão , 69 kv , com aproximadamente 40 km de extensão até sua conexão no sistema de transmissão da xxmaj companhia xxmaj energética de xxmaj goiás - xxup celg , concessionária local . xxmaj art . 3o xxmaj constituem obrigações da autorizada : i - ampliar a central geradora termelétrica conforme cronograma apresentado à xxmaj agência xxmaj nacional de xxmaj energia xxmaj elétrica - xxup aneel , obedecendo aos marcos a seguir descritos : a ) início das obras civis das estruturas : até 16 de abril de 2003 ; b ) início da montagem eletromecânica : até 2 de junho de 2003 ; c ) obtenção da xxmaj licença de xxmaj operação ( xxup lo ) : até 27 de fevereiro de 2004 ; d ) início do comissionamento : até 1o de março de 2004 ; e ) início da operação comercial da unidade geradora de 30.000 kw : até 3 de maio de 2004 ; 2 f ) início da operação comercial da unidade geradora de xxunk kw : até 5 de julho de 2004 . xxup ii - cumprir e fazer cumprir as normas legais e regulamentares de geração e comercialização de energia elétrica , respondendo perante a xxup aneel , usuários e terceiros , pelas conseqüências danosas decorrentes da exploração da central geradora termelétrica ; xxup iii - efetuar solicitação de acesso aos sistemas de transmissão e distribuição , nos termos da xxmaj resolução no 281 , de 1o de outubro de 1999 , com redação dada pela xxmaj resolução no 208 , de 7 de junho de 2001 , observando especialmente o disposto em seu art . 9o , no que tange aos prazos compatíveis com o atendimento do cronograma de implantação da central geradora termelétrica ; xxup iv - celebrar os contratos de conexão e uso dos sistemas de transmissão e distribuição , nos termos da legislação específica ; v - efetuar o pagamento , nas épocas próprias definidas nas normas específicas : a ) das cotas mensais da xxmaj conta de xxmaj consumo de xxmaj combustíveis - xxup ccc que lhe forem atribuídas ; b ) da xxmaj taxa de xxmaj fiscalização de xxmaj serviços de xxmaj energia xxmaj elétrica , nos termos da legislação específica ; e , c ) dos encargos de uso dos sistemas de transmissão e distribuição decorrentes da operação da central geradora termelétrica ; xxup vi - submeter - se à fiscalização da xxup aneel ; xxup vii - organizar e manter permanentemente atualizado o cadastro de bens e instalações da central geradora termelétrica , comunicando à xxup aneel qualquer alteração das características de sua unidade geradora ; xxup viii - manter em arquivo , à disposição da fiscalização da xxup aneel , xxmaj estudo de xxmaj impacto xxmaj ambiental ( xxup eia ) , xxmaj relatório de xxmaj impacto xxmaj ambiental ( xxup rima ) ou estudo formalmente requerido pelo órgão licenciador ambiental , projetos básico e executivo , registros operativos e de produção de energia elétrica e os resultados dos ensaios de comissionamento ; xxup ix - observar e cumprir a legislação ambiental e de recursos hídricos , providenciando as licenças correspondentes ; x - submeter - se a toda e qualquer regulamentação de caráter geral ou que venha a ser estabelecida pela xxup aneel , especialmente aquelas relativas à produção independente de energia elétrica ; xxup xi - prestar todas as informações relativas ao andamento do empreendimento , facilitar os serviços de fiscalização e comunicar a conclusão das obras , no prazo de sessenta dias contado da data em que essa efetivamente ocorrer ; xxup xii - solicitar anuência prévia a xxup aneel , em caso de transferência de controle acionário ; e , 3 xxmaj parágrafo único . xxmaj pelo descumprimento das obrigações decorrentes da legislação de regência de produção e comercialização de energia elétrica e do disposto nesta xxmaj resolução , a autorizada ficará sujeita às penalidades estabelecidas na legislação . xxmaj art . 4o xxmaj constituem direitos da autorizada : i - acessar livremente , na forma da legislação , o sistema de transmissão e distribuição , mediante pagamento dos respectivos encargos de uso e de conexão , quando devidos ; xxup ii - comercializar a energia elétrica produzida , nos termos da legislação ; xxup iii - modificar ou ampliar , desde que previamente autorizado pela xxup aneel , a central geradora termelétrica e as instalações de interesse restrito ; e , xxup iv - oferecer , em garantia de financiamentos obtidos para a realização de obras e serviços , os direitos emergentes desta autorização , bem assim os bens constituídos pela central geradora termelétrica , desde que a eventual execução da garantia não comprometa a continuidade da produção de energia elétrica pela central geradora termelétrica . xxmaj art . 5o a presente autorização vigorará pelo prazo de trinta anos , contado a partir da publicação desta xxmaj resolução , podendo ser prorrogada a critério da xxup aneel e a pedido da autorizada . § 1o a autorização poderá ser revogada nas seguintes situações : i - produção da energia elétrica em desacordo com as prescrições desta xxmaj resolução e legislação específica ; xxup ii - descumprimento das obrigações decorrentes desta autorização ; xxup iii - transferência a terceiros de qualquer das unidades geradoras de energia elétrica sem prévia autorização da xxup aneel ; xxup iv - solicitação da autorizada ; ou , v - desativação da central geradora termelétrica . § 2o xxmaj em nenhuma hipótese a revogação da autorização acarretará para a xxup aneel , qualquer responsabilidade em relação aos encargos , ônus , obrigações ou compromissos assumidos pela autorizada com relação a terceiros , inclusive aquelas relativas aos seus empregados . 4 xxmaj art . 6o xxmaj revogar o xxmaj despacho xxup aneel no 427 , de 5 de julho de 2001 . xxmaj art . 7o xxmaj esta xxmaj resolução entra em vigor na data de sua publicação . xxup josé xxup mário xxup miranda xxup abdo xxmaj republicado no xxup d.o de 31.03.2003 , seção 1 , p. 57 , v. 140 , n. 62 , por conter incorreções no original publicado em 12.03.2003 , seção 1 , p. 42 . xxmaj este texto não substitui o republicado no xxup d.o de xxunk , seção 1 , p. 57 , v. 140 , n. 62 ( xxmaj prorrogados os prazos estabelecidos no art . 3º , inciso i , pela xxup res xxup aneel 615 de 25.11.2003 ) ( xxmaj regularizada a alteração da capacidade instalada da xxup ute xxmaj goiasa , pelo xxup dsp xxup scg / xxup aneel 602 de xxunk ),xxbos xxup agência xxup nacional xxup de xxup energia xxup elétrica - xxup aneel xxup resolução xxmaj nº 290 , xxup de 3 xxup de xxup agosto xxup de 2000 xxmaj homologa as xxmaj regras do xxmaj mercado xxmaj atacadista de xxmaj energia xxmaj elétrica - xxup mae e fixa as diretrizes para a sua implantação gradual . xxmaj texto xxmaj compilado o xxup diretor - xxup geral xxup da xxup agência xxup nacional xxup de xxup energia xxup elétrica - xxup aneel , no uso de suas atribuições regimentais , de acordo com deliberação da xxmaj diretoria , tendo em vista o disposto nos arts . 12 , § 3o , e 14 , da xxmaj lei nº 9.648 , de 27 de maio de 1998 , no art . 12 , § 4o , do xxmaj decreto nº 2.655 , de 2 de julho de 1998 , o que consta do xxmaj processo n ° 48500.004645 / 98 - 76 e considerando que : compete à xxmaj aneel a homologação do xxmaj acordo de xxmaj mercado , bem como as suas alterações ; a xxmaj assembléia - xxmaj geral do xxmaj mercado xxmaj atacadista de xxmaj energia xxmaj elétrica - xxup mae , realizada em 29 de fevereiro de 2000 , aprovou as regras a serem praticadas pelo referido mercado , conforme consta do xxmaj processo n ° 48500.004645 / 98 - 76 ; a xxup aneel realizou a xxmaj audiência xxmaj pública xxup xxunk / 2000 , com o objetivo de obter subsídios e informações adicionais para o aprimoramento das xxmaj regras do xxmaj mercado xxmaj atacadista de xxmaj energia xxmaj elétrica xxup xxunk , em função da qual as xxunk contribuições foram incorporadas ao documento que definirá as aludidas regras , inclusive as propostas constantes dos pareceres de xxunk de universidades brasileiras e estrangeiras ; e a consolidação do xxup mae , por meio do estabelecimento das xxmaj regras do xxmaj mercado , é condição fundamental para a introdução da competição no setor elétrico brasileiro , resolve : xxmaj art . 1º xxmaj homologar as xxmaj regras do xxmaj mercado xxmaj atacadista de xxmaj energia xxmaj elétrica ( xxmaj regras do xxup mae ) e fixar as diretrizes para a sua implantação gradual , na forma estabelecida nesta xxmaj resolução . xxmaj art . 2º xxmaj as xxmaj regras do xxup mae devem ser implantadas de acordo com as etapas e datas a seguir estabelecidas : i - xxmaj implantação da 1a etapa : até 1o de setembro de 2000 ; xxup ii - xxmaj implantação da 2a etapa : até 1º de julho de 2001 ; e xxup iii - xxmaj implantação da 3a etapa : até 1o de janeiro de 2002 . ( xxmaj revogado pela xxup res xxup aneel 446 , de 22.08.2002 ) § 1º a 1ª etapa se caracteriza pela definição , pelo xxup mae , do preço ex - xxunk de energia em base mensal ou semanal . § 2º a 2ª etapa se caracteriza pelo início da dupla contabilização , com preços e quantidades calculados ex - xxunk e ex - xxunk , em base semanal . § 3º a 3ª etapa se caracteriza pelo início da definição de preços e quantidades em intervalos de uma hora , no máximo , mantida a dupla contabilização . ( xxmaj revogado pela xxup res xxup aneel 446 , de 22.08.2002 ) xxmaj art . 3º o xxup mae deve enviar à xxmaj aneel a documentação complementar às xxmaj regras do xxmaj mercado , incorporando os ajustes necessários decorrentes das diretrizes estabelecidas nesta xxmaj resolução . § 1º o xxup mae também deve enviar o cronograma de implementação , até 15 dias após a publicação desta xxmaj resolução , contendo o plano de desenvolvimento , a validação dos modelos computacionais e o plano de implantação da medição , necessários para a operacionalização das xxmaj regras do xxmaj mercado , observando as datas estabelecidas no art . 2º. § 2º xxmaj para permitir o entendimento de todos os interessados nas xxmaj regras do xxup mae , deve ser elaborado um documento descritivo contendo a visão geral das aludidas regras , inclusive xxunk os conceitos básicos contidos no mesmo . § 3º xxmaj as xxmaj regras xxmaj algébricas e os xxmaj procedimentos de xxmaj mercado , para cada etapa de implantação , deverão ser encaminhados à xxmaj aneel antes do início de cada etapa . § 4º xxmaj as xxmaj regras do xxup mae deverão conter os critérios para adesão de agentes ao xxmaj acordo do xxup mae , bem como para eventual saída , observando que os novos agentes não deverão ser xxunk com os custos de implantação já realizados . § 5º xxmaj deverá ser submetida à homologação da xxmaj aneel a forma de provimento de recursos para a operação e administração da xxmaj administradora de xxmaj serviços do xxup mae - xxup asmae , a ser aplicada a partir da 2a etapa , ficando as despesas de implantação e operação sendo custeadas por contribuições dos agentes até o início da referida etapa . ( xxmaj revogado pela xxup res xxup aneel 446 , de 22.08.2002 ) xxmaj art . 4º o xxmaj operador xxmaj nacional do xxmaj sistema xxmaj elétrico - xxup ons e o xxup mae devem firmar xxmaj acordo xxmaj operacional visando a garantir o fluxo adequado de informações entre ambos e a xxunk de procedimentos e modelos . xxmaj parágrafo único . o xxmaj acordo xxmaj operacional deverá ser submetido à homologação da xxmaj aneel até 15 dias após a publicação desta xxmaj resolução . ( xxmaj revogado pela xxup ren xxup aneel 843 , de xxunk ) xxmaj art . 5º o xxmaj capítulo 2 das xxmaj regras do xxup mae , relativo a provisão de dados de entrada , fica homologado incorporando as alterações decorrentes das seguintes diretrizes : i - o xxup ons deverá definir , até 25 de agosto de 2000 , as fronteiras atuais dos quatro submercados , definidos como sendo xxmaj norte , xxmaj nordeste , xxmaj sul e xxmaj sudeste / xxmaj centro - xxmaj oeste , que vigorarão até 31 de dezembro de 2005 ; xxup ii - o xxup ons e o xxup mae deverão estabelecer , até 31 de dezembro de 2000 , os critérios e a periodicidade para definição e alteração de submercados , contemplando mecanismo de transição para os contratos bilaterais já firmados ; xxup iii - xxmaj os contratos bilaterais a serem celebrados entre agentes , para serem registrados no xxup mae , deverão ser discriminados por período de apuração e ajustados ao ponto de referência do submercado do comprador ; xxup iv - xxmaj nas xxunk e 2ª etapas de implantação das xxmaj regras do xxup mae os fatores de perdas , por período de apuração e por submercado , aplicáveis à geração e ao consumo verificados , deverão ser calculados utilizando o mesmo procedimento adotado na definição dos contratos iniciais ; v - o xxup mae e o xxup ons deverão submeter à homologação da xxmaj aneel , para implantação a partir da 3a etapa , a metodologia de definição do ponto de referência de cada submercado e o respectivo mecanismo para cálculo dos fatores de perdas , aplicáveis à geração e ao consumo verificados , considerando os aspectos xxunk ; xxup vi - a discriminação mensal dos valores anuais dos contratos iniciais e das quotas parte de xxmaj itaipu deverá observar os critérios vigentes nesta data no xxup mae ; ( xxmaj revogado pela xxup ren xxup aneel 584 , de 29.10.2013 ) xxup vii - xxmaj para a operação do xxup mae , a partir de 1º de janeiro de 2001 , os agentes de geração deverão informar , até 15 dias antes do início do respectivo ano civil , os montantes mensais de energia assegurada de suas usinas , observando os montantes mensais de seus contratos ; xxup vii - xxmaj para a operação no xxup mae , os agentes de geração deverão informar , anualmente até dezembro , os montantes mensais de garantia física de suas usinas , observando os montantes mensais de seus contratos ; ( xxmaj redação dada pela xxup ren xxup aneel 385 de 08.12.2009 ) ( xxmaj revogado pela xxup ren xxup aneel 584 , de 29.10.2013 ) xxup viii - o xxup mae deverá submeter à homologação da xxmaj aneel , para implantação a partir da 3ª etapa , a regra de discriminação mensal dos valores anuais da energia assegurada dos agentes de geração ; ( xxmaj revogado pela xxup res xxup aneel 446 , de 22.08.2002 ) xxup ix - xxmaj as xxmaj regras do xxup mae deverão estabelecer a freqüência de submissão das declarações de preço , disponibilidade e inflexibilidade das usinas termelétricas ; xxup xxunk xxmaj as declarações referidas no inciso anterior serão de responsabilidade dos agentes de geração e deverão incluir no preço todos os componentes de custo ; xxup xi - xxmaj as declarações dos preços e da inflexibilidade das usinas térmicas participantes da xxmaj conta de xxmaj consumo de xxmaj combustíveis xxmaj fósseis - xxup ccc serão reguladas pela xxup aneel e limitadas aos valores utilizados na definição das quotas desta conta ; xxup xii - o xxup mae deverá implementar , até o início da 2a etapa , mecanismo de monitoramento do mercado que permita à xxmaj aneel acompanhar as condutas xxunk dos agentes ; xxup xiii - xxmaj na 1ª etapa , a previsão de carga por submercado e por período de apuração , utilizada na definição do preço ex - xxunk , será informada pelo xxup ons ao xxup mae ; e xxup xiv - a partir da 2ª etapa , a previsão de carga por submercado e por período de apuração , utilizada na definição do preço ex - xxunk , será baseada na declaração dos agentes , ajustada ao ponto de referência do submercado . xxmaj art . 6º o xxmaj capítulo 3 das xxmaj regras do xxmaj mercado , relativo ao cálculo do preço do xxup mae , fica homologado incorporando as alterações decorrentes das seguintes diretrizes : i - o estabelecimento dos preços do xxup mae deverá ser feito por modelos xxunk documentados , validados pela xxup aneel , xxup mae e xxup ons ; xxup ii - xxmaj os preços do xxup mae deverão ser obtidos diretamente dos modelos computacionais , sem necessidade de ajustes adicionais ; xxup iii - xxmaj na 1a etapa de implantação das xxmaj regras do xxup mae , o preço deverá ser estabelecido mensalmente ou semanalmente , em três patamares de carga por submercado , calculado ex - xxunk , utilizando - se um modelo de otimização hidrotérmica a médio prazo ; xxup iv - xxmaj na 2ª etapa o preço deverá ser estabelecido semanalmente , em três patamares de carga por submercado , calculado ex - xxunk e ex - xxunk , utilizando - se , além do modelo da 1º etapa , um modelo de otimização hidrotérmica a curto prazo ; e v - xxmaj na 3ª etapa o preço deverá ser estabelecido em período de apuração de no máximo uma hora , por submercado , calculado ex - xxunk e ex - xxunk , utilizando - se , além dos modelos da 2a etapa , um modelo de programação da operação . xxmaj art . 7º o xxmaj capítulo 5 das xxmaj regras do xxup mae , relativo às penalidades , fica homologado com a inserção da diretriz de que as penalidades deverão ser aplicadas , no que couber , de acordo com as etapas de implementação estabelecidas nesta xxmaj resolução . xxmaj art . 8º o xxmaj capítulo 6 das xxmaj regras do xxup mae , relativo aos xxmaj encargos de xxmaj serviços de xxmaj sistema xxup xxunk , fica homologado com a diretriz de que os mesmos deverão ser aplicados , no que couber , de acordo com as etapas de implementação estabelecidas nesta xxmaj resolução . xxmaj art . 9º o xxmaj capítulo 7 das xxmaj regras do xxup mae , relativo ao xxmaj mecanismo de xxmaj realocação de xxmaj energia xxup xxunk , fica homologado incorporando as alterações decorrentes das seguintes diretrizes : i - xxmaj deverá ser mantido , até 31 de dezembro de 2000 , o procedimento vigente no âmbito do xxup mae para alocação da energia gerada excedente à energia assegurada total do sistema ; xxup ii - a partir de 1º de janeiro de 2001 , a alocação da energia referida no inciso anterior deverá ser feita na proporção das energias asseguradas , do respectivo período de apuração , das usinas participantes do xxup mre ; xxup iii - xxmaj na 1ª etapa as indisponibilidades de máquinas não deverão ser consideradas no cálculo do xxup mre ; xxup iv - xxmaj as indisponibilidades das usinas , acima dos valores da taxa de saída forçada ( xxup teif ) e manutenção programada ( xxup ip ) , considerados para as usinas no cálculo de suas energias asseguradas , não serão cobertas pelo xxup mre , devendo o xxup mae submeter à homologação da xxmaj aneel um procedimento de verificação mensal baseado no desempenho de cada usina nos últimos doze meses de operação , para implantação a partir da 2a etapa ; v - a energia assegurada das usinas em fase de motorização , que ainda não xxunk capacidade suficiente para xxunk - la , deverá ser considerada igual à energia gerada ; e ( xxmaj revogado pela xxup ren xxup aneel 293 , de 04.12.2007 ) xxup vi - o xxup mae deverá submeter à homologação da xxmaj aneel , para implantação a partir da 2a etapa , procedimento de devolução à xxmaj conta de xxmaj consumo de xxmaj combustíveis xxmaj fósseis - xxup ccc , por todos os geradores participantes do xxup mre , de parcela dos gastos com geração térmica relacionada com a produção de energia acima da energia assegurada total do sistema . xxmaj art . 10 . o xxmaj capítulo 8 das xxmaj regras do xxup mae , relativo à alocação do excedente financeiro , fica homologado incorporando as alterações decorrentes das seguintes diretrizes : ( xxmaj revogado pela xxup ren xxup aneel 817 , de xxunk ) i - a alocação do excedente financeiro e das exposições positivas dos agentes deverá ser destinada para o alívio de eventuais perdas financeiras dos agentes causadas por diferenças de preços entre submercados nas seguintes transações : ( xxmaj revogado pela xxup ren xxup aneel 817 , de xxunk ) a ) realocações de energias asseguradas no xxup mre ; ( xxmaj revogado pela xxup ren xxup aneel 817 , de xxunk ) b ) contratos iniciais entre submercados ; ( xxmaj revogado pela xxup ren xxup aneel 817 , de xxunk ) c ) contratos de xxmaj itaipu ; ( xxmaj revogado pela xxup ren xxup aneel 817 , de xxunk ) d ) parcela dos contratos de compra e venda de energia importada , assinados até 12 de agosto de 1998 , considerada nos contratos iniciais ; e ( xxmaj revogado pela xxup ren xxup aneel 817 , de xxunk ) e ) os direitos de autoprodutores e concessionários de serviço público de geração em consórcios estabelecidos com base no xxmaj decreto n ° xxunk , de 6 de setembro de 1993 , ou em concessões outorgadas até 12 de agosto de 1998 , com base na xxmaj lei n ° 8.987 , de 13 de fevereiro de 1995 , ou prorrogadas com base no art . 20 da xxmaj lei n ° 9.074 , de 7 de julho de 1995 . ( xxmaj revogado pela xxup ren xxup aneel 817 , de xxunk ) xxup ii - xxmaj eventual saldo positivo do excedente financeiro e das exposições positivas dos agentes deverá ser destinado inicialmente para a compensação de eventual saldo negativo do mês anterior e , permanecendo o saldo positivo , para a redução dos encargos dos serviços do sistema , sem a formação de fundo de reserva ; ( xxmaj revogado pela xxup ren xxup aneel 817 , de xxunk ) xxup iii - o xxup mae deverá submeter à homologação da xxmaj aneel , até 30 de junho de 2001 , para implantação a partir de 1º de janeiro de 2006 , um mecanismo competitivo de distribuição dos direitos de alocação do excedente financeiro para os agentes interessados ; e ( xxmaj revogado pela xxup ren xxup aneel 817 , de xxunk ) xxup iv - xxmaj os recursos provenientes do mecanismo definido no inciso anterior deverão ser utilizados na redução dos encargos de uso da rede básica de transmissão . ( xxmaj revogado pela xxup ren xxup aneel 817 , de xxunk ) xxmaj art . 11 . o xxmaj capítulo 9 das xxmaj regras do xxup mae , relativo à contabilização , fica homologado incorporando as alterações decorrentes das seguintes diretrizes : i - xxmaj na 1a etapa a contabilização da energia verificada deverá ser feita com o preço xxunk xxunk ; xxup ii - a partir da 2a etapa deverão ser feitas duas contabilizações , uma ex - xxunk e outra xxunk xxunk ; xxup iii - a contabilização ex - xxunk considerará as declarações de carga , de disponibilidade de geração e os contratos bilaterais ; xxup iv - a contabilização ex - xxunk considerará as xxunk de disponibilidade , a disponibilidade verificada das usinas , ambas informadas pelo xxup ons , os montantes verificados de energia requerida do sistema e os compromissos resultantes da contabilização ex - xxunk ; e v - o xxup mae deverá encaminhar à xxup aneel os certificados de auditoria do sistema de contabilização , e de suas eventuais revisões , antes da primeira liquidação financeira que utilize nova versão . xxmaj art . 12 . o xxmaj capítulo 10 das xxmaj regras do xxup mae , relativo às xxunk internacionais , deverá ser adaptado de modo a se sujeitar às regulamentações de caráter geral que venham a ser estabelecidas em conjunto com os órgãos reguladores dos países xxunk . xxmaj parágrafo único . o disposto nos itens 10.3 , 10.4 e 10.5 das xxmaj regras do xxup mae deverá ser aplicado pelo xxup mae , em caráter provisório , até que estejam homologadas as regras referentes às xxunk internacionais . xxmaj art . 13 . a forma de cálculo do encargo de capacidade , objeto do xxmaj capítulo 11 das xxmaj regras do xxup mae deverá refletir as premissas constantes do \" xxmaj documento xxmaj básico para o xxmaj estabelecimento das xxmaj regras do xxmaj mercado \" , devendo ser submetida pelo xxup mae à homologação da xxup aneel visando possibilitar a sua implantação a partir da 3a etapa . xxmaj art . 14 . a forma de discriminação dos valores mensais por período de apuração - modulação - dos contratos iniciais e das energias asseguradas , objeto do xxmaj capítulo 12 das xxmaj regras do xxup mae , deverá observar as seguintes diretrizes : i - xxmaj na 1a etapa a modulação dos contratos iniciais deverá ser feita segundo os critérios vigentes nesta data no xxup mae ; xxup ii - o xxup mae deverá submeter à homologação da xxup aneel regras de modulação ex - xxunk dos contratos iniciais , para implantação a partir da 2a etapa , observados os limites da demanda e do montante mensal de energia contratados ; xxup iii - xxmaj até 31 de dezembro de 2000 , a modulação dos montantes de energia assegurada das usinas deverá ser feita segundo os critérios vigentes nesta data no xxup mae ; xxup iv - a partir de 1º de janeiro de 2001 , a modulação dos montantes de energia assegurada , por período de apuração das usinas , deverá ser informada pelos agentes de geração , com a antecedência requerida pelo xxup mae , limitada à potência disponível e respeitado o montante da energia assegurada mensal ; v - a partir de 1º de janeiro de 2001 , a modulação dos montantes de energia vinculada às quotas parte de xxmaj itaipu , por período de apuração , deverá ser informada pelos detentores dessas quotas parte , com a antecedência requerida pelo xxup mae , limitados à potência contratada e respeitado o montante mensal da energia vinculada ; e xxup vi - o xxup mae deverá submeter à homologação da xxmaj aneel , para implantação a partir da 3a etapa , a regra de modulação da energia assegurada dos agentes de geração . ( xxmaj revogado pela xxup res xxup aneel 446 , de 22.08.2002 ) xxmaj art . 15 . o provimento de potência adicional ao sistema , em caráter excepcional , deverá observar as seguintes diretrizes : ( xxmaj revogado pela xxup res xxup aneel 446 , de 22.08.2002 ) i - o xxup ons deverá encaminhar à xxup aneel relatório contendo os montantes de potência adicional e os períodos de geração necessários ao adequado atendimento do sistema ; ( xxmaj revogado pela xxup res xxup aneel 446 , de 22.08.2002 ) xxup ii - a xxup aneel encaminhará ao xxup mae a necessidade de potência adicional , estabelecendo os limites de preços fixo e variável a serem considerados no pagamento dessa geração ; ( xxmaj revogado pela xxup res xxup aneel 446 , de 22.08.2002 ) xxup iii - o xxup mae deverá estabelecer um processo competitivo para seleção das ofertas de geração de modo a suprir as necessidades de potência adicional ; ( xxmaj revogado pela xxup res xxup aneel 446 , de 22.08.2002 ) xxup iv - o pagamento da potência adicional deverá garantir os preços pactuados no processo competitivo , utilizando - se , para isso , o xxmaj encargo de xxmaj serviços do xxmaj sistema ( xxup ess ) , obedecendo os seguintes critérios : ( xxmaj revogado pela xxup res xxup aneel 446 , de 22.08.2002 ) a ) quando o preço do xxup mae for igual ou superior ao preço total pactuado ( fixo e variável ) , a remuneração será ao preço total do xxunk , devendo a diferença em relação ao preço do xxup mae ser xxunk para o xxup ess ; ( xxmaj revogado pela xxup res xxup aneel 446 , de 22.08.2002 ) b ) quando o preço do xxup mae for inferior ao preço total e superior ao preço variável , a usina será despachada e a diferença entre o preço total e o preço do xxup mae será coberta pelo xxup ess ; e ( xxmaj revogado pela xxup res xxup aneel 446 , de 22.08.2002 ) c ) quando o preço do xxup mae for inferior ao preço variável , a usina não será despachada e o preço fixo será coberto pelo xxup ess . ( xxmaj revogado pela xxup res xxup aneel 446 , de 22.08.2002 ) xxmaj art . 16 . xxmaj os capítulos 1 e 4 das xxmaj regras do xxmaj mercado , relativos às definições e interpretações , e à agregação de dados de medição , ficam homologadas incorporando as adequações necessárias decorrentes das diretrizes apresentadas nesta xxmaj resolução . xxmaj art . 17 . xxmaj revoga - se , a partir de 1º de setembro de 2000 , a xxmaj resolução n ° 222 , de 30 de junho de 1999 . xxmaj art . 18 . xxmaj esta xxmaj resolução entra em vigor na data de sua publicação . xxup josé xxup mário xxup miranda xxup abdo xxmaj este texto não substitui o publicado no xxup d.o. de xxunk , seção 1 , p. 43 , v. 138 , n. xxup xxunk,xxbos xxup agência xxup nacional xxup de xxup energia xxup elétrica - xxup aneel xxup resolução xxmaj nº 104 , xxup de 29 xxup de xxup março xxup de 2001 . xxmaj autoriza a empresa xxmaj fuhrmet xxmaj energy xxmaj brasil xxmaj ltda . a estabelecer - se como xxmaj produtor xxmaj independente de xxmaj energia xxmaj elétrica mediante a implantação da central geradora eólica denominada xxmaj parque xxmaj eólico de xxmaj beberibe , localizada na xxmaj praia das xxmaj fontes , xxmaj município de xxmaj beberibe , xxmaj estado do xxmaj ceará . o xxup diretor - xxup geral xxup da xxup agência xxup nacional xxup de xxup energia xxup elétrica - xxup aneel , no uso de suas atribuições regimentais , de acordo com deliberação da xxmaj diretoria , tendo em vista o disposto no inciso xxup xxxi , art . 4o , xxmaj anexo i , do xxmaj decreto no 2.335,de 6 de outubro de 1997 , nos art . 11 da xxmaj lei no 9.074 , de 7 de julho de 1995 , e o que consta do xxmaj processo n o xxunk / 01 - 61 , resolve : xxmaj art . 1o xxmaj autorizar a empresa xxmaj fuhrmet xxmaj energy xxmaj brasil xxmaj ltda . , com sede à xxmaj rua xxmaj professor xxmaj francisco xxmaj gonçalves , no xxunk , xxmaj município de xxmaj fortaleza , xxmaj estado do xxmaj ceará , inscrita no xxup cnpj / xxup mf sob o no xxunk / 0001 - 46 , a estabelecer - se como xxmaj produtor xxmaj independente de xxmaj energia xxmaj elétrica mediante a implantação da central geradora eólica e as respectivas instalações de transmissão de interesse restrito , denominada xxmaj parque xxmaj eólico de xxmaj beberibe , cuja central será composta por vinte e cinco aerogeradores de 1.000 kw cada , totalizando 25.000 kw de potência instalada , localizada na xxmaj praia das xxmaj fontes , xxmaj município de xxmaj beberibe , xxmaj estado do xxmaj ceará . xxmaj parágrafo único . a energia elétrica produzida pela xxmaj autorizada destina - se à comercialização na modalidade de produção independente , em conformidade com as condições estabelecidas nos arts . 12 , 15 e 16 da xxmaj lei no 9.074 , de 7 de julho de 1995 , regulamentada pelo xxmaj decreto no 2.003 , de 10 de setembro de 1996 . xxmaj art . 2o xxmaj constituem obrigações da xxmaj autorizada : i - implantar os vinte e cinco aerogeradores da central geradora eólica , conforme cronograma apresentado à xxmaj agência xxmaj nacional de xxmaj energia xxmaj elétrica - xxup aneel , obedecendo os marcos a seguir descritos : a ) xxmaj licença xxmaj ambiental de xxmaj instalação : até 15 de fevereiro de 2001 ; b ) início das obras civis : até 1o de setembro de 2001 ; c ) início da montagem eletromecânica : até 1o de outubro de 2001 ; d ) xxmaj licença xxmaj ambiental de xxmaj operação : até 1o de janeiro de 2002 ; e ) início do comissionamento : até 15 de janeiro de 2002 ; f ) início da operação comercial : até 1o de março de 2002 . xxup ii - cumprir e fazer cumprir as normas legais e regulamentares de geração e comercialização de energia elétrica , respondendo perante à xxup aneel , usuários e terceiros , pelas conseqüências danosas decorrentes da exploração da central geradora eólica ; xxup iii - efetuar o pagamento , nas épocas próprias definidas nas normas específicas : a ) da xxmaj taxa de xxmaj fiscalização de xxmaj serviços de xxmaj energia xxmaj elétrica , nos termos da legislação específica ; e b ) dos encargos de uso dos sistemas de transmissão e distribuição de energia elétrica , quando devidos , celebrando , em conformidade com a regulamentação específica , os contratos de uso e conexão requeridos . xxup iv - submeter - se à fiscalização da xxup aneel ; v - organizar e manter permanentemente atualizado o cadastro de bens e instalações da central geradora eólica , comunicando à xxup aneel qualquer alteração das características de suas unidades geradoras ; xxup vi - manter em arquivo , à disposição da fiscalização da xxup aneel , xxmaj estudo de xxmaj impacto xxmaj ambiental ( xxup eia ) , xxmaj relatório de xxmaj impacto xxmaj ambiental ( xxup rima ) ou estudo formalmente requerido pelo órgão licenciador ambiental , projetos básico e executivo , registros operativos e de produção de energia elétrica , resultados dos ensaios de comissionamento ; xxup vii - observar e cumprir a legislação ambiental e de recursos hídricos , providenciando as licenças correspondentes ; xxup viii - submeter - se a toda e qualquer regulamentação de caráter geral existente ou que venha a ser estabelecida pela xxup aneel , especialmente aquelas relativas à produção independente de energia elétrica ; xxup ix - comunicar à xxup aneel , em caso de transferência de controle acionário ou alteração da razão social da empresa , para fins de averbação nos registros de autorização ; x - prestar todas as informações relativas ao andamento da obra , facilitar os serviços de fiscalização e comunicar a conclusão da mesma , no prazo de sessenta dias contados da data em que essa efetivamente ocorrer ; e xxup xi - aplicar , anualmente , o montante de , no mínimo , um por cento de sua receita operacional líquida em pesquisa e desenvolvimento do setor elétrico , nos termos da xxmaj lei no 9.991 , de 24 de julho de 2000 . xxmaj parágrafo único . xxmaj pelo descumprimento das obrigações decorrentes da legislação de regência da produção e comercialização de energia elétrica e do disposto nesta xxmaj resolução , a xxmaj autorizada ficará sujeita às penalidades estabelecidas na legislação e nos regulamentos específicos . xxmaj art . 3o xxmaj constituem direitos da xxmaj autorizada : i - acessar livremente , na forma da legislação , o sistema de transmissão e distribuição , mediante o pagamento dos respectivos encargos de uso e de conexão , quando devidos ; xxup ii - modificar ou ampliar , desde que previamente autorizado pela xxup aneel , a central geradora eólica e respectivas instalações de transmissão de interesse restrito ; xxup iii - comercializar a energia elétrica produzida , nos termos da legislação ; e xxup iv - oferecer , em garantia de financiamentos para a realização de obras e serviços , os direitos emergentes desta xxmaj autorização , bem assim os bens constituídos pela central geradora , desde que a eventual execução da garantia não xxunk a continuidade da produção de energia elétrica pela central geradora . xxmaj art . 4o a presente xxmaj autorização vigorará pelo prazo de trinta anos , contado da data de publicação desta xxmaj resolução , podendo ser prorrogada a pedido da interessada e a critério da xxup aneel : § 1o a xxmaj autorização poderá ser revogada nas seguintes situações : i - produção de energia elétrica em desacordo com as prescrições desta xxmaj resolução e legislação específica ; xxup ii - descumprimento das obrigações decorrentes desta xxmaj autorização ; xxup iii - transferência a terceiros de quaisquer das unidades geradoras de energia sem prévia autorização da xxup aneel ; xxup iv - solicitação da xxmaj autorizada ; ou v - desativação da central geradora . § 2o xxmaj em nenhuma hipótese a revogação da xxmaj autorização acarretará , para a xxup aneel , qualquer responsabilidade em relação aos encargos , ônus , obrigações ou compromissos assumidos pela xxmaj autorizada com relação a terceiros , inclusive aquelas relativas aos seus empregados . xxmaj art . 5o xxmaj esta xxmaj resolução entra em vigor na data de sua publicação . xxup josé xxup mário xxup miranda xxup abdo xxmaj este texto não substitui o publicado no xxup d.o de xxunk , seção 1 , p. 80 , v. 139 , n. xxup xxunk ( xxmaj autorizada a transferência , regularizada a alteração da configuração e prorrogados os prazos estabelecidos no inciso i , art . 2º , pela xxup res xxup aneel 381 de xxunk ) . ( xxmaj ampliada a capacidade instalada e alterado o sistema de transmissão , pela xxup rea xxup aneel xxunk de 26.02.2008 ) ( xxmaj registrada a alteração da razão social da xxmaj eco xxmaj energy xxmaj beberibe xxmaj ltda , para xxmaj usina xxmaj eólica xxmaj xxunk xxmaj beberibe xxup s.a , pelo xxup dsp xxup scg / xxup aneel xxunk de xxunk ) ( xxmaj registrada alteração da razão social da empresa xxmaj usina xxmaj eólica xxmaj xxunk xxmaj beberibe xxup s.a , para xxmaj eólica xxmaj beberibe xxup s.a , pelo xxup dsp xxup scg / xxup aneel xxunk de xxunk ),xxbos xxup agência xxup nacional xxup de xxup energia xxup elétrica - xxup aneel xxup resolução xxmaj no 121 , xxup de 19 xxup de xxup março xxup de 2002 ( * ) xxmaj autoriza , para fins de regularização , a empresa xxmaj equipav xxup s.a. xxmaj açúcar e xxmaj álcool a estabelecer - se como xxmaj produtor xxmaj independente de xxmaj energia xxmaj elétrica , mediante a exploração da central geradora termelétrica xxmaj equipav , localizada no xxmaj município de xxmaj promissão , xxmaj estado de xxmaj são xxmaj paulo . o xxup diretor - xxup geral xxup da xxup agência xxup nacional xxup de xxup energia xxup elétrica - xxup aneel , no uso de suas atribuições regimentais , de acordo com deliberação da xxmaj diretoria , tendo em vista o disposto nos arts . 6o e 11 da xxmaj lei no 9.074 , de 7 de julho de 1995 , regulamentada pelo xxmaj decreto no 2.003 , de 10 de setembro de 1996 , inciso xxup xxxi , art . 4o , xxmaj anexo i do xxmaj decreto no 2.335 , de 6 de outubro de 1997 e o que consta do xxmaj processo no xxunk / 00 - 55 , resolve : xxmaj art . 1o xxmaj autorizar , para fins de regularização , a empresa xxmaj equipav s / a xxmaj açúcar e xxmaj álcool , com sede na xxmaj rodovia xxmaj marechal xxmaj rondon , km 455 , no xxmaj município de xxmaj promissão , xxmaj estado de xxmaj são xxmaj paulo , inscrita no xxup cnpj sob o no xxunk / xxunk - 81 , a estabelecer - se como xxmaj produtor xxmaj independente de xxmaj energia xxmaj elétrica , mediante a exploração da central geradora termelétrica xxmaj equipav , com quatro turbogeradores a vapor , sendo três de 1.600 kw cada , em operação desde 1982 , e um de 8.000 xxup kw , em operação desde 1995 , totalizando xxunk kw , utilizando como combustível bagaço de cana - de - açúcar , e respectivo sistema de transmissão de interesse restrito constituído de uma subestação da usina , com capacidade de 4.500 kva , composto por três transformadores de 0,44 / 13,8 kv , interligando com a xxmaj companhia xxmaj paulista de xxmaj força e xxmaj luz - xxup cpfl , concessionária local , nessa subestação , localizadas nas instalações industriais e sede da empresa . xxmaj art . 2o xxmaj autorizar a empresa xxmaj equipav s / a xxmaj açúcar e xxmaj álcool a ampliar a referida central geradora termelétrica mediante a substituição dos quatro turbogeradores existentes por dois turbogeradores a vapor , sendo um de xxunk kw e outro de xxunk kw , totalizando xxunk kw de capacidade final instalada , a partir do mês de agosto de 2002 , e respectivo sistema de transmissão de interesse restrito , constituído , na sua configuração final , de subestação , com capacidade de 60 xxup mva , composta de dois transformadores elevadores de 30 xxup mva cada - 13,8 / 138 kv , de que deriva uma linha de transmissão de 138 kv , com extensão de 11 km até a sua conexão na subestação da xxmaj companhia xxmaj paulista de xxmaj força e xxmaj luz - xxup cpfl , no xxmaj município de xxmaj xxunk , xxmaj estado de xxmaj são xxmaj paulo . xxmaj parágrafo único . a energia elétrica produzida pela autorizada destina - se à comercialização na modalidade de produção independente de energia , em conformidade com as condições estabelecidas nos arts . 12 , 15 e 16 da xxmaj lei no 9.074 , de 7 de julho de 1995 , regulamentada pelo xxmaj decreto no 2.003 , de 10 de setembro de 1996 . xxmaj art . 3o xxmaj constituem obrigações da autorizada : i ampliar a central termelétrica mencionada , conforme cronograma apresentado à xxmaj agência xxmaj nacional de xxmaj energia xxmaj elétrica - xxup aneel , obedecendo aos marcos a seguir descritos : a ) início do comissionamento : até 15 de julho de 2002 ; b ) obtenção da xxmaj licença de xxmaj operação : até 14 de julho de 2002 ; c ) início da operação comercial : até 31 de agosto de 2002 . xxup ii cumprir e fazer cumprir as normas legais e regulamentares de geração e comercialização de energia elétrica , respondendo perante à xxup aneel , usuários e terceiros , pelas conseqüências danosas decorrentes da exploração da central termelétrica ; xxup iii - efetuar solicitação de acesso aos sistemas de transmissão e distribuição , nos termos da xxmaj resolução no 281 , de 1o de outubro de 1999 , com redação dada pela xxmaj resolução no 208 , de 7 de junho de 2001 , observando especialmente o disposto em seu art . 9o , no que tange aos prazos compatíveis com o atendimento do cronograma de implantação da central geradora termelétrica ; xxup iv - celebrar os contratos de conexão e uso dos sistemas de transmissão e distribuição , nos termos da legislação específica ; v - efetuar o pagamento , nas épocas próprias definidas nas normas específicas : a ) das cotas mensais da xxmaj conta de xxmaj consumo de xxmaj combustíveis - xxup ccc que lhe forem atribuídas ; b ) da xxmaj taxa de xxmaj fiscalização de xxmaj serviços de xxmaj energia xxmaj elétrica , nos termos da legislação específica ; c ) dos encargos de uso dos sistemas de transmissão e distribuição decorrentes da operação da central geradora termelétrica ; xxup vi submeter - se à fiscalização da xxup aneel ; xxup vii organizar e manter permanentemente atualizado o cadastro de bens e instalações da central termelétrica , comunicando à xxup aneel qualquer alteração das características das unidades geradoras ; xxup viii manter em arquivo , à disposição da fiscalização da xxup aneel , xxmaj estudo de xxmaj impacto xxmaj ambiental ( xxup eia ) , xxmaj relatório de xxmaj impacto xxmaj ambiental ( xxup rima ) ou estudo formalmente requerido pelo órgão licenciador ambiental , projetos básico e executivo , registros operativos e de produção de energia elétrica e os resultados dos ensaios de comissionamento ; xxup ix observar e cumprir a legislação ambiental e de recursos hídricos , providenciando as licenças correspondentes ; x submeter - se a toda e qualquer regulamentação de caráter geral existente ou que venha a ser estabelecida pela xxup aneel , especialmente aquelas relativas à produção independente de energia elétrica ; xxup xi comunicar à xxup aneel a transferência de controle acionário ou a alteração da razão social da empresa , para fins de averbação nos registros de autorizações ; xxup xii prestar todas as informações relativas ao andamento do empreendimento , facilitar os serviços de fiscalização e comunicar a conclusão das obras , no prazo de sessenta dias , contado a partir da data em que esta efetivamente ocorrer ; e xxmaj parágrafo único . xxmaj pelo descumprimento das obrigações decorrentes da legislação de regência de produção e comercialização de energia elétrica e do disposto nesta xxmaj resolução , a autorizada ficará sujeita às penalidades estabelecidas na legislação e nos regulamentos específicos . xxmaj art . 4o xxmaj constituem direitos da autorizada : i acessar livremente , na forma da legislação , o sistema de transmissão e distribuição , mediante pagamento dos respectivos encargos de uso e de conexão , quando devidos ; xxup ii comercializar a energia elétrica produzida , nos termos da legislação ; xxup iii modificar ou ampliar , desde que previamente autorizado pela xxup aneel , a central geradora termelétrica e as instalações de interesse restrito ; e xxup iv - oferecer , em garantia de financiamentos obtidos para a realização de obras e serviços , os direitos emergentes desta autorização , assim como os bens constituídos pela central termelétrica , desde que a eventual execução da garantia não comprometa a continuidade da produção de energia elétrica pela central geradora termelétrica . xxmaj art . 5o a presente autorização vigorará pelo prazo de trinta anos , contado a partir da data de publicação desta xxmaj resolução , podendo ser prorrogada a pedido da interessada e a critério da xxup aneel . § 1o a autorização poderá ser revogada nas seguintes situações : i produção de energia elétrica em desacordo com as prescrições desta xxmaj resolução e legislação específica ; xxup ii descumprimento das obrigações decorrentes desta autorização ; xxup iii transferência a terceiros de quaisquer das unidades geradoras de energia elétrica , sem prévia autorização da xxup aneel ; xxup iv solicitação da autorizada ; ou v desativação da central geradora termelétrica . § 2o xxmaj em nenhuma hipótese a revogação da autorização acarretará , para a xxup aneel , qualquer responsabilidade quanto a encargos , ônus , obrigações ou compromissos assumidos pela autorizada com relação a terceiros , inclusive aquelas relativas aos seus empregados . xxmaj art . 6o xxmaj esta xxmaj resolução entra em vigor na data de sua publicação . xxup josé xxup mário xxup miranda xxup abdo ( * ) xxmaj republicado por ter saído com incorreção , do original publicado no xxup dou de nº 54 , de 20 / 03 / 2002 , seção 1 , página 122 . xxmaj este texto não substitui o republicado no xxup d.o. de 11.04.2002 , seção 1 , p. 100 , v. 139 , n. 69 . ( xxmaj regularizada a alteração de potência pelo xxup dsp xxup aneel 1014 de 30.12.2003 ) ( xxmaj alterados o sistema de transmissão de interesse restrito da xxup ute e a razão social , para xxmaj xxunk do xxmaj brasil xxup s.a , pelo xxup dsp xxup scg / xxup aneel xxunk de xxunk )\n",
       "y: LMLabelList\n",
       ",,,,\n",
       "Path: .;\n",
       "\n",
       "Test: None, model=SequentialRNN(\n",
       "  (0): AWD_LSTM(\n",
       "    (encoder): Embedding(24208, 400, padding_idx=1)\n",
       "    (encoder_dp): EmbeddingDropout(\n",
       "      (emb): Embedding(24208, 400, padding_idx=1)\n",
       "    )\n",
       "    (rnns): ModuleList(\n",
       "      (0): WeightDropout(\n",
       "        (module): LSTM(400, 1152, batch_first=True)\n",
       "      )\n",
       "      (1): WeightDropout(\n",
       "        (module): LSTM(1152, 1152, batch_first=True)\n",
       "      )\n",
       "      (2): WeightDropout(\n",
       "        (module): LSTM(1152, 400, batch_first=True)\n",
       "      )\n",
       "    )\n",
       "    (input_dp): RNNDropout()\n",
       "    (hidden_dps): ModuleList(\n",
       "      (0): RNNDropout()\n",
       "      (1): RNNDropout()\n",
       "      (2): RNNDropout()\n",
       "    )\n",
       "  )\n",
       "  (1): LinearDecoder(\n",
       "    (decoder): Linear(in_features=400, out_features=24208, bias=True)\n",
       "    (output_dp): RNNDropout()\n",
       "  )\n",
       "), opt_func=functools.partial(<class 'torch.optim.adam.Adam'>, betas=(0.9, 0.99)), loss_func=FlattenedLoss of CrossEntropyLoss(), metrics=[<function accuracy at 0x7f73aaea75f0>], true_wd=True, bn_wd=True, wd=0.01, train_bn=True, path=PosixPath('.'), model_dir='models', callback_fns=[functools.partial(<class 'fastai.basic_train.Recorder'>, add_time=True, silent=False), <class 'fastai.train.ShowGraph'>], callbacks=[RNNTrainer\n",
       "learn: ...\n",
       "alpha: 2.0\n",
       "beta: 1.0], layer_groups=[Sequential(\n",
       "  (0): WeightDropout(\n",
       "    (module): LSTM(400, 1152, batch_first=True)\n",
       "  )\n",
       "  (1): RNNDropout()\n",
       "), Sequential(\n",
       "  (0): WeightDropout(\n",
       "    (module): LSTM(1152, 1152, batch_first=True)\n",
       "  )\n",
       "  (1): RNNDropout()\n",
       "), Sequential(\n",
       "  (0): WeightDropout(\n",
       "    (module): LSTM(1152, 400, batch_first=True)\n",
       "  )\n",
       "  (1): RNNDropout()\n",
       "), Sequential(\n",
       "  (0): Embedding(24208, 400, padding_idx=1)\n",
       "  (1): EmbeddingDropout(\n",
       "    (emb): Embedding(24208, 400, padding_idx=1)\n",
       "  )\n",
       "  (2): LinearDecoder(\n",
       "    (decoder): Linear(in_features=400, out_features=24208, bias=True)\n",
       "    (output_dp): RNNDropout()\n",
       "  )\n",
       ")], add_time=True, silent=False, cb_fns_registered=False)"
      ]
     },
     "execution_count": 19,
     "metadata": {},
     "output_type": "execute_result"
    }
   ],
   "source": [
    "data_lm = load_data('.',file='data_lm')\n",
    "learn_lm = language_model_learner(data_lm, AWD_LSTM, drop_mult = 0.5, pretrained=False, callback_fns=ShowGraph)\n",
    "learn_lm.load('learn_lm')"
   ]
  },
  {
   "cell_type": "code",
   "execution_count": 20,
   "metadata": {
    "colab": {
     "base_uri": "https://localhost:8080/",
     "height": 68
    },
    "colab_type": "code",
    "id": "RqglWvadPRYN",
    "outputId": "6189c9ff-bf46-45bd-b734-47f4a47101f5",
    "scrolled": true
   },
   "outputs": [
    {
     "name": "stdout",
     "output_type": "stream",
     "text": [
      "1 out of 496\n",
      "101 out of 496\n",
      "201 out of 496\n",
      "301 out of 496\n",
      "401 out of 496\n"
     ]
    }
   ],
   "source": [
    "#Here I get the vector representation of the text using the trained encoder\n",
    "mbe = MultiBatchEncoder(70,1400,learn_lm.model[0])\n",
    "\n",
    "def masked_concat_pool(outputs, mask):\n",
    "    \"Pool MultiBatchEncoder outputs into one vector [last_hidden, max_pool, avg_pool].\"\n",
    "    output = outputs[-1]\n",
    "    avg_pool = output.masked_fill(mask[:, :, None], 0).mean(dim=1)\n",
    "    avg_pool *= output.size(1) / (output.size(1)-mask.type(avg_pool.dtype).sum(dim=1))[:,None]\n",
    "    max_pool = output.masked_fill(mask[:,:,None], -float('inf')).max(dim=1)[0]\n",
    "    x = torch.cat([output[:,-1], max_pool, avg_pool], 1)\n",
    "    return x\n",
    "\n",
    "X = np.zeros((1,1200))\n",
    "i=0\n",
    "for norma in normas:\n",
    "    xb,yb = learn_lm.data.one_item(norma)\n",
    "    sentence = torch.cuda.LongTensor(xb.tolist()[0]).unsqueeze(0)\n",
    "    raw_outputs, outputs, masks = mbe.forward(sentence)\n",
    "    sentence_rep = masked_concat_pool(outputs, masks)\n",
    "    X = np.append(X,sentence_rep,axis=0)\n",
    "    if i % 100 == 0: print(str(i+1) + ' out of ' + str(len(normas)))\n",
    "    i+=1"
   ]
  },
  {
   "cell_type": "code",
   "execution_count": 21,
   "metadata": {
    "colab": {},
    "colab_type": "code",
    "id": "Gp2yDu8bPRYS"
   },
   "outputs": [],
   "source": [
    "#the first row is the initialized as zeros, i dont need it\n",
    "X = np.delete(X, (0), axis=0)"
   ]
  },
  {
   "cell_type": "code",
   "execution_count": 22,
   "metadata": {},
   "outputs": [
    {
     "data": {
      "text/plain": [
       "(496, 1200)"
      ]
     },
     "execution_count": 22,
     "metadata": {},
     "output_type": "execute_result"
    }
   ],
   "source": [
    "X.shape"
   ]
  },
  {
   "cell_type": "code",
   "execution_count": 23,
   "metadata": {
    "colab": {},
    "colab_type": "code",
    "id": "w2IJ_HfxPRYT"
   },
   "outputs": [],
   "source": [
    "#save the texts repesentation in a file\n",
    "np.save('X_LM', X)"
   ]
  },
  {
   "cell_type": "code",
   "execution_count": 0,
   "metadata": {
    "colab": {},
    "colab_type": "code",
    "id": "O5WoXEec6moy"
   },
   "outputs": [],
   "source": []
  }
 ],
 "metadata": {
  "accelerator": "GPU",
  "colab": {
   "name": "Classificacao_Normas_ANEEL.ipynb",
   "provenance": []
  },
  "kernelspec": {
   "display_name": "Python 3",
   "language": "python",
   "name": "python3"
  },
  "language_info": {
   "codemirror_mode": {
    "name": "ipython",
    "version": 3
   },
   "file_extension": ".py",
   "mimetype": "text/x-python",
   "name": "python",
   "nbconvert_exporter": "python",
   "pygments_lexer": "ipython3",
   "version": "3.7.4"
  }
 },
 "nbformat": 4,
 "nbformat_minor": 1
}
