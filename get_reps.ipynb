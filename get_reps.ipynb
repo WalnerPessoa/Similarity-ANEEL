{
  "nbformat": 4,
  "nbformat_minor": 0,
  "metadata": {
    "accelerator": "GPU",
    "colab": {
      "name": "Classificacao_Normas_ANEEL.ipynb",
      "provenance": []
    },
    "kernelspec": {
      "name": "python3",
      "display_name": "Python 3"
    },
    "language_info": {
      "codemirror_mode": {
        "name": "ipython",
        "version": 3
      },
      "file_extension": ".py",
      "mimetype": "text/x-python",
      "name": "python",
      "nbconvert_exporter": "python",
      "pygments_lexer": "ipython3",
      "version": "3.7.4"
    }
  },
  "cells": [
    {
      "cell_type": "code",
      "metadata": {
        "colab_type": "code",
        "id": "aweZjEfYggDt",
        "colab": {}
      },
      "source": [
        "%reload_ext autoreload\n",
        "%autoreload 2\n",
        "%matplotlib inline"
      ],
      "execution_count": 0,
      "outputs": []
    },
    {
      "cell_type": "code",
      "metadata": {
        "colab_type": "code",
        "id": "Jombk9A5NvoG",
        "colab": {}
      },
      "source": [
        "from fastai import *\n",
        "from fastai.text import *"
      ],
      "execution_count": 0,
      "outputs": []
    },
    {
      "cell_type": "markdown",
      "metadata": {
        "id": "7u5rewQCPRXi",
        "colab_type": "text"
      },
      "source": [
        "## Creating the DataBunch for the language model"
      ]
    },
    {
      "cell_type": "markdown",
      "metadata": {
        "id": "iXzujDAVvXot",
        "colab_type": "text"
      },
      "source": [
        "At first, getting the csv file with the texts."
      ]
    },
    {
      "cell_type": "code",
      "metadata": {
        "id": "Uy_AcCYccBQ2",
        "colab_type": "code",
        "outputId": "bc20e5da-0f24-4996-b018-fcbb4732487e",
        "colab": {
          "base_uri": "https://localhost:8080/",
          "height": 136
        }
      },
      "source": [
        "! git clone https://github.com/thiagodma/Similarity-ANEEL"
      ],
      "execution_count": 3,
      "outputs": [
        {
          "output_type": "stream",
          "text": [
            "Cloning into 'Similarity-ANEEL'...\n",
            "remote: Enumerating objects: 68, done.\u001b[K\n",
            "remote: Counting objects: 100% (68/68), done.\u001b[K\n",
            "remote: Compressing objects: 100% (52/52), done.\u001b[K\n",
            "remote: Total 123 (delta 36), reused 44 (delta 16), pack-reused 55\u001b[K\n",
            "Receiving objects: 100% (123/123), 38.92 MiB | 9.25 MiB/s, done.\n",
            "Resolving deltas: 100% (60/60), done.\n"
          ],
          "name": "stdout"
        }
      ]
    },
    {
      "cell_type": "code",
      "metadata": {
        "id": "AV3NyhPDbgqY",
        "colab_type": "code",
        "outputId": "0a1c93a0-ada2-48fb-e7c4-a1e8d4eaddf3",
        "colab": {
          "base_uri": "https://localhost:8080/",
          "height": 666
        }
      },
      "source": [
        "df = pd.read_csv('Similarity-ANEEL/LanguageModelFile.csv', delimiter='|')\n",
        "df.head()"
      ],
      "execution_count": 4,
      "outputs": [
        {
          "output_type": "execute_result",
          "data": {
            "text/html": [
              "<div>\n",
              "<style scoped>\n",
              "    .dataframe tbody tr th:only-of-type {\n",
              "        vertical-align: middle;\n",
              "    }\n",
              "\n",
              "    .dataframe tbody tr th {\n",
              "        vertical-align: top;\n",
              "    }\n",
              "\n",
              "    .dataframe thead th {\n",
              "        text-align: right;\n",
              "    }\n",
              "</style>\n",
              "<table border=\"1\" class=\"dataframe\">\n",
              "  <thead>\n",
              "    <tr style=\"text-align: right;\">\n",
              "      <th></th>\n",
              "      <th>Unnamed: 0</th>\n",
              "      <th>Norma</th>\n",
              "      <th>Data de publicação</th>\n",
              "      <th>Ementa</th>\n",
              "      <th>Órgão de origem</th>\n",
              "      <th>Assuntos</th>\n",
              "      <th>Texto Integral</th>\n",
              "      <th>Tipo</th>\n",
              "      <th>Filename</th>\n",
              "      <th>Texto Extraído</th>\n",
              "    </tr>\n",
              "  </thead>\n",
              "  <tbody>\n",
              "    <tr>\n",
              "      <th>0</th>\n",
              "      <td>0</td>\n",
              "      <td>INA - INSTRUÇÃO ADMINISTRATIVA 001/2019</td>\n",
              "      <td>05/04/2019</td>\n",
              "      <td>Dispõe sobre procedimentos para atualização, m...</td>\n",
              "      <td>SGI/ANEEL</td>\n",
              "      <td>Procedimento \\n</td>\n",
              "      <td>http://www2.aneel.gov.br/cedoc/ina2019001sgi.pdf</td>\n",
              "      <td>INA</td>\n",
              "      <td>ina2019001sgi.pdf</td>\n",
              "      <td>AGÊNCIA NACIONAL DE ENERGIA ELÉTRICA - ANEEL  ...</td>\n",
              "    </tr>\n",
              "    <tr>\n",
              "      <th>1</th>\n",
              "      <td>1</td>\n",
              "      <td>INA - INSTRUÇÃO ADMINISTRATIVA 001/2018</td>\n",
              "      <td>25/05/2018</td>\n",
              "      <td>Dispõe sobre procedimentos para a manutenção d...</td>\n",
              "      <td>SGI/ANEEL</td>\n",
              "      <td>Procedimento \\n</td>\n",
              "      <td>http://www2.aneel.gov.br/cedoc/ina2018001sgi.pdf</td>\n",
              "      <td>INA</td>\n",
              "      <td>ina2018001sgi.pdf</td>\n",
              "      <td>AGÊNCIA NACIONAL DE ENERGIA ELÉTRICA - ANEEL  ...</td>\n",
              "    </tr>\n",
              "    <tr>\n",
              "      <th>2</th>\n",
              "      <td>2</td>\n",
              "      <td>INA - INSTRUÇÃO ADMINISTRATIVA 001/2018</td>\n",
              "      <td>04/05/2018</td>\n",
              "      <td>Altera o limite do valor de reembolso relativo...</td>\n",
              "      <td>SRH/ANEEL</td>\n",
              "      <td>Alteração \\n</td>\n",
              "      <td>http://www2.aneel.gov.br/cedoc/ina2018001srh.pdf</td>\n",
              "      <td>INA</td>\n",
              "      <td>ina2018001srh.pdf</td>\n",
              "      <td>AGÊNCIA NACIONAL DE ENERGIA ELÉTRICA - ANEEL  ...</td>\n",
              "    </tr>\n",
              "    <tr>\n",
              "      <th>3</th>\n",
              "      <td>3</td>\n",
              "      <td>INA - INSTRUÇÃO ADMINISTRATIVA 002/2019</td>\n",
              "      <td>20/05/2019</td>\n",
              "      <td>Dispõe sobre a composição e o funcionamento do...</td>\n",
              "      <td>SGI/ANEEL</td>\n",
              "      <td>Fixação \\n</td>\n",
              "      <td>http://www2.aneel.gov.br/cedoc/ina2019002sgi.pdf</td>\n",
              "      <td>INA</td>\n",
              "      <td>ina2019002sgi.pdf</td>\n",
              "      <td>AGÊNCIA NACIONAL DE ENERGIA ELÉTRICA  ANEEL   ...</td>\n",
              "    </tr>\n",
              "    <tr>\n",
              "      <th>4</th>\n",
              "      <td>4</td>\n",
              "      <td>INA - INSTRUÇÃO ADMINISTRATIVA 003/2019</td>\n",
              "      <td>13/09/2019</td>\n",
              "      <td>Dispõe sobre a definição de acrônimos das coor...</td>\n",
              "      <td>SGI/ANEEL</td>\n",
              "      <td>Fixação \\n</td>\n",
              "      <td>http://www2.aneel.gov.br/cedoc/ina2019003sgi.pdf</td>\n",
              "      <td>INA</td>\n",
              "      <td>ina2019003sgi.pdf</td>\n",
              "      <td>AGÊNCIA NACIONAL DE ENERGIA ELÉTRICA - ANEEL  ...</td>\n",
              "    </tr>\n",
              "  </tbody>\n",
              "</table>\n",
              "</div>"
            ],
            "text/plain": [
              "   Unnamed: 0  ...                                     Texto Extraído\n",
              "0           0  ...  AGÊNCIA NACIONAL DE ENERGIA ELÉTRICA - ANEEL  ...\n",
              "1           1  ...  AGÊNCIA NACIONAL DE ENERGIA ELÉTRICA - ANEEL  ...\n",
              "2           2  ...  AGÊNCIA NACIONAL DE ENERGIA ELÉTRICA - ANEEL  ...\n",
              "3           3  ...  AGÊNCIA NACIONAL DE ENERGIA ELÉTRICA  ANEEL   ...\n",
              "4           4  ...  AGÊNCIA NACIONAL DE ENERGIA ELÉTRICA - ANEEL  ...\n",
              "\n",
              "[5 rows x 10 columns]"
            ]
          },
          "metadata": {
            "tags": []
          },
          "execution_count": 4
        }
      ]
    },
    {
      "cell_type": "code",
      "metadata": {
        "id": "6shFo7xnqijB",
        "colab_type": "code",
        "outputId": "f54cd4d4-9588-479e-a598-2bc50675a17b",
        "colab": {
          "base_uri": "https://localhost:8080/",
          "height": 204
        }
      },
      "source": [
        "df.isnull().sum()"
      ],
      "execution_count": 5,
      "outputs": [
        {
          "output_type": "execute_result",
          "data": {
            "text/plain": [
              "Unnamed: 0            0\n",
              "Norma                 0\n",
              "Data de publicação    0\n",
              "Ementa                0\n",
              "Órgão de origem       0\n",
              "Assuntos              0\n",
              "Texto Integral        0\n",
              "Tipo                  0\n",
              "Filename              0\n",
              "Texto Extraído        1\n",
              "dtype: int64"
            ]
          },
          "metadata": {
            "tags": []
          },
          "execution_count": 5
        }
      ]
    },
    {
      "cell_type": "markdown",
      "metadata": {
        "id": "aH6lhdV7vqbS",
        "colab_type": "text"
      },
      "source": [
        "Here it was identified that exist NaN cells in the DataFrame, whose colunms should be stripped."
      ]
    },
    {
      "cell_type": "code",
      "metadata": {
        "id": "G33kL00OqxF_",
        "colab_type": "code",
        "outputId": "240cf3f5-c4e6-456c-b6f5-39e7a532a67f",
        "colab": {
          "base_uri": "https://localhost:8080/",
          "height": 204
        }
      },
      "source": [
        "df = df.dropna()\n",
        "df.isnull().sum()"
      ],
      "execution_count": 6,
      "outputs": [
        {
          "output_type": "execute_result",
          "data": {
            "text/plain": [
              "Unnamed: 0            0\n",
              "Norma                 0\n",
              "Data de publicação    0\n",
              "Ementa                0\n",
              "Órgão de origem       0\n",
              "Assuntos              0\n",
              "Texto Integral        0\n",
              "Tipo                  0\n",
              "Filename              0\n",
              "Texto Extraído        0\n",
              "dtype: int64"
            ]
          },
          "metadata": {
            "tags": []
          },
          "execution_count": 6
        }
      ]
    },
    {
      "cell_type": "code",
      "metadata": {
        "id": "eNJBahuPrxic",
        "colab_type": "code",
        "colab": {}
      },
      "source": [
        "df.to_csv(r'./LanguageModelFile.csv', sep='|')"
      ],
      "execution_count": 0,
      "outputs": []
    },
    {
      "cell_type": "code",
      "metadata": {
        "colab_type": "code",
        "id": "WxnE3oOthDDo",
        "colab": {}
      },
      "source": [
        "data_lm = TextLMDataBunch.from_csv('.','LanguageModelFile.csv',delimiter='|',text_cols='Texto Extraído',label_cols='Assuntos')\n",
        "# The first two parameters are the path to the csv (current directory) and the csv name.\n",
        "\n",
        "#data_lm.save('data_lm')"
      ],
      "execution_count": 0,
      "outputs": []
    },
    {
      "cell_type": "code",
      "metadata": {
        "colab_type": "code",
        "id": "r8fLcji9iSi6",
        "outputId": "08214201-3229-444e-e5c6-7c5ce183350f",
        "scrolled": true,
        "colab": {
          "base_uri": "https://localhost:8080/",
          "height": 323
        }
      },
      "source": [
        "data_lm.show_batch()"
      ],
      "execution_count": 9,
      "outputs": [
        {
          "output_type": "display_data",
          "data": {
            "text/html": [
              "<table border=\"1\" class=\"dataframe\">\n",
              "  <thead>\n",
              "    <tr style=\"text-align: right;\">\n",
              "      <th>idx</th>\n",
              "      <th>text</th>\n",
              "    </tr>\n",
              "  </thead>\n",
              "  <tbody>\n",
              "    <tr>\n",
              "      <td>0</td>\n",
              "      <td>geral xxup da xxup agência xxup nacional xxup de xxup energia xxup elétrica xxup aneel , no uso de suas atribuições regimentais , de acordo com deliberação da xxmaj diretoria , tendo em vista o disposto no art . 2º da xxmaj lei nº 9.427 , de 26 de dezembro de 1996 , na xxmaj resolução xxmaj normativa no 414 , de 9 de setembro de 2010 , nos xxmaj</td>\n",
              "    </tr>\n",
              "    <tr>\n",
              "      <td>1</td>\n",
              "      <td>em nenhuma hipótese , a revogação da autorização acarretará , para a xxup aneel , qualquer responsabilidade em relação aos encargos , ônus , obrigações ou compromissos assumidos pela xxmaj autorizada com relação a terceiros , inclusive àquelas relativas aos seus empregados . xxmaj art . 6o xxmaj aplicam - se à xxmaj autorização de que trata o art . 2o desta xxmaj resolução , no que couber , as</td>\n",
              "    </tr>\n",
              "    <tr>\n",
              "      <td>2</td>\n",
              "      <td>xxmaj resolução no 650 26 / 12 / 2001 xxmaj são xxmaj bernardo xxunk xxmaj caeté xxmaj empreendimentos xxmaj energéticos xxmaj ltda . xxmaj resolução no 524 03 / 12 / 2001 xxmaj senador xxmaj xxunk xxmaj pinheiro xxunk xxmaj centrais xxmaj elétricas da xxmaj mantiqueira xxup cem xxmaj resolução no 606 05 / 11 / 2002 xxmaj arvoredo xxunk xxmaj centrais xxmaj elétricas da xxmaj mantiqueira xxup cem xxmaj</td>\n",
              "    </tr>\n",
              "    <tr>\n",
              "      <td>3</td>\n",
              "      <td>xxmaj xxunk , xxmaj xxunk , xxmaj marabá xxmaj paulista , xxmaj xxunk , xxmaj xxunk , xxmaj meridiano , xxmaj xxunk , xxmaj xxunk xxmaj estrela , xxmaj xxunk , xxmaj mirante do xxmaj paranapanema , xxmaj mogi - xxmaj guaçu , xxmaj mogi - xxmaj mirim , xxmaj xxunk , xxmaj monte xxmaj xxunk ( somente os distritos de xxmaj itaúba e xxmaj junqueira ) , xxmaj monte</td>\n",
              "    </tr>\n",
              "    <tr>\n",
              "      <td>4</td>\n",
              "      <td>xxunk xxunk 65,31 57,70 xxup cpee xxup quadro g xxup tarifa xxup de xxup ultrapassagem xxup horo - xxup sazonal xxup verde xxup demanda ( xxup r$ / kw ) xxup subgrupo xxup período xxup seco xxup ou xxup úmido xxmaj a3a ( 30 a 44 kv ) 21,62 xxup a4 ( 2,3 a 25 kv ) 20,00 xxup as ( xxmaj subterrâneo ) 30,68 xxup cpee xxup quadro i</td>\n",
              "    </tr>\n",
              "  </tbody>\n",
              "</table>"
            ],
            "text/plain": [
              "<IPython.core.display.HTML object>"
            ]
          },
          "metadata": {
            "tags": []
          }
        }
      ]
    },
    {
      "cell_type": "code",
      "metadata": {
        "id": "gOLaYP53t93J",
        "colab_type": "code",
        "colab": {}
      },
      "source": [
        "data_lm.save('data_lm')"
      ],
      "execution_count": 0,
      "outputs": []
    },
    {
      "cell_type": "markdown",
      "metadata": {
        "id": "jAj6j5ZGPRXr",
        "colab_type": "text"
      },
      "source": [
        "## Training the Language Model"
      ]
    },
    {
      "cell_type": "code",
      "metadata": {
        "colab_type": "code",
        "id": "5UGvV-bik9Zo",
        "colab": {}
      },
      "source": [
        "learn_lm = language_model_learner(data_lm, AWD_LSTM, drop_mult = 0.5, pretrained=False, callback_fns=ShowGraph)"
      ],
      "execution_count": 0,
      "outputs": []
    },
    {
      "cell_type": "code",
      "metadata": {
        "colab_type": "code",
        "id": "bh5iI7s6l3dv",
        "outputId": "441a3271-895d-4000-a597-0af9f9e97367",
        "scrolled": true,
        "colab": {
          "base_uri": "https://localhost:8080/",
          "height": 296
        }
      },
      "source": [
        "learn_lm.lr_find()\n",
        "learn_lm.recorder.plot()"
      ],
      "execution_count": 12,
      "outputs": [
        {
          "output_type": "display_data",
          "data": {
            "text/html": [
              ""
            ],
            "text/plain": [
              "<IPython.core.display.HTML object>"
            ]
          },
          "metadata": {
            "tags": []
          }
        },
        {
          "output_type": "stream",
          "text": [
            "LR Finder is complete, type {learner_name}.recorder.plot() to see the graph.\n"
          ],
          "name": "stdout"
        },
        {
          "output_type": "display_data",
          "data": {
            "image/png": "[encoded data removed]",
            "text/plain": [
              "<Figure size 432x288 with 1 Axes>"
            ]
          },
          "metadata": {
            "tags": []
          }
        }
      ]
    },
    {
      "cell_type": "code",
      "metadata": {
        "colab_type": "code",
        "id": "htr9hORnl_66",
        "outputId": "ad370ece-f9c7-48b2-c73c-21dec2bf29e6",
        "colab": {
          "base_uri": "https://localhost:8080/",
          "height": 490
        }
      },
      "source": [
        "max_lr = 1e-2\n",
        "learn_lm.fit_one_cycle(4, max_lr=max_lr, moms=(0.8,0.7), callbacks=[callbacks.SaveModelCallback(learn_lm, every='improvement', monitor='accuracy', name='learn_lm')])"
      ],
      "execution_count": 15,
      "outputs": [
        {
          "output_type": "display_data",
          "data": {
            "text/html": [
              "<table border=\"1\" class=\"dataframe\">\n",
              "  <thead>\n",
              "    <tr style=\"text-align: left;\">\n",
              "      <th>epoch</th>\n",
              "      <th>train_loss</th>\n",
              "      <th>valid_loss</th>\n",
              "      <th>accuracy</th>\n",
              "      <th>time</th>\n",
              "    </tr>\n",
              "  </thead>\n",
              "  <tbody>\n",
              "    <tr>\n",
              "      <td>0</td>\n",
              "      <td>2.516972</td>\n",
              "      <td>2.460955</td>\n",
              "      <td>0.551054</td>\n",
              "      <td>05:11</td>\n",
              "    </tr>\n",
              "    <tr>\n",
              "      <td>1</td>\n",
              "      <td>1.989316</td>\n",
              "      <td>2.143403</td>\n",
              "      <td>0.591101</td>\n",
              "      <td>05:13</td>\n",
              "    </tr>\n",
              "    <tr>\n",
              "      <td>2</td>\n",
              "      <td>1.816209</td>\n",
              "      <td>1.875489</td>\n",
              "      <td>0.632740</td>\n",
              "      <td>05:12</td>\n",
              "    </tr>\n",
              "    <tr>\n",
              "      <td>3</td>\n",
              "      <td>1.648240</td>\n",
              "      <td>1.793020</td>\n",
              "      <td>0.648919</td>\n",
              "      <td>05:12</td>\n",
              "    </tr>\n",
              "  </tbody>\n",
              "</table>"
            ],
            "text/plain": [
              "<IPython.core.display.HTML object>"
            ]
          },
          "metadata": {
            "tags": []
          }
        },
        {
          "output_type": "display_data",
          "data": {
            "image/png": "[encoded data removed]",
            "text/plain": [
              "<Figure size 432x288 with 1 Axes>"
            ]
          },
          "metadata": {
            "tags": []
          }
        },
        {
          "output_type": "stream",
          "text": [
            "Better model found at epoch 0 with accuracy value: 0.5510535836219788.\n",
            "Better model found at epoch 1 with accuracy value: 0.5911008715629578.\n",
            "Better model found at epoch 2 with accuracy value: 0.6327400207519531.\n",
            "Better model found at epoch 3 with accuracy value: 0.6489194631576538.\n"
          ],
          "name": "stdout"
        }
      ]
    },
    {
      "cell_type": "code",
      "metadata": {
        "colab_type": "code",
        "id": "lpJPrAOeqrEU",
        "colab": {}
      },
      "source": [
        "#Load the best version of the language model\n",
        "learn_lm.load('learn_lm')\n",
        "learn_lm.save_encoder('enc')"
      ],
      "execution_count": 0,
      "outputs": []
    },
    {
      "cell_type": "code",
      "metadata": {
        "colab_type": "code",
        "id": "tNmANFscwA0f",
        "outputId": "e6bd884f-6339-49a0-f5a0-6e04cb3755e9",
        "colab": {
          "base_uri": "https://localhost:8080/",
          "height": 54
        }
      },
      "source": [
        "#Seeing what kind of text it generates\n",
        "print(learn_lm.predict('Art. 1º Esta resolução visa',n_words=200,temperature=0.8))"
      ],
      "execution_count": 17,
      "outputs": [
        {
          "output_type": "stream",
          "text": [
            "Art. 1º Esta resolução visa retificada o fornecimento de energia elétrica a ser recebida pela Centrais Elétricas do Sul do Brasil s / A. - ELETRONORTE , para a empresa Eletrowind S.A. , com a vigência da Resolução no 073 , de 20 de janeiro de 1999 . Art . 4o Determinar que a Geradora Termelétrica S.A. - Filial Porto Alegre a estabelecer - se como Produtor Independente de Energia Elétrica mediante a implantação da central termelétrica , mediante a instalação de um turbogerador a vapor da usina em duas unidades geradoras , utilizando como combustível gás natural , localizada nas instalações industriais e sede da empresa . Art . 3º Autorizar a CAT - LEO Energia S.A. a estabelecer - se como Produtor Independente de Energia Elétrica , mediante a exploração da central geradora termelétrica Eólica Ombreiras , com sete unidades geradoras de 8.732 kw cada , totalizando a capacidade nominal de 850 kw para um final de 07 de abril de 1998 , conforme Autorização ANEEL , resolve\n"
          ],
          "name": "stdout"
        }
      ]
    },
    {
      "cell_type": "markdown",
      "metadata": {
        "id": "zkkA9CCDPRYE",
        "colab_type": "text"
      },
      "source": [
        "## Now, extracting the vector representation of the texts"
      ]
    },
    {
      "cell_type": "code",
      "metadata": {
        "id": "lJbjNqdhPRYE",
        "colab_type": "code",
        "colab": {}
      },
      "source": [
        "#loading de list with all the texts that I want to get the representation\n",
        "normas = list(pd.read_csv('Similarity-ANEEL/interesting_norms.csv',sep='|',encoding='utf-8')['Texto Extraído'])"
      ],
      "execution_count": 0,
      "outputs": []
    },
    {
      "cell_type": "code",
      "metadata": {
        "id": "zC6SH0ikPRYG",
        "colab_type": "code",
        "colab": {}
      },
      "source": [
        "data_lm = load_data('.',file='data_lm')\n",
        "learn_lm = language_model_learner(data_lm, AWD_LSTM, drop_mult = 0.5, pretrained=False, callback_fns=ShowGraph)\n",
        "learn_lm.load('learn_lm')"
      ],
      "execution_count": 0,
      "outputs": []
    },
    {
      "cell_type": "code",
      "metadata": {
        "scrolled": true,
        "id": "RqglWvadPRYN",
        "colab_type": "code",
        "outputId": "d069123e-b8ae-4f5f-8090-6b5f68c5fbf1",
        "colab": {
          "base_uri": "https://localhost:8080/",
          "height": 102
        }
      },
      "source": [
        "#Here I get the vector representation of the text using the trained encoder\n",
        "mbe = MultiBatchEncoder(70,1400,learn_lm.model[0])\n",
        "\n",
        "def masked_concat_pool(outputs, mask):\n",
        "    \"Pool MultiBatchEncoder outputs into one vector [last_hidden, max_pool, avg_pool].\"\n",
        "    output = outputs[-1]\n",
        "    avg_pool = output.masked_fill(mask[:, :, None], 0).mean(dim=1)\n",
        "    avg_pool *= output.size(1) / (output.size(1)-mask.type(avg_pool.dtype).sum(dim=1))[:,None]\n",
        "    max_pool = output.masked_fill(mask[:,:,None], -float('inf')).max(dim=1)[0]\n",
        "    x = torch.cat([output[:,-1], max_pool, avg_pool], 1)\n",
        "    return x\n",
        "\n",
        "X = np.zeros((1,1200))\n",
        "i=0\n",
        "for norma in normas:\n",
        "    xb,yb = learn_lm.data.one_item(norma)\n",
        "    sentence = torch.cuda.LongTensor(xb.tolist()[0]).unsqueeze(0)\n",
        "    raw_outputs, outputs, masks = mbe.forward(sentence)\n",
        "    sentence_rep = masked_concat_pool(outputs, masks)\n",
        "    X = np.append(X,sentence_rep,axis=0)\n",
        "    if i % 100 == 0: print(str(i+1) + ' out of ' + str(len(normas)))\n",
        "    i+=1"
      ],
      "execution_count": 20,
      "outputs": [
        {
          "output_type": "stream",
          "text": [
            "1 out of 496\n",
            "101 out of 496\n",
            "201 out of 496\n",
            "301 out of 496\n",
            "401 out of 496\n"
          ],
          "name": "stdout"
        }
      ]
    },
    {
      "cell_type": "code",
      "metadata": {
        "id": "Gp2yDu8bPRYS",
        "colab_type": "code",
        "colab": {}
      },
      "source": [
        "#the first row is the initialized as zeros, i dont need it\n",
        "X = np.delete(X, (0), axis=0)"
      ],
      "execution_count": 0,
      "outputs": []
    },
    {
      "cell_type": "code",
      "metadata": {
        "id": "w2IJ_HfxPRYT",
        "colab_type": "code",
        "colab": {}
      },
      "source": [
        "#save the texts repesentation in a file\n",
        "np.save('X_LM', X)"
      ],
      "execution_count": 0,
      "outputs": []
    },
    {
      "cell_type": "code",
      "metadata": {
        "id": "O5WoXEec6moy",
        "colab_type": "code",
        "colab": {}
      },
      "source": [
        ""
      ],
      "execution_count": 0,
      "outputs": []
    }
  ]
}